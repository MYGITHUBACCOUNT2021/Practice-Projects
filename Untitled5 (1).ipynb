{
 "cells": [
  {
   "cell_type": "markdown",
   "id": "a9560386-4eac-4e78-976c-ecfdf22854e9",
   "metadata": {},
   "source": [
    "# importing required liaberaries"
   ]
  },
  {
   "cell_type": "code",
   "execution_count": 1,
   "id": "b8a9561c-74dd-485f-b2d8-7f998d27b736",
   "metadata": {},
   "outputs": [],
   "source": [
    "import numpy as np\n",
    "import pandas as pd\n",
    "import seaborn as sns\n",
    "import matplotlib.pyplot as plt\n",
    "\n",
    "from sklearn.preprocessing import LabelEncoder,StandardScaler\n",
    "from sklearn.model_selection import train_test_split,cross_val_score,GridSearchCV\n",
    "from sklearn.metrics import accuracy_score,classification_report,r2_score\n",
    "from sklearn.linear_model import LogisticRegression,LinearRegression,Ridge,Lasso,ElasticNet"
   ]
  },
  {
   "cell_type": "markdown",
   "id": "757d751b-d472-41e0-8f78-c9be813247f5",
   "metadata": {},
   "source": [
    "# Load dataset"
   ]
  },
  {
   "cell_type": "code",
   "execution_count": 2,
   "id": "3e1c9da5-e0d2-497c-a9ee-fa3526313bad",
   "metadata": {},
   "outputs": [
    {
     "data": {
      "text/html": [
       "<div>\n",
       "<style scoped>\n",
       "    .dataframe tbody tr th:only-of-type {\n",
       "        vertical-align: middle;\n",
       "    }\n",
       "\n",
       "    .dataframe tbody tr th {\n",
       "        vertical-align: top;\n",
       "    }\n",
       "\n",
       "    .dataframe thead th {\n",
       "        text-align: right;\n",
       "    }\n",
       "</style>\n",
       "<table border=\"1\" class=\"dataframe\">\n",
       "  <thead>\n",
       "    <tr style=\"text-align: right;\">\n",
       "      <th></th>\n",
       "      <th>country</th>\n",
       "      <th>country_long</th>\n",
       "      <th>name</th>\n",
       "      <th>gppd_idnr</th>\n",
       "      <th>capacity_mw</th>\n",
       "      <th>latitude</th>\n",
       "      <th>longitude</th>\n",
       "      <th>primary_fuel</th>\n",
       "      <th>other_fuel1</th>\n",
       "      <th>other_fuel2</th>\n",
       "      <th>...</th>\n",
       "      <th>geolocation_source</th>\n",
       "      <th>wepp_id</th>\n",
       "      <th>year_of_capacity_data</th>\n",
       "      <th>generation_gwh_2013</th>\n",
       "      <th>generation_gwh_2014</th>\n",
       "      <th>generation_gwh_2015</th>\n",
       "      <th>generation_gwh_2016</th>\n",
       "      <th>generation_gwh_2017</th>\n",
       "      <th>generation_data_source</th>\n",
       "      <th>estimated_generation_gwh</th>\n",
       "    </tr>\n",
       "  </thead>\n",
       "  <tbody>\n",
       "    <tr>\n",
       "      <th>0</th>\n",
       "      <td>IND</td>\n",
       "      <td>India</td>\n",
       "      <td>ACME Solar Tower</td>\n",
       "      <td>WRI1020239</td>\n",
       "      <td>2.5</td>\n",
       "      <td>28.1839</td>\n",
       "      <td>73.2407</td>\n",
       "      <td>Solar</td>\n",
       "      <td>NaN</td>\n",
       "      <td>NaN</td>\n",
       "      <td>...</td>\n",
       "      <td>National Renewable Energy Laboratory</td>\n",
       "      <td>NaN</td>\n",
       "      <td>NaN</td>\n",
       "      <td>NaN</td>\n",
       "      <td>NaN</td>\n",
       "      <td>NaN</td>\n",
       "      <td>NaN</td>\n",
       "      <td>NaN</td>\n",
       "      <td>NaN</td>\n",
       "      <td>NaN</td>\n",
       "    </tr>\n",
       "    <tr>\n",
       "      <th>1</th>\n",
       "      <td>IND</td>\n",
       "      <td>India</td>\n",
       "      <td>ADITYA CEMENT WORKS</td>\n",
       "      <td>WRI1019881</td>\n",
       "      <td>98.0</td>\n",
       "      <td>24.7663</td>\n",
       "      <td>74.6090</td>\n",
       "      <td>Coal</td>\n",
       "      <td>NaN</td>\n",
       "      <td>NaN</td>\n",
       "      <td>...</td>\n",
       "      <td>WRI</td>\n",
       "      <td>NaN</td>\n",
       "      <td>NaN</td>\n",
       "      <td>NaN</td>\n",
       "      <td>NaN</td>\n",
       "      <td>NaN</td>\n",
       "      <td>NaN</td>\n",
       "      <td>NaN</td>\n",
       "      <td>NaN</td>\n",
       "      <td>NaN</td>\n",
       "    </tr>\n",
       "    <tr>\n",
       "      <th>2</th>\n",
       "      <td>IND</td>\n",
       "      <td>India</td>\n",
       "      <td>AES Saurashtra Windfarms</td>\n",
       "      <td>WRI1026669</td>\n",
       "      <td>39.2</td>\n",
       "      <td>21.9038</td>\n",
       "      <td>69.3732</td>\n",
       "      <td>Wind</td>\n",
       "      <td>NaN</td>\n",
       "      <td>NaN</td>\n",
       "      <td>...</td>\n",
       "      <td>WRI</td>\n",
       "      <td>NaN</td>\n",
       "      <td>NaN</td>\n",
       "      <td>NaN</td>\n",
       "      <td>NaN</td>\n",
       "      <td>NaN</td>\n",
       "      <td>NaN</td>\n",
       "      <td>NaN</td>\n",
       "      <td>NaN</td>\n",
       "      <td>NaN</td>\n",
       "    </tr>\n",
       "    <tr>\n",
       "      <th>3</th>\n",
       "      <td>IND</td>\n",
       "      <td>India</td>\n",
       "      <td>AGARTALA GT</td>\n",
       "      <td>IND0000001</td>\n",
       "      <td>135.0</td>\n",
       "      <td>23.8712</td>\n",
       "      <td>91.3602</td>\n",
       "      <td>Gas</td>\n",
       "      <td>NaN</td>\n",
       "      <td>NaN</td>\n",
       "      <td>...</td>\n",
       "      <td>WRI</td>\n",
       "      <td>NaN</td>\n",
       "      <td>2018.0</td>\n",
       "      <td>631.777928</td>\n",
       "      <td>617.789264</td>\n",
       "      <td>843.747000</td>\n",
       "      <td>886.004428</td>\n",
       "      <td>663.774500</td>\n",
       "      <td>Central Electricity Authority</td>\n",
       "      <td>NaN</td>\n",
       "    </tr>\n",
       "    <tr>\n",
       "      <th>4</th>\n",
       "      <td>IND</td>\n",
       "      <td>India</td>\n",
       "      <td>AKALTARA TPP</td>\n",
       "      <td>IND0000002</td>\n",
       "      <td>1800.0</td>\n",
       "      <td>21.9603</td>\n",
       "      <td>82.4091</td>\n",
       "      <td>Coal</td>\n",
       "      <td>Oil</td>\n",
       "      <td>NaN</td>\n",
       "      <td>...</td>\n",
       "      <td>WRI</td>\n",
       "      <td>NaN</td>\n",
       "      <td>2018.0</td>\n",
       "      <td>1668.290000</td>\n",
       "      <td>3035.550000</td>\n",
       "      <td>5916.370000</td>\n",
       "      <td>6243.000000</td>\n",
       "      <td>5385.579736</td>\n",
       "      <td>Central Electricity Authority</td>\n",
       "      <td>NaN</td>\n",
       "    </tr>\n",
       "    <tr>\n",
       "      <th>...</th>\n",
       "      <td>...</td>\n",
       "      <td>...</td>\n",
       "      <td>...</td>\n",
       "      <td>...</td>\n",
       "      <td>...</td>\n",
       "      <td>...</td>\n",
       "      <td>...</td>\n",
       "      <td>...</td>\n",
       "      <td>...</td>\n",
       "      <td>...</td>\n",
       "      <td>...</td>\n",
       "      <td>...</td>\n",
       "      <td>...</td>\n",
       "      <td>...</td>\n",
       "      <td>...</td>\n",
       "      <td>...</td>\n",
       "      <td>...</td>\n",
       "      <td>...</td>\n",
       "      <td>...</td>\n",
       "      <td>...</td>\n",
       "      <td>...</td>\n",
       "    </tr>\n",
       "    <tr>\n",
       "      <th>903</th>\n",
       "      <td>IND</td>\n",
       "      <td>India</td>\n",
       "      <td>YERMARUS TPP</td>\n",
       "      <td>IND0000513</td>\n",
       "      <td>1600.0</td>\n",
       "      <td>16.2949</td>\n",
       "      <td>77.3568</td>\n",
       "      <td>Coal</td>\n",
       "      <td>Oil</td>\n",
       "      <td>NaN</td>\n",
       "      <td>...</td>\n",
       "      <td>WRI</td>\n",
       "      <td>NaN</td>\n",
       "      <td>2018.0</td>\n",
       "      <td>NaN</td>\n",
       "      <td>NaN</td>\n",
       "      <td>0.994875</td>\n",
       "      <td>233.596650</td>\n",
       "      <td>865.400000</td>\n",
       "      <td>Central Electricity Authority</td>\n",
       "      <td>NaN</td>\n",
       "    </tr>\n",
       "    <tr>\n",
       "      <th>904</th>\n",
       "      <td>IND</td>\n",
       "      <td>India</td>\n",
       "      <td>Yelesandra Solar Power Plant</td>\n",
       "      <td>WRI1026222</td>\n",
       "      <td>3.0</td>\n",
       "      <td>12.8932</td>\n",
       "      <td>78.1654</td>\n",
       "      <td>Solar</td>\n",
       "      <td>NaN</td>\n",
       "      <td>NaN</td>\n",
       "      <td>...</td>\n",
       "      <td>Industry About</td>\n",
       "      <td>NaN</td>\n",
       "      <td>NaN</td>\n",
       "      <td>NaN</td>\n",
       "      <td>NaN</td>\n",
       "      <td>NaN</td>\n",
       "      <td>NaN</td>\n",
       "      <td>NaN</td>\n",
       "      <td>NaN</td>\n",
       "      <td>NaN</td>\n",
       "    </tr>\n",
       "    <tr>\n",
       "      <th>905</th>\n",
       "      <td>IND</td>\n",
       "      <td>India</td>\n",
       "      <td>Yelisirur wind power project</td>\n",
       "      <td>WRI1026776</td>\n",
       "      <td>25.5</td>\n",
       "      <td>15.2758</td>\n",
       "      <td>75.5811</td>\n",
       "      <td>Wind</td>\n",
       "      <td>NaN</td>\n",
       "      <td>NaN</td>\n",
       "      <td>...</td>\n",
       "      <td>WRI</td>\n",
       "      <td>NaN</td>\n",
       "      <td>NaN</td>\n",
       "      <td>NaN</td>\n",
       "      <td>NaN</td>\n",
       "      <td>NaN</td>\n",
       "      <td>NaN</td>\n",
       "      <td>NaN</td>\n",
       "      <td>NaN</td>\n",
       "      <td>NaN</td>\n",
       "    </tr>\n",
       "    <tr>\n",
       "      <th>906</th>\n",
       "      <td>IND</td>\n",
       "      <td>India</td>\n",
       "      <td>ZAWAR MINES</td>\n",
       "      <td>WRI1019901</td>\n",
       "      <td>80.0</td>\n",
       "      <td>24.3500</td>\n",
       "      <td>73.7477</td>\n",
       "      <td>Coal</td>\n",
       "      <td>NaN</td>\n",
       "      <td>NaN</td>\n",
       "      <td>...</td>\n",
       "      <td>WRI</td>\n",
       "      <td>NaN</td>\n",
       "      <td>NaN</td>\n",
       "      <td>NaN</td>\n",
       "      <td>NaN</td>\n",
       "      <td>NaN</td>\n",
       "      <td>NaN</td>\n",
       "      <td>NaN</td>\n",
       "      <td>NaN</td>\n",
       "      <td>NaN</td>\n",
       "    </tr>\n",
       "    <tr>\n",
       "      <th>907</th>\n",
       "      <td>IND</td>\n",
       "      <td>India</td>\n",
       "      <td>iEnergy Theni Wind Farm</td>\n",
       "      <td>WRI1026761</td>\n",
       "      <td>16.5</td>\n",
       "      <td>9.9344</td>\n",
       "      <td>77.4768</td>\n",
       "      <td>Wind</td>\n",
       "      <td>NaN</td>\n",
       "      <td>NaN</td>\n",
       "      <td>...</td>\n",
       "      <td>WRI</td>\n",
       "      <td>NaN</td>\n",
       "      <td>NaN</td>\n",
       "      <td>NaN</td>\n",
       "      <td>NaN</td>\n",
       "      <td>NaN</td>\n",
       "      <td>NaN</td>\n",
       "      <td>NaN</td>\n",
       "      <td>NaN</td>\n",
       "      <td>NaN</td>\n",
       "    </tr>\n",
       "  </tbody>\n",
       "</table>\n",
       "<p>908 rows × 25 columns</p>\n",
       "</div>"
      ],
      "text/plain": [
       "    country country_long                          name   gppd_idnr  \\\n",
       "0       IND        India              ACME Solar Tower  WRI1020239   \n",
       "1       IND        India           ADITYA CEMENT WORKS  WRI1019881   \n",
       "2       IND        India      AES Saurashtra Windfarms  WRI1026669   \n",
       "3       IND        India                   AGARTALA GT  IND0000001   \n",
       "4       IND        India                  AKALTARA TPP  IND0000002   \n",
       "..      ...          ...                           ...         ...   \n",
       "903     IND        India                  YERMARUS TPP  IND0000513   \n",
       "904     IND        India  Yelesandra Solar Power Plant  WRI1026222   \n",
       "905     IND        India  Yelisirur wind power project  WRI1026776   \n",
       "906     IND        India                   ZAWAR MINES  WRI1019901   \n",
       "907     IND        India       iEnergy Theni Wind Farm  WRI1026761   \n",
       "\n",
       "     capacity_mw  latitude  longitude primary_fuel other_fuel1 other_fuel2  \\\n",
       "0            2.5   28.1839    73.2407        Solar         NaN         NaN   \n",
       "1           98.0   24.7663    74.6090         Coal         NaN         NaN   \n",
       "2           39.2   21.9038    69.3732         Wind         NaN         NaN   \n",
       "3          135.0   23.8712    91.3602          Gas         NaN         NaN   \n",
       "4         1800.0   21.9603    82.4091         Coal         Oil         NaN   \n",
       "..           ...       ...        ...          ...         ...         ...   \n",
       "903       1600.0   16.2949    77.3568         Coal         Oil         NaN   \n",
       "904          3.0   12.8932    78.1654        Solar         NaN         NaN   \n",
       "905         25.5   15.2758    75.5811         Wind         NaN         NaN   \n",
       "906         80.0   24.3500    73.7477         Coal         NaN         NaN   \n",
       "907         16.5    9.9344    77.4768         Wind         NaN         NaN   \n",
       "\n",
       "     ...                    geolocation_source  wepp_id year_of_capacity_data  \\\n",
       "0    ...  National Renewable Energy Laboratory      NaN                   NaN   \n",
       "1    ...                                   WRI      NaN                   NaN   \n",
       "2    ...                                   WRI      NaN                   NaN   \n",
       "3    ...                                   WRI      NaN                2018.0   \n",
       "4    ...                                   WRI      NaN                2018.0   \n",
       "..   ...                                   ...      ...                   ...   \n",
       "903  ...                                   WRI      NaN                2018.0   \n",
       "904  ...                        Industry About      NaN                   NaN   \n",
       "905  ...                                   WRI      NaN                   NaN   \n",
       "906  ...                                   WRI      NaN                   NaN   \n",
       "907  ...                                   WRI      NaN                   NaN   \n",
       "\n",
       "    generation_gwh_2013 generation_gwh_2014 generation_gwh_2015  \\\n",
       "0                   NaN                 NaN                 NaN   \n",
       "1                   NaN                 NaN                 NaN   \n",
       "2                   NaN                 NaN                 NaN   \n",
       "3            631.777928          617.789264          843.747000   \n",
       "4           1668.290000         3035.550000         5916.370000   \n",
       "..                  ...                 ...                 ...   \n",
       "903                 NaN                 NaN            0.994875   \n",
       "904                 NaN                 NaN                 NaN   \n",
       "905                 NaN                 NaN                 NaN   \n",
       "906                 NaN                 NaN                 NaN   \n",
       "907                 NaN                 NaN                 NaN   \n",
       "\n",
       "     generation_gwh_2016  generation_gwh_2017         generation_data_source  \\\n",
       "0                    NaN                  NaN                            NaN   \n",
       "1                    NaN                  NaN                            NaN   \n",
       "2                    NaN                  NaN                            NaN   \n",
       "3             886.004428           663.774500  Central Electricity Authority   \n",
       "4            6243.000000          5385.579736  Central Electricity Authority   \n",
       "..                   ...                  ...                            ...   \n",
       "903           233.596650           865.400000  Central Electricity Authority   \n",
       "904                  NaN                  NaN                            NaN   \n",
       "905                  NaN                  NaN                            NaN   \n",
       "906                  NaN                  NaN                            NaN   \n",
       "907                  NaN                  NaN                            NaN   \n",
       "\n",
       "     estimated_generation_gwh  \n",
       "0                         NaN  \n",
       "1                         NaN  \n",
       "2                         NaN  \n",
       "3                         NaN  \n",
       "4                         NaN  \n",
       "..                        ...  \n",
       "903                       NaN  \n",
       "904                       NaN  \n",
       "905                       NaN  \n",
       "906                       NaN  \n",
       "907                       NaN  \n",
       "\n",
       "[908 rows x 25 columns]"
      ]
     },
     "execution_count": 2,
     "metadata": {},
     "output_type": "execute_result"
    }
   ],
   "source": [
    "data = pd.read_csv('database_IND.csv')\n",
    "data"
   ]
  },
  {
   "cell_type": "markdown",
   "id": "348812ba-eb5b-49f8-ac5a-433a2cc4776b",
   "metadata": {},
   "source": [
    "As per above observation Total number of rows = 908 and total number of columns = 25"
   ]
  },
  {
   "cell_type": "markdown",
   "id": "8d287454-d875-43fd-93c8-ae920873d9dd",
   "metadata": {},
   "source": [
    "# Checking Missing Values"
   ]
  },
  {
   "cell_type": "code",
   "execution_count": 3,
   "id": "5cc5a84d-26c7-4997-8ed0-f1fbf4a124d1",
   "metadata": {},
   "outputs": [
    {
     "data": {
      "text/plain": [
       "country                       0.000000\n",
       "country_long                  0.000000\n",
       "name                          0.000000\n",
       "gppd_idnr                     0.000000\n",
       "capacity_mw                   0.000000\n",
       "latitude                      5.066079\n",
       "longitude                     5.066079\n",
       "primary_fuel                  0.000000\n",
       "other_fuel1                  78.083700\n",
       "other_fuel2                  99.889868\n",
       "other_fuel3                 100.000000\n",
       "commissioning_year           41.850220\n",
       "owner                        62.334802\n",
       "source                        0.000000\n",
       "url                           0.000000\n",
       "geolocation_source            2.092511\n",
       "wepp_id                     100.000000\n",
       "year_of_capacity_data        42.731278\n",
       "generation_gwh_2013          57.709251\n",
       "generation_gwh_2014          55.837004\n",
       "generation_gwh_2015          53.193833\n",
       "generation_gwh_2016          51.872247\n",
       "generation_gwh_2017          51.211454\n",
       "generation_data_source       50.440529\n",
       "estimated_generation_gwh    100.000000\n",
       "dtype: float64"
      ]
     },
     "execution_count": 3,
     "metadata": {},
     "output_type": "execute_result"
    }
   ],
   "source": [
    "data.isnull().sum()/len(data)*100"
   ]
  },
  {
   "cell_type": "markdown",
   "id": "ed3762a2-3e50-4d48-868b-be1ab7415862",
   "metadata": {},
   "source": [
    "As per above observation,there are some columns which has 100% of missing values hence we will drop it."
   ]
  },
  {
   "cell_type": "markdown",
   "id": "0dc9f6ff-fca6-4be2-bd90-ef22eeaad64d",
   "metadata": {},
   "source": [
    "# Dropping useless columns"
   ]
  },
  {
   "cell_type": "code",
   "execution_count": 4,
   "id": "cacf441b-16f5-467e-86ea-1af1fdba885f",
   "metadata": {},
   "outputs": [],
   "source": [
    "data = data.drop('estimated_generation_gwh',axis=1)"
   ]
  },
  {
   "cell_type": "code",
   "execution_count": 5,
   "id": "4948a1ca-6d45-406a-8450-a3fa7e0c9cd0",
   "metadata": {},
   "outputs": [],
   "source": [
    "data = data.drop('wepp_id',axis=1)"
   ]
  },
  {
   "cell_type": "code",
   "execution_count": 6,
   "id": "a670615f-f040-4ef6-b036-0a7aeeab4e22",
   "metadata": {},
   "outputs": [],
   "source": [
    "data = data.drop('other_fuel3',axis=1)"
   ]
  },
  {
   "cell_type": "code",
   "execution_count": 7,
   "id": "1fca89a5-b69f-4d2b-a502-51fb7dfe4c78",
   "metadata": {},
   "outputs": [],
   "source": [
    "data = data.drop('other_fuel1',axis=1)"
   ]
  },
  {
   "cell_type": "code",
   "execution_count": 8,
   "id": "dc2f8c76-b28f-4b78-a2ba-0414d8584f24",
   "metadata": {
    "tags": []
   },
   "outputs": [],
   "source": [
    "data = data.drop('other_fuel2',axis=1)"
   ]
  },
  {
   "cell_type": "code",
   "execution_count": 9,
   "id": "75eeff57-5576-41f6-af45-d220d0f30c79",
   "metadata": {},
   "outputs": [],
   "source": [
    "data = data.drop('owner',axis=1)"
   ]
  },
  {
   "cell_type": "code",
   "execution_count": 10,
   "id": "fe8474ce-d9d8-4523-a88d-fdbb5a7fb21f",
   "metadata": {},
   "outputs": [],
   "source": [
    "data = data.drop('url',axis=1)"
   ]
  },
  {
   "cell_type": "code",
   "execution_count": 11,
   "id": "1e0ccbd7-df55-463d-8f69-9e0042575f44",
   "metadata": {},
   "outputs": [],
   "source": [
    "data = data.drop('country',axis=1)"
   ]
  },
  {
   "cell_type": "code",
   "execution_count": 12,
   "id": "fbb9dc50-2bbe-4db2-b2f7-8c800b21e732",
   "metadata": {},
   "outputs": [],
   "source": [
    "data = data.drop('country_long',axis=1)"
   ]
  },
  {
   "cell_type": "code",
   "execution_count": 13,
   "id": "a64aec35-4730-4ea2-b8f2-15664aa1d55f",
   "metadata": {},
   "outputs": [],
   "source": [
    "data = data.drop('year_of_capacity_data',axis=1)"
   ]
  },
  {
   "cell_type": "code",
   "execution_count": 14,
   "id": "d910ebf4-eb99-4c30-b9b8-4a619d115940",
   "metadata": {},
   "outputs": [],
   "source": [
    "data = data.drop('name',axis=1)"
   ]
  },
  {
   "cell_type": "code",
   "execution_count": 15,
   "id": "9abf328f-47f6-416a-b009-30aab1320f4a",
   "metadata": {},
   "outputs": [],
   "source": [
    "data = data.drop('gppd_idnr',axis=1)"
   ]
  },
  {
   "cell_type": "code",
   "execution_count": null,
   "id": "c18aa6a6-f6bd-4b23-953d-2ffcf81bba76",
   "metadata": {},
   "outputs": [],
   "source": []
  },
  {
   "cell_type": "code",
   "execution_count": 16,
   "id": "1396396a-988e-431b-bcd2-3d4df4b1ac68",
   "metadata": {},
   "outputs": [
    {
     "data": {
      "text/plain": [
       "capacity_mw                0.000000\n",
       "latitude                   5.066079\n",
       "longitude                  5.066079\n",
       "primary_fuel               0.000000\n",
       "commissioning_year        41.850220\n",
       "source                     0.000000\n",
       "geolocation_source         2.092511\n",
       "generation_gwh_2013       57.709251\n",
       "generation_gwh_2014       55.837004\n",
       "generation_gwh_2015       53.193833\n",
       "generation_gwh_2016       51.872247\n",
       "generation_gwh_2017       51.211454\n",
       "generation_data_source    50.440529\n",
       "dtype: float64"
      ]
     },
     "execution_count": 16,
     "metadata": {},
     "output_type": "execute_result"
    }
   ],
   "source": [
    "data.isnull().sum()/len(data)*100"
   ]
  },
  {
   "cell_type": "code",
   "execution_count": null,
   "id": "a08ced70-13a8-4f29-aa1c-c5f3666764e4",
   "metadata": {},
   "outputs": [],
   "source": []
  },
  {
   "cell_type": "markdown",
   "id": "c57ac728-7570-4670-9dea-20db8666e609",
   "metadata": {},
   "source": [
    "# filling Missing value"
   ]
  },
  {
   "cell_type": "code",
   "execution_count": null,
   "id": "cd33aff5-5d41-471f-8474-e1daad53cb8b",
   "metadata": {},
   "outputs": [],
   "source": [
    "data.describe()"
   ]
  },
  {
   "cell_type": "code",
   "execution_count": 19,
   "id": "3fe43e7c-ef2b-4962-be45-cced37405e08",
   "metadata": {},
   "outputs": [],
   "source": [
    "data['latitude'] = data['latitude'].fillna(data['latitude'].mean())"
   ]
  },
  {
   "cell_type": "code",
   "execution_count": 20,
   "id": "878d46c2-3bf6-4816-8e9e-40fbfafb5351",
   "metadata": {},
   "outputs": [],
   "source": [
    "data['longitude'] = data['longitude'].fillna(data['longitude'].median())"
   ]
  },
  {
   "cell_type": "code",
   "execution_count": 21,
   "id": "f46c647a-485b-4f93-9a03-b9c1c7fac310",
   "metadata": {},
   "outputs": [],
   "source": [
    "data['commissioning_year'] = data['commissioning_year'].fillna(data['commissioning_year'].mean())"
   ]
  },
  {
   "cell_type": "code",
   "execution_count": 22,
   "id": "0ab91535-91a4-4a75-a6cf-319f32cc14bb",
   "metadata": {},
   "outputs": [
    {
     "data": {
      "text/plain": [
       "0    WRI\n",
       "dtype: object"
      ]
     },
     "execution_count": 22,
     "metadata": {},
     "output_type": "execute_result"
    }
   ],
   "source": [
    "data['geolocation_source'].mode()"
   ]
  },
  {
   "cell_type": "code",
   "execution_count": 23,
   "id": "efa501d4-553c-4167-b2af-e2e8683c8c02",
   "metadata": {},
   "outputs": [],
   "source": [
    "data['geolocation_source'] = data['geolocation_source'].fillna('WRI')"
   ]
  },
  {
   "cell_type": "code",
   "execution_count": 24,
   "id": "55ee3df8-ae42-49f5-9fc2-1cc9e0e08f95",
   "metadata": {},
   "outputs": [],
   "source": [
    "data['generation_gwh_2013'] = data['generation_gwh_2013'].fillna(data['generation_gwh_2013'].median())"
   ]
  },
  {
   "cell_type": "code",
   "execution_count": 25,
   "id": "1e51531a-6735-47a5-a9a8-862c7c556629",
   "metadata": {},
   "outputs": [],
   "source": [
    "data['generation_gwh_2014'] = data['generation_gwh_2014'].fillna(data['generation_gwh_2014'].median())"
   ]
  },
  {
   "cell_type": "code",
   "execution_count": 26,
   "id": "a67497de-f90a-4b83-9187-b4267155ca80",
   "metadata": {},
   "outputs": [],
   "source": [
    "data['generation_gwh_2015'] = data['generation_gwh_2015'].fillna(data['generation_gwh_2015'].median())"
   ]
  },
  {
   "cell_type": "code",
   "execution_count": 27,
   "id": "274efe49-70a8-4623-aaab-c278b7eaa63e",
   "metadata": {},
   "outputs": [],
   "source": [
    "data['generation_gwh_2015'] = data['generation_gwh_2015'].fillna(data['generation_gwh_2015'].median())"
   ]
  },
  {
   "cell_type": "code",
   "execution_count": 28,
   "id": "be88e910-10fe-4b4e-81c4-b2092d676e51",
   "metadata": {},
   "outputs": [],
   "source": [
    "data['generation_gwh_2016'] = data['generation_gwh_2016'].fillna(data['generation_gwh_2016'].median())"
   ]
  },
  {
   "cell_type": "code",
   "execution_count": 29,
   "id": "d233006a-7602-4f3d-8bde-9e54fd7e2268",
   "metadata": {},
   "outputs": [],
   "source": [
    "data['generation_gwh_2017'] = data['generation_gwh_2017'].fillna(data['generation_gwh_2017'].median())"
   ]
  },
  {
   "cell_type": "code",
   "execution_count": 30,
   "id": "06476684-32a1-4566-8d87-2b653ce05722",
   "metadata": {},
   "outputs": [
    {
     "data": {
      "text/plain": [
       "0    Central Electricity Authority\n",
       "dtype: object"
      ]
     },
     "execution_count": 30,
     "metadata": {},
     "output_type": "execute_result"
    }
   ],
   "source": [
    "data['generation_data_source'].mode()"
   ]
  },
  {
   "cell_type": "code",
   "execution_count": 31,
   "id": "f7f9434e-dc01-4899-80f6-7c6a78e3231d",
   "metadata": {},
   "outputs": [],
   "source": [
    "data['generation_data_source'] = data['generation_data_source'].fillna('Central Electricity Authority')"
   ]
  },
  {
   "cell_type": "code",
   "execution_count": 32,
   "id": "429eed3d-7066-4f66-90ac-619a124bf550",
   "metadata": {},
   "outputs": [
    {
     "data": {
      "text/html": [
       "<div>\n",
       "<style scoped>\n",
       "    .dataframe tbody tr th:only-of-type {\n",
       "        vertical-align: middle;\n",
       "    }\n",
       "\n",
       "    .dataframe tbody tr th {\n",
       "        vertical-align: top;\n",
       "    }\n",
       "\n",
       "    .dataframe thead th {\n",
       "        text-align: right;\n",
       "    }\n",
       "</style>\n",
       "<table border=\"1\" class=\"dataframe\">\n",
       "  <thead>\n",
       "    <tr style=\"text-align: right;\">\n",
       "      <th></th>\n",
       "      <th>capacity_mw</th>\n",
       "      <th>latitude</th>\n",
       "      <th>longitude</th>\n",
       "      <th>primary_fuel</th>\n",
       "      <th>commissioning_year</th>\n",
       "      <th>source</th>\n",
       "      <th>geolocation_source</th>\n",
       "      <th>generation_gwh_2013</th>\n",
       "      <th>generation_gwh_2014</th>\n",
       "      <th>generation_gwh_2015</th>\n",
       "      <th>generation_gwh_2016</th>\n",
       "      <th>generation_gwh_2017</th>\n",
       "      <th>generation_data_source</th>\n",
       "    </tr>\n",
       "  </thead>\n",
       "  <tbody>\n",
       "    <tr>\n",
       "      <th>0</th>\n",
       "      <td>2.5</td>\n",
       "      <td>28.1839</td>\n",
       "      <td>73.2407</td>\n",
       "      <td>Solar</td>\n",
       "      <td>2011.000000</td>\n",
       "      <td>National Renewable Energy Laboratory</td>\n",
       "      <td>National Renewable Energy Laboratory</td>\n",
       "      <td>797.063475</td>\n",
       "      <td>805.760000</td>\n",
       "      <td>701.027250</td>\n",
       "      <td>716.728350</td>\n",
       "      <td>807.601700</td>\n",
       "      <td>Central Electricity Authority</td>\n",
       "    </tr>\n",
       "    <tr>\n",
       "      <th>1</th>\n",
       "      <td>98.0</td>\n",
       "      <td>24.7663</td>\n",
       "      <td>74.6090</td>\n",
       "      <td>Coal</td>\n",
       "      <td>1996.876894</td>\n",
       "      <td>Ultratech Cement ltd</td>\n",
       "      <td>WRI</td>\n",
       "      <td>797.063475</td>\n",
       "      <td>805.760000</td>\n",
       "      <td>701.027250</td>\n",
       "      <td>716.728350</td>\n",
       "      <td>807.601700</td>\n",
       "      <td>Central Electricity Authority</td>\n",
       "    </tr>\n",
       "    <tr>\n",
       "      <th>2</th>\n",
       "      <td>39.2</td>\n",
       "      <td>21.9038</td>\n",
       "      <td>69.3732</td>\n",
       "      <td>Wind</td>\n",
       "      <td>1996.876894</td>\n",
       "      <td>CDM</td>\n",
       "      <td>WRI</td>\n",
       "      <td>797.063475</td>\n",
       "      <td>805.760000</td>\n",
       "      <td>701.027250</td>\n",
       "      <td>716.728350</td>\n",
       "      <td>807.601700</td>\n",
       "      <td>Central Electricity Authority</td>\n",
       "    </tr>\n",
       "    <tr>\n",
       "      <th>3</th>\n",
       "      <td>135.0</td>\n",
       "      <td>23.8712</td>\n",
       "      <td>91.3602</td>\n",
       "      <td>Gas</td>\n",
       "      <td>2004.000000</td>\n",
       "      <td>Central Electricity Authority</td>\n",
       "      <td>WRI</td>\n",
       "      <td>631.777928</td>\n",
       "      <td>617.789264</td>\n",
       "      <td>843.747000</td>\n",
       "      <td>886.004428</td>\n",
       "      <td>663.774500</td>\n",
       "      <td>Central Electricity Authority</td>\n",
       "    </tr>\n",
       "    <tr>\n",
       "      <th>4</th>\n",
       "      <td>1800.0</td>\n",
       "      <td>21.9603</td>\n",
       "      <td>82.4091</td>\n",
       "      <td>Coal</td>\n",
       "      <td>2015.000000</td>\n",
       "      <td>Central Electricity Authority</td>\n",
       "      <td>WRI</td>\n",
       "      <td>1668.290000</td>\n",
       "      <td>3035.550000</td>\n",
       "      <td>5916.370000</td>\n",
       "      <td>6243.000000</td>\n",
       "      <td>5385.579736</td>\n",
       "      <td>Central Electricity Authority</td>\n",
       "    </tr>\n",
       "    <tr>\n",
       "      <th>...</th>\n",
       "      <td>...</td>\n",
       "      <td>...</td>\n",
       "      <td>...</td>\n",
       "      <td>...</td>\n",
       "      <td>...</td>\n",
       "      <td>...</td>\n",
       "      <td>...</td>\n",
       "      <td>...</td>\n",
       "      <td>...</td>\n",
       "      <td>...</td>\n",
       "      <td>...</td>\n",
       "      <td>...</td>\n",
       "      <td>...</td>\n",
       "    </tr>\n",
       "    <tr>\n",
       "      <th>903</th>\n",
       "      <td>1600.0</td>\n",
       "      <td>16.2949</td>\n",
       "      <td>77.3568</td>\n",
       "      <td>Coal</td>\n",
       "      <td>2016.000000</td>\n",
       "      <td>Central Electricity Authority</td>\n",
       "      <td>WRI</td>\n",
       "      <td>797.063475</td>\n",
       "      <td>805.760000</td>\n",
       "      <td>0.994875</td>\n",
       "      <td>233.596650</td>\n",
       "      <td>865.400000</td>\n",
       "      <td>Central Electricity Authority</td>\n",
       "    </tr>\n",
       "    <tr>\n",
       "      <th>904</th>\n",
       "      <td>3.0</td>\n",
       "      <td>12.8932</td>\n",
       "      <td>78.1654</td>\n",
       "      <td>Solar</td>\n",
       "      <td>1996.876894</td>\n",
       "      <td>Karnataka Power Corporation Limited</td>\n",
       "      <td>Industry About</td>\n",
       "      <td>797.063475</td>\n",
       "      <td>805.760000</td>\n",
       "      <td>701.027250</td>\n",
       "      <td>716.728350</td>\n",
       "      <td>807.601700</td>\n",
       "      <td>Central Electricity Authority</td>\n",
       "    </tr>\n",
       "    <tr>\n",
       "      <th>905</th>\n",
       "      <td>25.5</td>\n",
       "      <td>15.2758</td>\n",
       "      <td>75.5811</td>\n",
       "      <td>Wind</td>\n",
       "      <td>1996.876894</td>\n",
       "      <td>CDM</td>\n",
       "      <td>WRI</td>\n",
       "      <td>797.063475</td>\n",
       "      <td>805.760000</td>\n",
       "      <td>701.027250</td>\n",
       "      <td>716.728350</td>\n",
       "      <td>807.601700</td>\n",
       "      <td>Central Electricity Authority</td>\n",
       "    </tr>\n",
       "    <tr>\n",
       "      <th>906</th>\n",
       "      <td>80.0</td>\n",
       "      <td>24.3500</td>\n",
       "      <td>73.7477</td>\n",
       "      <td>Coal</td>\n",
       "      <td>1996.876894</td>\n",
       "      <td>Hindustan Zinc ltd</td>\n",
       "      <td>WRI</td>\n",
       "      <td>797.063475</td>\n",
       "      <td>805.760000</td>\n",
       "      <td>701.027250</td>\n",
       "      <td>716.728350</td>\n",
       "      <td>807.601700</td>\n",
       "      <td>Central Electricity Authority</td>\n",
       "    </tr>\n",
       "    <tr>\n",
       "      <th>907</th>\n",
       "      <td>16.5</td>\n",
       "      <td>9.9344</td>\n",
       "      <td>77.4768</td>\n",
       "      <td>Wind</td>\n",
       "      <td>1996.876894</td>\n",
       "      <td>CDM</td>\n",
       "      <td>WRI</td>\n",
       "      <td>797.063475</td>\n",
       "      <td>805.760000</td>\n",
       "      <td>701.027250</td>\n",
       "      <td>716.728350</td>\n",
       "      <td>807.601700</td>\n",
       "      <td>Central Electricity Authority</td>\n",
       "    </tr>\n",
       "  </tbody>\n",
       "</table>\n",
       "<p>908 rows × 13 columns</p>\n",
       "</div>"
      ],
      "text/plain": [
       "     capacity_mw  latitude  longitude primary_fuel  commissioning_year  \\\n",
       "0            2.5   28.1839    73.2407        Solar         2011.000000   \n",
       "1           98.0   24.7663    74.6090         Coal         1996.876894   \n",
       "2           39.2   21.9038    69.3732         Wind         1996.876894   \n",
       "3          135.0   23.8712    91.3602          Gas         2004.000000   \n",
       "4         1800.0   21.9603    82.4091         Coal         2015.000000   \n",
       "..           ...       ...        ...          ...                 ...   \n",
       "903       1600.0   16.2949    77.3568         Coal         2016.000000   \n",
       "904          3.0   12.8932    78.1654        Solar         1996.876894   \n",
       "905         25.5   15.2758    75.5811         Wind         1996.876894   \n",
       "906         80.0   24.3500    73.7477         Coal         1996.876894   \n",
       "907         16.5    9.9344    77.4768         Wind         1996.876894   \n",
       "\n",
       "                                   source  \\\n",
       "0    National Renewable Energy Laboratory   \n",
       "1                    Ultratech Cement ltd   \n",
       "2                                     CDM   \n",
       "3           Central Electricity Authority   \n",
       "4           Central Electricity Authority   \n",
       "..                                    ...   \n",
       "903         Central Electricity Authority   \n",
       "904   Karnataka Power Corporation Limited   \n",
       "905                                   CDM   \n",
       "906                    Hindustan Zinc ltd   \n",
       "907                                   CDM   \n",
       "\n",
       "                       geolocation_source  generation_gwh_2013  \\\n",
       "0    National Renewable Energy Laboratory           797.063475   \n",
       "1                                     WRI           797.063475   \n",
       "2                                     WRI           797.063475   \n",
       "3                                     WRI           631.777928   \n",
       "4                                     WRI          1668.290000   \n",
       "..                                    ...                  ...   \n",
       "903                                   WRI           797.063475   \n",
       "904                        Industry About           797.063475   \n",
       "905                                   WRI           797.063475   \n",
       "906                                   WRI           797.063475   \n",
       "907                                   WRI           797.063475   \n",
       "\n",
       "     generation_gwh_2014  generation_gwh_2015  generation_gwh_2016  \\\n",
       "0             805.760000           701.027250           716.728350   \n",
       "1             805.760000           701.027250           716.728350   \n",
       "2             805.760000           701.027250           716.728350   \n",
       "3             617.789264           843.747000           886.004428   \n",
       "4            3035.550000          5916.370000          6243.000000   \n",
       "..                   ...                  ...                  ...   \n",
       "903           805.760000             0.994875           233.596650   \n",
       "904           805.760000           701.027250           716.728350   \n",
       "905           805.760000           701.027250           716.728350   \n",
       "906           805.760000           701.027250           716.728350   \n",
       "907           805.760000           701.027250           716.728350   \n",
       "\n",
       "     generation_gwh_2017         generation_data_source  \n",
       "0             807.601700  Central Electricity Authority  \n",
       "1             807.601700  Central Electricity Authority  \n",
       "2             807.601700  Central Electricity Authority  \n",
       "3             663.774500  Central Electricity Authority  \n",
       "4            5385.579736  Central Electricity Authority  \n",
       "..                   ...                            ...  \n",
       "903           865.400000  Central Electricity Authority  \n",
       "904           807.601700  Central Electricity Authority  \n",
       "905           807.601700  Central Electricity Authority  \n",
       "906           807.601700  Central Electricity Authority  \n",
       "907           807.601700  Central Electricity Authority  \n",
       "\n",
       "[908 rows x 13 columns]"
      ]
     },
     "execution_count": 32,
     "metadata": {},
     "output_type": "execute_result"
    }
   ],
   "source": [
    "data"
   ]
  },
  {
   "cell_type": "markdown",
   "id": "3b326b7c-c6f8-415a-a1cb-bd8cf665f3b8",
   "metadata": {},
   "source": [
    "# EDA"
   ]
  },
  {
   "cell_type": "markdown",
   "id": "a0a546f9-2a1e-40a9-88ba-41a32d256254",
   "metadata": {},
   "source": [
    "# primary_fuel  vs  capacity_mw"
   ]
  },
  {
   "cell_type": "code",
   "execution_count": 33,
   "id": "636e498f-c68e-4551-8c39-b7a2d9da9ae7",
   "metadata": {},
   "outputs": [
    {
     "data": {
      "text/plain": [
       "<AxesSubplot:xlabel='primary_fuel', ylabel='capacity_mw'>"
      ]
     },
     "execution_count": 33,
     "metadata": {},
     "output_type": "execute_result"
    },
    {
     "data": {
      "image/png": "[encoded data removed]",
      "text/plain": [
       "<Figure size 432x288 with 1 Axes>"
      ]
     },
     "metadata": {
      "needs_background": "light"
     },
     "output_type": "display_data"
    }
   ],
   "source": [
    "sns.scatterplot(x='primary_fuel',y='capacity_mw',data=data)"
   ]
  },
  {
   "cell_type": "markdown",
   "id": "1cd1a3aa-6e7a-4bd0-b29c-8f42ec095b02",
   "metadata": {},
   "source": [
    "As per above observation, coal  has better capacity in megawatts"
   ]
  },
  {
   "cell_type": "code",
   "execution_count": 35,
   "id": "c3006a07-126b-4f70-81b7-ac0b90e08283",
   "metadata": {},
   "outputs": [
    {
     "data": {
      "text/plain": [
       "array(['Solar', 'Coal', 'Wind', 'Gas', 'Hydro', 'Biomass', 'Oil',\n",
       "       'Nuclear'], dtype=object)"
      ]
     },
     "execution_count": 35,
     "metadata": {},
     "output_type": "execute_result"
    }
   ],
   "source": [
    "data['primary_fuel'].unique()"
   ]
  },
  {
   "cell_type": "code",
   "execution_count": 36,
   "id": "ce7c4090-a174-4e93-a5a7-bf79bb38d975",
   "metadata": {},
   "outputs": [
    {
     "data": {
      "text/plain": [
       "array(['Solar', 'Coal', 'Wind', 'Gas', 'Hydro', 'Biomass', 'Oil',\n",
       "       'Nuclear'], dtype=object)"
      ]
     },
     "execution_count": 36,
     "metadata": {},
     "output_type": "execute_result"
    }
   ],
   "source": [
    "data['primary_fuel'].unique()"
   ]
  },
  {
   "cell_type": "code",
   "execution_count": 37,
   "id": "03fc0724-633f-41d7-bfa6-94c40cbfde4f",
   "metadata": {},
   "outputs": [],
   "source": [
    "le=LabelEncoder()\n",
    "data['primary_fuel'] = le.fit_transform(data['primary_fuel'])"
   ]
  },
  {
   "cell_type": "code",
   "execution_count": 38,
   "id": "f9f2431c-dec7-4e86-bbc3-d00570e6131b",
   "metadata": {},
   "outputs": [
    {
     "data": {
      "text/plain": [
       "array([6, 1, 7, 2, 3, 0, 5, 4])"
      ]
     },
     "execution_count": 38,
     "metadata": {},
     "output_type": "execute_result"
    }
   ],
   "source": [
    "data['primary_fuel'].unique()"
   ]
  },
  {
   "cell_type": "markdown",
   "id": "9c4c34f3-26c3-45f0-a9ec-df1ce4a743b3",
   "metadata": {},
   "source": [
    "# Correlation"
   ]
  },
  {
   "cell_type": "code",
   "execution_count": 39,
   "id": "32883788-07db-4e67-8cb7-b68ffffb5172",
   "metadata": {},
   "outputs": [
    {
     "data": {
      "text/html": [
       "<div>\n",
       "<style scoped>\n",
       "    .dataframe tbody tr th:only-of-type {\n",
       "        vertical-align: middle;\n",
       "    }\n",
       "\n",
       "    .dataframe tbody tr th {\n",
       "        vertical-align: top;\n",
       "    }\n",
       "\n",
       "    .dataframe thead th {\n",
       "        text-align: right;\n",
       "    }\n",
       "</style>\n",
       "<table border=\"1\" class=\"dataframe\">\n",
       "  <thead>\n",
       "    <tr style=\"text-align: right;\">\n",
       "      <th></th>\n",
       "      <th>capacity_mw</th>\n",
       "      <th>latitude</th>\n",
       "      <th>longitude</th>\n",
       "      <th>primary_fuel</th>\n",
       "      <th>commissioning_year</th>\n",
       "      <th>generation_gwh_2013</th>\n",
       "      <th>generation_gwh_2014</th>\n",
       "      <th>generation_gwh_2015</th>\n",
       "      <th>generation_gwh_2016</th>\n",
       "      <th>generation_gwh_2017</th>\n",
       "    </tr>\n",
       "  </thead>\n",
       "  <tbody>\n",
       "    <tr>\n",
       "      <th>capacity_mw</th>\n",
       "      <td>1.000000</td>\n",
       "      <td>0.049790</td>\n",
       "      <td>0.200473</td>\n",
       "      <td>-0.377783</td>\n",
       "      <td>0.265827</td>\n",
       "      <td>0.756523</td>\n",
       "      <td>0.804581</td>\n",
       "      <td>0.830400</td>\n",
       "      <td>0.863989</td>\n",
       "      <td>0.877058</td>\n",
       "    </tr>\n",
       "    <tr>\n",
       "      <th>latitude</th>\n",
       "      <td>0.049790</td>\n",
       "      <td>1.000000</td>\n",
       "      <td>0.031483</td>\n",
       "      <td>-0.013453</td>\n",
       "      <td>0.095050</td>\n",
       "      <td>0.054483</td>\n",
       "      <td>0.058936</td>\n",
       "      <td>0.054242</td>\n",
       "      <td>0.048095</td>\n",
       "      <td>0.057915</td>\n",
       "    </tr>\n",
       "    <tr>\n",
       "      <th>longitude</th>\n",
       "      <td>0.200473</td>\n",
       "      <td>0.031483</td>\n",
       "      <td>1.000000</td>\n",
       "      <td>-0.352749</td>\n",
       "      <td>0.085414</td>\n",
       "      <td>0.102637</td>\n",
       "      <td>0.107967</td>\n",
       "      <td>0.125723</td>\n",
       "      <td>0.148405</td>\n",
       "      <td>0.156255</td>\n",
       "    </tr>\n",
       "    <tr>\n",
       "      <th>primary_fuel</th>\n",
       "      <td>-0.377783</td>\n",
       "      <td>-0.013453</td>\n",
       "      <td>-0.352749</td>\n",
       "      <td>1.000000</td>\n",
       "      <td>-0.123060</td>\n",
       "      <td>-0.228761</td>\n",
       "      <td>-0.240407</td>\n",
       "      <td>-0.249826</td>\n",
       "      <td>-0.260900</td>\n",
       "      <td>-0.263818</td>\n",
       "    </tr>\n",
       "    <tr>\n",
       "      <th>commissioning_year</th>\n",
       "      <td>0.265827</td>\n",
       "      <td>0.095050</td>\n",
       "      <td>0.085414</td>\n",
       "      <td>-0.123060</td>\n",
       "      <td>1.000000</td>\n",
       "      <td>0.077536</td>\n",
       "      <td>0.112531</td>\n",
       "      <td>0.146615</td>\n",
       "      <td>0.180327</td>\n",
       "      <td>0.193460</td>\n",
       "    </tr>\n",
       "    <tr>\n",
       "      <th>generation_gwh_2013</th>\n",
       "      <td>0.756523</td>\n",
       "      <td>0.054483</td>\n",
       "      <td>0.102637</td>\n",
       "      <td>-0.228761</td>\n",
       "      <td>0.077536</td>\n",
       "      <td>1.000000</td>\n",
       "      <td>0.970385</td>\n",
       "      <td>0.907385</td>\n",
       "      <td>0.878836</td>\n",
       "      <td>0.839297</td>\n",
       "    </tr>\n",
       "    <tr>\n",
       "      <th>generation_gwh_2014</th>\n",
       "      <td>0.804581</td>\n",
       "      <td>0.058936</td>\n",
       "      <td>0.107967</td>\n",
       "      <td>-0.240407</td>\n",
       "      <td>0.112531</td>\n",
       "      <td>0.970385</td>\n",
       "      <td>1.000000</td>\n",
       "      <td>0.963664</td>\n",
       "      <td>0.935000</td>\n",
       "      <td>0.903986</td>\n",
       "    </tr>\n",
       "    <tr>\n",
       "      <th>generation_gwh_2015</th>\n",
       "      <td>0.830400</td>\n",
       "      <td>0.054242</td>\n",
       "      <td>0.125723</td>\n",
       "      <td>-0.249826</td>\n",
       "      <td>0.146615</td>\n",
       "      <td>0.907385</td>\n",
       "      <td>0.963664</td>\n",
       "      <td>1.000000</td>\n",
       "      <td>0.973256</td>\n",
       "      <td>0.940284</td>\n",
       "    </tr>\n",
       "    <tr>\n",
       "      <th>generation_gwh_2016</th>\n",
       "      <td>0.863989</td>\n",
       "      <td>0.048095</td>\n",
       "      <td>0.148405</td>\n",
       "      <td>-0.260900</td>\n",
       "      <td>0.180327</td>\n",
       "      <td>0.878836</td>\n",
       "      <td>0.935000</td>\n",
       "      <td>0.973256</td>\n",
       "      <td>1.000000</td>\n",
       "      <td>0.973960</td>\n",
       "    </tr>\n",
       "    <tr>\n",
       "      <th>generation_gwh_2017</th>\n",
       "      <td>0.877058</td>\n",
       "      <td>0.057915</td>\n",
       "      <td>0.156255</td>\n",
       "      <td>-0.263818</td>\n",
       "      <td>0.193460</td>\n",
       "      <td>0.839297</td>\n",
       "      <td>0.903986</td>\n",
       "      <td>0.940284</td>\n",
       "      <td>0.973960</td>\n",
       "      <td>1.000000</td>\n",
       "    </tr>\n",
       "  </tbody>\n",
       "</table>\n",
       "</div>"
      ],
      "text/plain": [
       "                     capacity_mw  latitude  longitude  primary_fuel  \\\n",
       "capacity_mw             1.000000  0.049790   0.200473     -0.377783   \n",
       "latitude                0.049790  1.000000   0.031483     -0.013453   \n",
       "longitude               0.200473  0.031483   1.000000     -0.352749   \n",
       "primary_fuel           -0.377783 -0.013453  -0.352749      1.000000   \n",
       "commissioning_year      0.265827  0.095050   0.085414     -0.123060   \n",
       "generation_gwh_2013     0.756523  0.054483   0.102637     -0.228761   \n",
       "generation_gwh_2014     0.804581  0.058936   0.107967     -0.240407   \n",
       "generation_gwh_2015     0.830400  0.054242   0.125723     -0.249826   \n",
       "generation_gwh_2016     0.863989  0.048095   0.148405     -0.260900   \n",
       "generation_gwh_2017     0.877058  0.057915   0.156255     -0.263818   \n",
       "\n",
       "                     commissioning_year  generation_gwh_2013  \\\n",
       "capacity_mw                    0.265827             0.756523   \n",
       "latitude                       0.095050             0.054483   \n",
       "longitude                      0.085414             0.102637   \n",
       "primary_fuel                  -0.123060            -0.228761   \n",
       "commissioning_year             1.000000             0.077536   \n",
       "generation_gwh_2013            0.077536             1.000000   \n",
       "generation_gwh_2014            0.112531             0.970385   \n",
       "generation_gwh_2015            0.146615             0.907385   \n",
       "generation_gwh_2016            0.180327             0.878836   \n",
       "generation_gwh_2017            0.193460             0.839297   \n",
       "\n",
       "                     generation_gwh_2014  generation_gwh_2015  \\\n",
       "capacity_mw                     0.804581             0.830400   \n",
       "latitude                        0.058936             0.054242   \n",
       "longitude                       0.107967             0.125723   \n",
       "primary_fuel                   -0.240407            -0.249826   \n",
       "commissioning_year              0.112531             0.146615   \n",
       "generation_gwh_2013             0.970385             0.907385   \n",
       "generation_gwh_2014             1.000000             0.963664   \n",
       "generation_gwh_2015             0.963664             1.000000   \n",
       "generation_gwh_2016             0.935000             0.973256   \n",
       "generation_gwh_2017             0.903986             0.940284   \n",
       "\n",
       "                     generation_gwh_2016  generation_gwh_2017  \n",
       "capacity_mw                     0.863989             0.877058  \n",
       "latitude                        0.048095             0.057915  \n",
       "longitude                       0.148405             0.156255  \n",
       "primary_fuel                   -0.260900            -0.263818  \n",
       "commissioning_year              0.180327             0.193460  \n",
       "generation_gwh_2013             0.878836             0.839297  \n",
       "generation_gwh_2014             0.935000             0.903986  \n",
       "generation_gwh_2015             0.973256             0.940284  \n",
       "generation_gwh_2016             1.000000             0.973960  \n",
       "generation_gwh_2017             0.973960             1.000000  "
      ]
     },
     "execution_count": 39,
     "metadata": {},
     "output_type": "execute_result"
    }
   ],
   "source": [
    "data.corr()"
   ]
  },
  {
   "cell_type": "code",
   "execution_count": 40,
   "id": "21064515-bba0-44ee-8cda-110eecb118d9",
   "metadata": {},
   "outputs": [
    {
     "data": {
      "text/plain": [
       "<AxesSubplot:>"
      ]
     },
     "execution_count": 40,
     "metadata": {},
     "output_type": "execute_result"
    },
    {
     "data": {
      "image/png": "[encoded data removed]",
      "text/plain": [
       "<Figure size 1080x1080 with 2 Axes>"
      ]
     },
     "metadata": {
      "needs_background": "light"
     },
     "output_type": "display_data"
    }
   ],
   "source": [
    "plt.figure(figsize=(15,15))\n",
    "sns.heatmap(data.corr(),annot=True,linecolor='r',linewidths=0.5,fmt='.2f')"
   ]
  },
  {
   "cell_type": "markdown",
   "id": "68b92719-f1ec-4714-9cd7-16025a5747da",
   "metadata": {},
   "source": [
    "\n",
    "capacity_mw  has 38 % negetive correlation with target column\n",
    "\n",
    "latitude has 1 % negetive correlation with target column\n",
    "\n",
    "longitude has 35 % negetive correlation with target column\n",
    "\n",
    "commissioning_year has 12 % negetive correlation with target column\n",
    "\n",
    "generation_gwh_2013 has 23 % negetive correlation with target column\n",
    "\n",
    "generation_gwh_2014 has 24 % negetive correlation with target column\n",
    "\n",
    "generation_gwh_2015 has 25 % negetive correlation with target column\n",
    "\n",
    "generation_gwh_2016 has 26 % negetive correlation with target column\n",
    "\n",
    "generation_gwh_2017 has 26 % negetive correlation with target column"
   ]
  },
  {
   "cell_type": "markdown",
   "id": "2d9410ae-820d-42e1-a33b-289a16a40db1",
   "metadata": {},
   "source": [
    "# Checking Outlier"
   ]
  },
  {
   "cell_type": "code",
   "execution_count": 41,
   "id": "6b22a8b3-54e8-49cd-b10e-063d84869cb2",
   "metadata": {},
   "outputs": [
    {
     "data": {
      "text/plain": [
       "<AxesSubplot:>"
      ]
     },
     "execution_count": 41,
     "metadata": {},
     "output_type": "execute_result"
    },
    {
     "data": {
      "image/png": "[encoded data removed]",
      "text/plain": [
       "<Figure size 432x288 with 1 Axes>"
      ]
     },
     "metadata": {
      "needs_background": "light"
     },
     "output_type": "display_data"
    }
   ],
   "source": [
    "data['capacity_mw'].plot.box()"
   ]
  },
  {
   "cell_type": "markdown",
   "id": "7c668c82-5ff4-4c17-b8cb-2bdaa9347ea6",
   "metadata": {},
   "source": [
    "As per above observation there is an outlier"
   ]
  },
  {
   "cell_type": "code",
   "execution_count": 42,
   "id": "afb90d48-a66d-4894-a8d2-5dacd7c76786",
   "metadata": {},
   "outputs": [
    {
     "data": {
      "text/plain": [
       "<AxesSubplot:>"
      ]
     },
     "execution_count": 42,
     "metadata": {},
     "output_type": "execute_result"
    },
    {
     "data": {
      "image/png": "[encoded data removed]",
      "text/plain": [
       "<Figure size 432x288 with 1 Axes>"
      ]
     },
     "metadata": {
      "needs_background": "light"
     },
     "output_type": "display_data"
    }
   ],
   "source": [
    "data['latitude'].plot.box()"
   ]
  },
  {
   "cell_type": "markdown",
   "id": "2905cb1f-a3b1-4604-9b11-5b3c9bf7bc6a",
   "metadata": {},
   "source": [
    "As per above observation there is no outlier"
   ]
  },
  {
   "cell_type": "code",
   "execution_count": 43,
   "id": "375cff22-e8d0-4239-8cc3-bdededa8ddae",
   "metadata": {},
   "outputs": [
    {
     "data": {
      "text/plain": [
       "<AxesSubplot:>"
      ]
     },
     "execution_count": 43,
     "metadata": {},
     "output_type": "execute_result"
    },
    {
     "data": {
      "image/png": "[encoded data removed]",
      "text/plain": [
       "<Figure size 432x288 with 1 Axes>"
      ]
     },
     "metadata": {
      "needs_background": "light"
     },
     "output_type": "display_data"
    }
   ],
   "source": [
    "data['longitude'].plot.box()"
   ]
  },
  {
   "cell_type": "markdown",
   "id": "fa65453a-0c2e-4d41-b4f5-bd8ed90657b6",
   "metadata": {},
   "source": [
    "As per above observation there is an outlier"
   ]
  },
  {
   "cell_type": "code",
   "execution_count": 44,
   "id": "e45c9cef-6632-4312-b17d-41c9f8048e1c",
   "metadata": {},
   "outputs": [
    {
     "data": {
      "text/plain": [
       "<AxesSubplot:>"
      ]
     },
     "execution_count": 44,
     "metadata": {},
     "output_type": "execute_result"
    },
    {
     "data": {
      "image/png": "[encoded data removed]",
      "text/plain": [
       "<Figure size 432x288 with 1 Axes>"
      ]
     },
     "metadata": {
      "needs_background": "light"
     },
     "output_type": "display_data"
    }
   ],
   "source": [
    "data['commissioning_year'].plot.box()"
   ]
  },
  {
   "cell_type": "markdown",
   "id": "0c4bf7e0-f1b7-4da5-af56-b6e0a228413a",
   "metadata": {},
   "source": [
    "As per above observation there is an outlier"
   ]
  },
  {
   "cell_type": "code",
   "execution_count": 45,
   "id": "e4dfff7a-1edd-4c61-95cf-11b3630d5464",
   "metadata": {},
   "outputs": [
    {
     "data": {
      "text/plain": [
       "<AxesSubplot:>"
      ]
     },
     "execution_count": 45,
     "metadata": {},
     "output_type": "execute_result"
    },
    {
     "data": {
      "image/png": "[encoded data removed]",
      "text/plain": [
       "<Figure size 432x288 with 1 Axes>"
      ]
     },
     "metadata": {
      "needs_background": "light"
     },
     "output_type": "display_data"
    }
   ],
   "source": [
    "data['generation_gwh_2013'].plot.box()"
   ]
  },
  {
   "cell_type": "markdown",
   "id": "6d8e95e5-56b4-4463-ae68-0500b9e6181b",
   "metadata": {},
   "source": [
    "As per above observation there is an outlier"
   ]
  },
  {
   "cell_type": "code",
   "execution_count": 46,
   "id": "fae4210a-4479-4886-8067-badda8f69073",
   "metadata": {},
   "outputs": [
    {
     "data": {
      "text/plain": [
       "<AxesSubplot:>"
      ]
     },
     "execution_count": 46,
     "metadata": {},
     "output_type": "execute_result"
    },
    {
     "data": {
      "image/png": "[encoded data removed]",
      "text/plain": [
       "<Figure size 432x288 with 1 Axes>"
      ]
     },
     "metadata": {
      "needs_background": "light"
     },
     "output_type": "display_data"
    }
   ],
   "source": [
    "data['generation_gwh_2014'].plot.box()"
   ]
  },
  {
   "cell_type": "markdown",
   "id": "fab8f9b8-2abd-4e5d-85be-34385d53a532",
   "metadata": {},
   "source": [
    "As per above observation there is an outlier"
   ]
  },
  {
   "cell_type": "code",
   "execution_count": 47,
   "id": "5d8c385a-7c2b-4833-a579-39249f5cc65c",
   "metadata": {},
   "outputs": [
    {
     "data": {
      "text/plain": [
       "<AxesSubplot:>"
      ]
     },
     "execution_count": 47,
     "metadata": {},
     "output_type": "execute_result"
    },
    {
     "data": {
      "image/png": "[encoded data removed]",
      "text/plain": [
       "<Figure size 432x288 with 1 Axes>"
      ]
     },
     "metadata": {
      "needs_background": "light"
     },
     "output_type": "display_data"
    }
   ],
   "source": [
    "data['generation_gwh_2015'].plot.box()"
   ]
  },
  {
   "cell_type": "markdown",
   "id": "8acb1c73-6f64-4fa3-862d-a76688f2a058",
   "metadata": {},
   "source": [
    "As per above observation there is an outlier"
   ]
  },
  {
   "cell_type": "code",
   "execution_count": 48,
   "id": "66517e29-8617-465d-9c46-287d3e5ac7c7",
   "metadata": {},
   "outputs": [
    {
     "data": {
      "text/plain": [
       "<AxesSubplot:>"
      ]
     },
     "execution_count": 48,
     "metadata": {},
     "output_type": "execute_result"
    },
    {
     "data": {
      "image/png": "[encoded data removed]",
      "text/plain": [
       "<Figure size 432x288 with 1 Axes>"
      ]
     },
     "metadata": {
      "needs_background": "light"
     },
     "output_type": "display_data"
    }
   ],
   "source": [
    "data['generation_gwh_2016'].plot.box()"
   ]
  },
  {
   "cell_type": "markdown",
   "id": "63588db4-d2ad-43fa-b951-e06cdb6594f8",
   "metadata": {},
   "source": [
    "As per above observation there is an outlier"
   ]
  },
  {
   "cell_type": "code",
   "execution_count": 49,
   "id": "0be512e8-3614-4265-9b5b-f3f7c5944da0",
   "metadata": {},
   "outputs": [
    {
     "data": {
      "text/plain": [
       "<AxesSubplot:>"
      ]
     },
     "execution_count": 49,
     "metadata": {},
     "output_type": "execute_result"
    },
    {
     "data": {
      "image/png": "[encoded data removed]",
      "text/plain": [
       "<Figure size 432x288 with 1 Axes>"
      ]
     },
     "metadata": {
      "needs_background": "light"
     },
     "output_type": "display_data"
    }
   ],
   "source": [
    "data['generation_gwh_2017'].plot.box()"
   ]
  },
  {
   "cell_type": "markdown",
   "id": "27d29597-5551-4128-af8a-6412814d1f22",
   "metadata": {},
   "source": [
    "As per above observation there is an outlier"
   ]
  },
  {
   "cell_type": "code",
   "execution_count": 50,
   "id": "8ce3e46a-58fa-42d2-ab3e-d0d69af14c68",
   "metadata": {},
   "outputs": [
    {
     "data": {
      "text/plain": [
       "capacity_mw            3.193257\n",
       "latitude              -0.147391\n",
       "longitude              1.150963\n",
       "primary_fuel           0.471141\n",
       "commissioning_year    -1.383330\n",
       "generation_gwh_2013    5.535740\n",
       "generation_gwh_2014    5.325540\n",
       "generation_gwh_2015    5.565770\n",
       "generation_gwh_2016    5.278233\n",
       "generation_gwh_2017    5.312975\n",
       "dtype: float64"
      ]
     },
     "execution_count": 50,
     "metadata": {},
     "output_type": "execute_result"
    }
   ],
   "source": [
    "data.skew()"
   ]
  },
  {
   "cell_type": "markdown",
   "id": "f478c9cb-b432-488a-9368-1eb4a74d6140",
   "metadata": {},
   "source": [
    "Findings skewed data from the above observation are mentioned below:\n",
    "    \n",
    "capacity_mw ------           3.193257\n",
    "\n",
    "longitude -------             1.150963\n",
    "\n",
    "commissioning_year------    -1.383330\n",
    "\n",
    "generation_gwh_2013 ------   5.535740\n",
    "\n",
    "generation_gwh_2014 ------   5.325540\n",
    "\n",
    "generation_gwh_2015 ------   5.565770\n",
    "\n",
    "generation_gwh_2016 ------   5.278233\n",
    "\n",
    "generation_gwh_2017 -------   5.312975"
   ]
  },
  {
   "cell_type": "markdown",
   "id": "fafe8fa0-7c1d-4c67-b357-59ff782eedc1",
   "metadata": {},
   "source": [
    "# checking Normal Distribution"
   ]
  },
  {
   "cell_type": "code",
   "execution_count": 51,
   "id": "faea37f7-49cc-46de-92b9-8aeba4b4b290",
   "metadata": {},
   "outputs": [],
   "source": [
    "import warnings\n",
    "warnings.filterwarnings(\"ignore\")"
   ]
  },
  {
   "cell_type": "code",
   "execution_count": 52,
   "id": "c2dc47c2-c8b5-4570-ae53-61d341325c45",
   "metadata": {},
   "outputs": [
    {
     "data": {
      "text/plain": [
       "<AxesSubplot:xlabel='capacity_mw', ylabel='Density'>"
      ]
     },
     "execution_count": 52,
     "metadata": {},
     "output_type": "execute_result"
    },
    {
     "data": {
      "image/png": "[encoded data removed]",
      "text/plain": [
       "<Figure size 432x288 with 1 Axes>"
      ]
     },
     "metadata": {
      "needs_background": "light"
     },
     "output_type": "display_data"
    }
   ],
   "source": [
    "sns.distplot(data['capacity_mw'])"
   ]
  },
  {
   "cell_type": "markdown",
   "id": "bb8f9d7a-c268-47f8-91aa-c6b80a1a261c",
   "metadata": {},
   "source": [
    "As per above observation Normal distribution shows that data is not normally distributed"
   ]
  },
  {
   "cell_type": "code",
   "execution_count": 53,
   "id": "a581fd3a-1060-478e-b4c3-27cef51e8c14",
   "metadata": {},
   "outputs": [
    {
     "data": {
      "text/plain": [
       "<AxesSubplot:xlabel='latitude', ylabel='Density'>"
      ]
     },
     "execution_count": 53,
     "metadata": {},
     "output_type": "execute_result"
    },
    {
     "data": {
      "image/png": "[encoded data removed]",
      "text/plain": [
       "<Figure size 432x288 with 1 Axes>"
      ]
     },
     "metadata": {
      "needs_background": "light"
     },
     "output_type": "display_data"
    }
   ],
   "source": [
    "sns.distplot(data['latitude'])"
   ]
  },
  {
   "cell_type": "markdown",
   "id": "88b8677e-5e21-415a-9681-31a3acf4fc38",
   "metadata": {},
   "source": [
    "As per above observation Normal distribution shows that data is normally distributed"
   ]
  },
  {
   "cell_type": "code",
   "execution_count": 54,
   "id": "dac5ef1f-5f87-4953-aff4-30934033c198",
   "metadata": {},
   "outputs": [
    {
     "data": {
      "text/plain": [
       "<AxesSubplot:xlabel='longitude', ylabel='Density'>"
      ]
     },
     "execution_count": 54,
     "metadata": {},
     "output_type": "execute_result"
    },
    {
     "data": {
      "image/png": "[encoded data removed]",
      "text/plain": [
       "<Figure size 432x288 with 1 Axes>"
      ]
     },
     "metadata": {
      "needs_background": "light"
     },
     "output_type": "display_data"
    }
   ],
   "source": [
    "sns.distplot(data['longitude'])"
   ]
  },
  {
   "cell_type": "markdown",
   "id": "8bb024c7-1343-480a-9509-31ad452067f3",
   "metadata": {},
   "source": [
    "As per above observation Normal distribution shows that data is not normally distributed"
   ]
  },
  {
   "cell_type": "code",
   "execution_count": 55,
   "id": "8aca06a6-1bb9-4abc-aec9-72a35a9d6cd7",
   "metadata": {},
   "outputs": [
    {
     "data": {
      "text/plain": [
       "<AxesSubplot:xlabel='commissioning_year', ylabel='Density'>"
      ]
     },
     "execution_count": 55,
     "metadata": {},
     "output_type": "execute_result"
    },
    {
     "data": {
      "image/png": "[encoded data removed]",
      "text/plain": [
       "<Figure size 432x288 with 1 Axes>"
      ]
     },
     "metadata": {
      "needs_background": "light"
     },
     "output_type": "display_data"
    }
   ],
   "source": [
    "sns.distplot(data['commissioning_year'])"
   ]
  },
  {
   "cell_type": "markdown",
   "id": "d8dbeb95-3e4b-47d6-8bbe-a47abe67515b",
   "metadata": {},
   "source": [
    "As per above observation Normal distribution shows that data is not normally distributed"
   ]
  },
  {
   "cell_type": "code",
   "execution_count": 56,
   "id": "d1a36fed-3cf4-405f-8b6e-77522afd56e1",
   "metadata": {},
   "outputs": [
    {
     "data": {
      "text/plain": [
       "<AxesSubplot:xlabel='generation_gwh_2013', ylabel='Density'>"
      ]
     },
     "execution_count": 56,
     "metadata": {},
     "output_type": "execute_result"
    },
    {
     "data": {
      "image/png": "[encoded data removed]",
      "text/plain": [
       "<Figure size 432x288 with 1 Axes>"
      ]
     },
     "metadata": {
      "needs_background": "light"
     },
     "output_type": "display_data"
    }
   ],
   "source": [
    "sns.distplot(data['generation_gwh_2013'])"
   ]
  },
  {
   "cell_type": "markdown",
   "id": "5b8b67ee-85c9-45ce-a946-3b84ad44b987",
   "metadata": {},
   "source": [
    "As per above observation Normal distribution shows that data is not normally distributed"
   ]
  },
  {
   "cell_type": "code",
   "execution_count": 57,
   "id": "1983bfd1-1cc2-4bd3-8401-b029943e1d50",
   "metadata": {},
   "outputs": [
    {
     "data": {
      "text/plain": [
       "<AxesSubplot:xlabel='generation_gwh_2014', ylabel='Density'>"
      ]
     },
     "execution_count": 57,
     "metadata": {},
     "output_type": "execute_result"
    },
    {
     "data": {
      "image/png": "[encoded data removed]",
      "text/plain": [
       "<Figure size 432x288 with 1 Axes>"
      ]
     },
     "metadata": {
      "needs_background": "light"
     },
     "output_type": "display_data"
    }
   ],
   "source": [
    "sns.distplot(data['generation_gwh_2014'])"
   ]
  },
  {
   "cell_type": "markdown",
   "id": "4af90b4a-da4a-42fd-8c31-e999989b962f",
   "metadata": {},
   "source": [
    "As per above observation Normal distribution shows that data is not normally distributed"
   ]
  },
  {
   "cell_type": "code",
   "execution_count": 58,
   "id": "3dc85519-f7af-415a-b2ad-7e61c1b7c566",
   "metadata": {},
   "outputs": [
    {
     "data": {
      "text/plain": [
       "<AxesSubplot:xlabel='generation_gwh_2015', ylabel='Density'>"
      ]
     },
     "execution_count": 58,
     "metadata": {},
     "output_type": "execute_result"
    },
    {
     "data": {
      "image/png": "[encoded data removed]",
      "text/plain": [
       "<Figure size 432x288 with 1 Axes>"
      ]
     },
     "metadata": {
      "needs_background": "light"
     },
     "output_type": "display_data"
    }
   ],
   "source": [
    "sns.distplot(data['generation_gwh_2015'])"
   ]
  },
  {
   "cell_type": "markdown",
   "id": "613ca073-1235-45e7-a80d-0f92a7cdf86b",
   "metadata": {},
   "source": [
    "As per above observation Normal distribution shows that data is not normally distributed"
   ]
  },
  {
   "cell_type": "code",
   "execution_count": 59,
   "id": "968b03d1-f393-4ced-afb8-bafa73f3a2ff",
   "metadata": {},
   "outputs": [
    {
     "data": {
      "text/plain": [
       "<AxesSubplot:xlabel='generation_gwh_2016', ylabel='Density'>"
      ]
     },
     "execution_count": 59,
     "metadata": {},
     "output_type": "execute_result"
    },
    {
     "data": {
      "image/png": "[encoded data removed]",
      "text/plain": [
       "<Figure size 432x288 with 1 Axes>"
      ]
     },
     "metadata": {
      "needs_background": "light"
     },
     "output_type": "display_data"
    }
   ],
   "source": [
    "sns.distplot(data['generation_gwh_2016'])"
   ]
  },
  {
   "cell_type": "markdown",
   "id": "c4267fda-a320-49d2-8c3c-529aea7e1f6a",
   "metadata": {},
   "source": [
    "As per above observation Normal distribution shows that data is not normally distributed"
   ]
  },
  {
   "cell_type": "code",
   "execution_count": 60,
   "id": "26fd49f8-d5c0-416b-b863-ac53c9cd6077",
   "metadata": {},
   "outputs": [
    {
     "data": {
      "text/plain": [
       "<AxesSubplot:xlabel='generation_gwh_2017', ylabel='Density'>"
      ]
     },
     "execution_count": 60,
     "metadata": {},
     "output_type": "execute_result"
    },
    {
     "data": {
      "image/png": "[encoded data removed]",
      "text/plain": [
       "<Figure size 432x288 with 1 Axes>"
      ]
     },
     "metadata": {
      "needs_background": "light"
     },
     "output_type": "display_data"
    }
   ],
   "source": [
    "sns.distplot(data['generation_gwh_2017'])"
   ]
  },
  {
   "cell_type": "markdown",
   "id": "37a7507b-6f07-44ec-851d-e338057f43c8",
   "metadata": {},
   "source": [
    "As per above observation Normal distribution shows that data is not normally distributed"
   ]
  },
  {
   "cell_type": "code",
   "execution_count": 62,
   "id": "5f5b1d84-551f-4240-bef9-b80f89de7912",
   "metadata": {},
   "outputs": [
    {
     "data": {
      "text/plain": [
       "capacity_mw               float64\n",
       "latitude                  float64\n",
       "longitude                 float64\n",
       "primary_fuel                int32\n",
       "commissioning_year        float64\n",
       "source                     object\n",
       "geolocation_source         object\n",
       "generation_gwh_2013       float64\n",
       "generation_gwh_2014       float64\n",
       "generation_gwh_2015       float64\n",
       "generation_gwh_2016       float64\n",
       "generation_gwh_2017       float64\n",
       "generation_data_source     object\n",
       "dtype: object"
      ]
     },
     "execution_count": 62,
     "metadata": {},
     "output_type": "execute_result"
    }
   ],
   "source": [
    "data.dtypes"
   ]
  },
  {
   "cell_type": "code",
   "execution_count": 64,
   "id": "adfde8c2-c584-44b9-9987-e7d4c01b956d",
   "metadata": {},
   "outputs": [],
   "source": [
    "for i in data.columns:\n",
    "    if data[i].dtypes=='object':\n",
    "        data[i]=le.fit_transform(data[i])       "
   ]
  },
  {
   "cell_type": "markdown",
   "id": "f2e0783e-0270-4231-8aef-ae592b8bd23d",
   "metadata": {},
   "source": [
    "# Outlier Removal"
   ]
  },
  {
   "cell_type": "code",
   "execution_count": 65,
   "id": "247be2c9-1e12-4033-a01e-8244ae276153",
   "metadata": {},
   "outputs": [
    {
     "data": {
      "text/plain": [
       "(908, 13)"
      ]
     },
     "execution_count": 65,
     "metadata": {},
     "output_type": "execute_result"
    }
   ],
   "source": [
    "from scipy.stats import zscore\n",
    "z = np.abs(zscore(data))\n",
    "z.shape"
   ]
  },
  {
   "cell_type": "code",
   "execution_count": 66,
   "id": "5ce5b914-5c46-4497-b2a7-f97a09dbe754",
   "metadata": {},
   "outputs": [
    {
     "name": "stdout",
     "output_type": "stream",
     "text": [
      "(array([ 15,  15,  15,  15,  72,  81, 144, 144, 144, 144, 144, 144, 159,\n",
      "       159, 180, 184, 192, 210, 210, 210, 210, 210, 210, 222, 240, 245,\n",
      "       300, 309, 309, 309, 309, 309, 309, 322, 324, 334, 341, 343, 346,\n",
      "       361, 364, 365, 365, 365, 365, 365, 365, 372, 376, 389, 417, 428,\n",
      "       445, 455, 479, 483, 485, 494, 494, 494, 494, 494, 494, 495, 495,\n",
      "       495, 495, 495, 495, 500, 520, 530, 533, 533, 539, 542, 547, 575,\n",
      "       584, 602, 622, 624, 639, 649, 649, 649, 649, 649, 649, 658, 658,\n",
      "       658, 658, 658, 658, 662, 670, 690, 696, 696, 696, 696, 696, 707,\n",
      "       710, 722, 722, 722, 722, 722, 725, 725, 725, 725, 725, 727, 727,\n",
      "       727, 727, 727, 727, 729, 787, 787, 787, 787, 787, 787, 789, 808,\n",
      "       809, 809, 809, 809, 809, 809, 819, 833, 848, 849, 849, 871, 872,\n",
      "       880, 881, 881, 881, 881, 881, 881, 896, 901], dtype=int64), array([ 0,  9, 10, 11,  5,  5,  0,  7,  8,  9, 10, 11,  7,  8,  2,  2,  5,\n",
      "        0,  7,  8,  9, 10, 11,  4,  2,  2,  5,  0,  7,  8,  9, 10, 11,  5,\n",
      "        2,  2,  2,  4,  5,  2,  0,  0,  7,  8,  9, 10, 11,  4,  0,  2,  2,\n",
      "        2,  4,  4,  4,  0,  4,  0,  7,  8,  9, 10, 11,  0,  7,  8,  9, 10,\n",
      "       11,  2,  2,  2,  7,  8,  4,  4,  2,  4,  4,  4,  4,  8,  2,  0,  7,\n",
      "        8,  9, 10, 11,  0,  7,  8,  9, 10, 11,  5,  5,  5,  0,  8,  9, 10,\n",
      "       11,  4,  4,  7,  8,  9, 10, 11,  7,  8,  9, 10, 11,  0,  7,  8,  9,\n",
      "       10, 11,  4,  0,  7,  8,  9, 10, 11,  0,  4,  0,  7,  8,  9, 10, 11,\n",
      "        2,  5,  2,  2,  4,  5,  5,  5,  0,  7,  8,  9, 10, 11,  5,  5],\n",
      "      dtype=int64))\n"
     ]
    }
   ],
   "source": [
    "# finding outlier points\n",
    "threshold =3\n",
    "print(np.where(z>3))"
   ]
  },
  {
   "cell_type": "code",
   "execution_count": 68,
   "id": "af7d8481-20c0-46f8-acb8-460609af1567",
   "metadata": {},
   "outputs": [
    {
     "name": "stdout",
     "output_type": "stream",
     "text": [
      "(908, 13)\n",
      "(0, 13)\n"
     ]
    }
   ],
   "source": [
    "# finding data Range between (-3,3)\n",
    "data_new = data[(z<3).all(axis=1)]\n",
    "print(data.shape)\n",
    "print(data_new.shape)"
   ]
  },
  {
   "cell_type": "code",
   "execution_count": 69,
   "id": "57badddd-6ab0-46b3-a017-0cfe57ed6d5a",
   "metadata": {},
   "outputs": [
    {
     "data": {
      "text/html": [
       "<div>\n",
       "<style scoped>\n",
       "    .dataframe tbody tr th:only-of-type {\n",
       "        vertical-align: middle;\n",
       "    }\n",
       "\n",
       "    .dataframe tbody tr th {\n",
       "        vertical-align: top;\n",
       "    }\n",
       "\n",
       "    .dataframe thead th {\n",
       "        text-align: right;\n",
       "    }\n",
       "</style>\n",
       "<table border=\"1\" class=\"dataframe\">\n",
       "  <thead>\n",
       "    <tr style=\"text-align: right;\">\n",
       "      <th></th>\n",
       "      <th>capacity_mw</th>\n",
       "      <th>latitude</th>\n",
       "      <th>longitude</th>\n",
       "      <th>primary_fuel</th>\n",
       "      <th>commissioning_year</th>\n",
       "      <th>source</th>\n",
       "      <th>geolocation_source</th>\n",
       "      <th>generation_gwh_2013</th>\n",
       "      <th>generation_gwh_2014</th>\n",
       "      <th>generation_gwh_2015</th>\n",
       "      <th>generation_gwh_2016</th>\n",
       "      <th>generation_gwh_2017</th>\n",
       "      <th>generation_data_source</th>\n",
       "    </tr>\n",
       "  </thead>\n",
       "  <tbody>\n",
       "    <tr>\n",
       "      <th>0</th>\n",
       "      <td>2.5</td>\n",
       "      <td>28.1839</td>\n",
       "      <td>73.2407</td>\n",
       "      <td>6</td>\n",
       "      <td>2011.000000</td>\n",
       "      <td>109</td>\n",
       "      <td>1</td>\n",
       "      <td>797.063475</td>\n",
       "      <td>805.760000</td>\n",
       "      <td>701.027250</td>\n",
       "      <td>716.728350</td>\n",
       "      <td>807.601700</td>\n",
       "      <td>0</td>\n",
       "    </tr>\n",
       "    <tr>\n",
       "      <th>1</th>\n",
       "      <td>98.0</td>\n",
       "      <td>24.7663</td>\n",
       "      <td>74.6090</td>\n",
       "      <td>1</td>\n",
       "      <td>1996.876894</td>\n",
       "      <td>174</td>\n",
       "      <td>2</td>\n",
       "      <td>797.063475</td>\n",
       "      <td>805.760000</td>\n",
       "      <td>701.027250</td>\n",
       "      <td>716.728350</td>\n",
       "      <td>807.601700</td>\n",
       "      <td>0</td>\n",
       "    </tr>\n",
       "    <tr>\n",
       "      <th>2</th>\n",
       "      <td>39.2</td>\n",
       "      <td>21.9038</td>\n",
       "      <td>69.3732</td>\n",
       "      <td>7</td>\n",
       "      <td>1996.876894</td>\n",
       "      <td>21</td>\n",
       "      <td>2</td>\n",
       "      <td>797.063475</td>\n",
       "      <td>805.760000</td>\n",
       "      <td>701.027250</td>\n",
       "      <td>716.728350</td>\n",
       "      <td>807.601700</td>\n",
       "      <td>0</td>\n",
       "    </tr>\n",
       "    <tr>\n",
       "      <th>3</th>\n",
       "      <td>135.0</td>\n",
       "      <td>23.8712</td>\n",
       "      <td>91.3602</td>\n",
       "      <td>2</td>\n",
       "      <td>2004.000000</td>\n",
       "      <td>22</td>\n",
       "      <td>2</td>\n",
       "      <td>631.777928</td>\n",
       "      <td>617.789264</td>\n",
       "      <td>843.747000</td>\n",
       "      <td>886.004428</td>\n",
       "      <td>663.774500</td>\n",
       "      <td>0</td>\n",
       "    </tr>\n",
       "    <tr>\n",
       "      <th>4</th>\n",
       "      <td>1800.0</td>\n",
       "      <td>21.9603</td>\n",
       "      <td>82.4091</td>\n",
       "      <td>1</td>\n",
       "      <td>2015.000000</td>\n",
       "      <td>22</td>\n",
       "      <td>2</td>\n",
       "      <td>1668.290000</td>\n",
       "      <td>3035.550000</td>\n",
       "      <td>5916.370000</td>\n",
       "      <td>6243.000000</td>\n",
       "      <td>5385.579736</td>\n",
       "      <td>0</td>\n",
       "    </tr>\n",
       "    <tr>\n",
       "      <th>...</th>\n",
       "      <td>...</td>\n",
       "      <td>...</td>\n",
       "      <td>...</td>\n",
       "      <td>...</td>\n",
       "      <td>...</td>\n",
       "      <td>...</td>\n",
       "      <td>...</td>\n",
       "      <td>...</td>\n",
       "      <td>...</td>\n",
       "      <td>...</td>\n",
       "      <td>...</td>\n",
       "      <td>...</td>\n",
       "      <td>...</td>\n",
       "    </tr>\n",
       "    <tr>\n",
       "      <th>903</th>\n",
       "      <td>1600.0</td>\n",
       "      <td>16.2949</td>\n",
       "      <td>77.3568</td>\n",
       "      <td>1</td>\n",
       "      <td>2016.000000</td>\n",
       "      <td>22</td>\n",
       "      <td>2</td>\n",
       "      <td>797.063475</td>\n",
       "      <td>805.760000</td>\n",
       "      <td>0.994875</td>\n",
       "      <td>233.596650</td>\n",
       "      <td>865.400000</td>\n",
       "      <td>0</td>\n",
       "    </tr>\n",
       "    <tr>\n",
       "      <th>904</th>\n",
       "      <td>3.0</td>\n",
       "      <td>12.8932</td>\n",
       "      <td>78.1654</td>\n",
       "      <td>6</td>\n",
       "      <td>1996.876894</td>\n",
       "      <td>77</td>\n",
       "      <td>0</td>\n",
       "      <td>797.063475</td>\n",
       "      <td>805.760000</td>\n",
       "      <td>701.027250</td>\n",
       "      <td>716.728350</td>\n",
       "      <td>807.601700</td>\n",
       "      <td>0</td>\n",
       "    </tr>\n",
       "    <tr>\n",
       "      <th>905</th>\n",
       "      <td>25.5</td>\n",
       "      <td>15.2758</td>\n",
       "      <td>75.5811</td>\n",
       "      <td>7</td>\n",
       "      <td>1996.876894</td>\n",
       "      <td>21</td>\n",
       "      <td>2</td>\n",
       "      <td>797.063475</td>\n",
       "      <td>805.760000</td>\n",
       "      <td>701.027250</td>\n",
       "      <td>716.728350</td>\n",
       "      <td>807.601700</td>\n",
       "      <td>0</td>\n",
       "    </tr>\n",
       "    <tr>\n",
       "      <th>906</th>\n",
       "      <td>80.0</td>\n",
       "      <td>24.3500</td>\n",
       "      <td>73.7477</td>\n",
       "      <td>1</td>\n",
       "      <td>1996.876894</td>\n",
       "      <td>59</td>\n",
       "      <td>2</td>\n",
       "      <td>797.063475</td>\n",
       "      <td>805.760000</td>\n",
       "      <td>701.027250</td>\n",
       "      <td>716.728350</td>\n",
       "      <td>807.601700</td>\n",
       "      <td>0</td>\n",
       "    </tr>\n",
       "    <tr>\n",
       "      <th>907</th>\n",
       "      <td>16.5</td>\n",
       "      <td>9.9344</td>\n",
       "      <td>77.4768</td>\n",
       "      <td>7</td>\n",
       "      <td>1996.876894</td>\n",
       "      <td>21</td>\n",
       "      <td>2</td>\n",
       "      <td>797.063475</td>\n",
       "      <td>805.760000</td>\n",
       "      <td>701.027250</td>\n",
       "      <td>716.728350</td>\n",
       "      <td>807.601700</td>\n",
       "      <td>0</td>\n",
       "    </tr>\n",
       "  </tbody>\n",
       "</table>\n",
       "<p>908 rows × 13 columns</p>\n",
       "</div>"
      ],
      "text/plain": [
       "     capacity_mw  latitude  longitude  primary_fuel  commissioning_year  \\\n",
       "0            2.5   28.1839    73.2407             6         2011.000000   \n",
       "1           98.0   24.7663    74.6090             1         1996.876894   \n",
       "2           39.2   21.9038    69.3732             7         1996.876894   \n",
       "3          135.0   23.8712    91.3602             2         2004.000000   \n",
       "4         1800.0   21.9603    82.4091             1         2015.000000   \n",
       "..           ...       ...        ...           ...                 ...   \n",
       "903       1600.0   16.2949    77.3568             1         2016.000000   \n",
       "904          3.0   12.8932    78.1654             6         1996.876894   \n",
       "905         25.5   15.2758    75.5811             7         1996.876894   \n",
       "906         80.0   24.3500    73.7477             1         1996.876894   \n",
       "907         16.5    9.9344    77.4768             7         1996.876894   \n",
       "\n",
       "     source  geolocation_source  generation_gwh_2013  generation_gwh_2014  \\\n",
       "0       109                   1           797.063475           805.760000   \n",
       "1       174                   2           797.063475           805.760000   \n",
       "2        21                   2           797.063475           805.760000   \n",
       "3        22                   2           631.777928           617.789264   \n",
       "4        22                   2          1668.290000          3035.550000   \n",
       "..      ...                 ...                  ...                  ...   \n",
       "903      22                   2           797.063475           805.760000   \n",
       "904      77                   0           797.063475           805.760000   \n",
       "905      21                   2           797.063475           805.760000   \n",
       "906      59                   2           797.063475           805.760000   \n",
       "907      21                   2           797.063475           805.760000   \n",
       "\n",
       "     generation_gwh_2015  generation_gwh_2016  generation_gwh_2017  \\\n",
       "0             701.027250           716.728350           807.601700   \n",
       "1             701.027250           716.728350           807.601700   \n",
       "2             701.027250           716.728350           807.601700   \n",
       "3             843.747000           886.004428           663.774500   \n",
       "4            5916.370000          6243.000000          5385.579736   \n",
       "..                   ...                  ...                  ...   \n",
       "903             0.994875           233.596650           865.400000   \n",
       "904           701.027250           716.728350           807.601700   \n",
       "905           701.027250           716.728350           807.601700   \n",
       "906           701.027250           716.728350           807.601700   \n",
       "907           701.027250           716.728350           807.601700   \n",
       "\n",
       "     generation_data_source  \n",
       "0                         0  \n",
       "1                         0  \n",
       "2                         0  \n",
       "3                         0  \n",
       "4                         0  \n",
       "..                      ...  \n",
       "903                       0  \n",
       "904                       0  \n",
       "905                       0  \n",
       "906                       0  \n",
       "907                       0  \n",
       "\n",
       "[908 rows x 13 columns]"
      ]
     },
     "execution_count": 69,
     "metadata": {},
     "output_type": "execute_result"
    }
   ],
   "source": [
    "data"
   ]
  },
  {
   "cell_type": "markdown",
   "id": "0d56d06e-04ee-4764-94fd-5d60a9729ae1",
   "metadata": {},
   "source": [
    "# Dividing dataset into features and vector"
   ]
  },
  {
   "cell_type": "code",
   "execution_count": 70,
   "id": "07ca892c-1f2e-4837-a4ed-9a85c1864826",
   "metadata": {},
   "outputs": [],
   "source": [
    "x = data.drop('primary_fuel',axis=1)"
   ]
  },
  {
   "cell_type": "code",
   "execution_count": 71,
   "id": "0d6c6697-98c8-4a1d-b36d-20b322de2639",
   "metadata": {},
   "outputs": [],
   "source": [
    "y = data['primary_fuel']"
   ]
  },
  {
   "cell_type": "markdown",
   "id": "a9ad8f08-4164-4ca7-9ac8-069cc9997809",
   "metadata": {},
   "source": [
    "# to get best random state"
   ]
  },
  {
   "cell_type": "code",
   "execution_count": 73,
   "id": "d9b5a5aa-9f49-4a99-b02c-3c6eb3830bd9",
   "metadata": {},
   "outputs": [
    {
     "name": "stdout",
     "output_type": "stream",
     "text": [
      "Best accuracy score 0.6318681318681318 on best random state 6\n"
     ]
    }
   ],
   "source": [
    "maxAcc = 0\n",
    "maxRS = 0\n",
    "\n",
    "for i in range(1,200):\n",
    "    x_train,x_test,y_train,y_test = train_test_split(x,y,test_size=0.2,random_state=i)\n",
    "    mod = LogisticRegression()\n",
    "    mod.fit(x_train,y_train)\n",
    "    pred = mod.predict(x_test)\n",
    "    acc = accuracy_score(pred,y_test)\n",
    "    if acc>maxAcc:\n",
    "        maxAcc=acc\n",
    "        maxRS=i\n",
    "print(\"Best accuracy score\",maxAcc,\"on best random state\",maxRS)        "
   ]
  },
  {
   "cell_type": "code",
   "execution_count": 74,
   "id": "43e81ccc-c4b4-449e-8d48-a6443a1062a1",
   "metadata": {},
   "outputs": [],
   "source": [
    "x_train,x_test,y_train,y_test = train_test_split(x,y,test_size=0.2,random_state=6)"
   ]
  },
  {
   "cell_type": "markdown",
   "id": "dc6734a5-c092-48c9-9737-9657d73325fc",
   "metadata": {},
   "source": [
    "# Data Normalization"
   ]
  },
  {
   "cell_type": "code",
   "execution_count": 75,
   "id": "1c1f4978-6697-48b9-a272-7040df73215a",
   "metadata": {},
   "outputs": [],
   "source": [
    "sc = StandardScaler()\n",
    "x_train = sc.fit_transform(x_train)\n",
    "x_test = sc.transform(x_test)"
   ]
  },
  {
   "cell_type": "markdown",
   "id": "6a8c3ef2-0e7d-4ceb-8443-310ccc8e840a",
   "metadata": {},
   "source": [
    "# Logistic regression"
   ]
  },
  {
   "cell_type": "code",
   "execution_count": 76,
   "id": "e1662aaf-608a-4aa7-b21e-374d48fd48f9",
   "metadata": {},
   "outputs": [
    {
     "name": "stdout",
     "output_type": "stream",
     "text": [
      "              precision    recall  f1-score   support\n",
      "\n",
      "           0       0.50      0.62      0.56         8\n",
      "           1       0.87      0.65      0.75        52\n",
      "           2       0.05      1.00      0.09         1\n",
      "           3       0.74      0.64      0.68        66\n",
      "           5       0.00      0.00      0.00         0\n",
      "           6       0.97      1.00      0.98        28\n",
      "           7       0.76      0.59      0.67        27\n",
      "\n",
      "    accuracy                           0.69       182\n",
      "   macro avg       0.55      0.64      0.53       182\n",
      "weighted avg       0.80      0.69      0.74       182\n",
      "\n"
     ]
    }
   ],
   "source": [
    "lr = LogisticRegression()\n",
    "lr.fit(x_train,y_train)\n",
    "lr_pd = lr.predict(x_test)\n",
    "print(classification_report(lr_pd,y_test))"
   ]
  },
  {
   "cell_type": "markdown",
   "id": "accdf6c8-5ad2-431c-bc69-1a0ea9efdd27",
   "metadata": {},
   "source": [
    "# Decision Tree Classifier"
   ]
  },
  {
   "cell_type": "code",
   "execution_count": 77,
   "id": "254a2fbc-07e8-46dc-ab97-a76d7b1e28a6",
   "metadata": {},
   "outputs": [
    {
     "name": "stdout",
     "output_type": "stream",
     "text": [
      "              precision    recall  f1-score   support\n",
      "\n",
      "           0       0.60      0.86      0.71         7\n",
      "           1       0.92      0.77      0.84        47\n",
      "           2       0.32      0.64      0.42        11\n",
      "           3       0.93      0.90      0.91        59\n",
      "           5       0.75      0.38      0.50         8\n",
      "           6       1.00      1.00      1.00        29\n",
      "           7       1.00      1.00      1.00        21\n",
      "\n",
      "    accuracy                           0.85       182\n",
      "   macro avg       0.79      0.79      0.77       182\n",
      "weighted avg       0.89      0.85      0.86       182\n",
      "\n"
     ]
    }
   ],
   "source": [
    "from sklearn.tree import DecisionTreeClassifier\n",
    "dt = DecisionTreeClassifier()\n",
    "dt.fit(x_train,y_train)\n",
    "dt_pd = dt.predict(x_test)\n",
    "print(classification_report(dt_pd,y_test))"
   ]
  },
  {
   "cell_type": "markdown",
   "id": "77b7d4be-cde4-4e8b-aeeb-e32d46bf756c",
   "metadata": {},
   "source": [
    "# Random Forest Classifier"
   ]
  },
  {
   "cell_type": "code",
   "execution_count": 78,
   "id": "4b054d4f-80d6-4844-99d2-600c66035d65",
   "metadata": {},
   "outputs": [
    {
     "name": "stdout",
     "output_type": "stream",
     "text": [
      "              precision    recall  f1-score   support\n",
      "\n",
      "           0       0.90      0.82      0.86        11\n",
      "           1       0.92      0.69      0.79        52\n",
      "           2       0.14      1.00      0.24         3\n",
      "           3       0.96      0.92      0.94        60\n",
      "           5       0.50      0.33      0.40         6\n",
      "           6       1.00      1.00      1.00        29\n",
      "           7       1.00      1.00      1.00        21\n",
      "\n",
      "    accuracy                           0.85       182\n",
      "   macro avg       0.77      0.82      0.75       182\n",
      "weighted avg       0.93      0.85      0.88       182\n",
      "\n"
     ]
    }
   ],
   "source": [
    "from sklearn.ensemble import RandomForestClassifier\n",
    "rf = RandomForestClassifier()\n",
    "rf.fit(x_train,y_train)\n",
    "rf_pd = rf.predict(x_test)\n",
    "print(classification_report(rf_pd,y_test))"
   ]
  },
  {
   "cell_type": "markdown",
   "id": "9212a35a-97fa-46d6-88fd-d485eef6fa33",
   "metadata": {},
   "source": [
    "# Support Vector Classifier"
   ]
  },
  {
   "cell_type": "code",
   "execution_count": 79,
   "id": "420694d8-b721-44af-a26d-168fb100ff14",
   "metadata": {},
   "outputs": [
    {
     "name": "stdout",
     "output_type": "stream",
     "text": [
      "              precision    recall  f1-score   support\n",
      "\n",
      "           0       0.50      0.38      0.43        13\n",
      "           1       0.79      0.66      0.72        47\n",
      "           2       0.00      0.00      0.00         1\n",
      "           3       0.72      0.75      0.73        55\n",
      "           5       0.00      0.00      0.00         0\n",
      "           6       0.97      1.00      0.98        28\n",
      "           7       1.00      0.55      0.71        38\n",
      "\n",
      "    accuracy                           0.69       182\n",
      "   macro avg       0.57      0.48      0.51       182\n",
      "weighted avg       0.82      0.69      0.74       182\n",
      "\n"
     ]
    }
   ],
   "source": [
    "from sklearn.svm import SVC\n",
    "svm = SVC()\n",
    "svm.fit(x_train,y_train)\n",
    "svm_pd = svm.predict(x_test)\n",
    "print(classification_report(svm_pd,y_test))"
   ]
  },
  {
   "cell_type": "markdown",
   "id": "354ecf4c-60fd-4a73-a917-06287c2367f6",
   "metadata": {},
   "source": [
    "# Cross_Validation"
   ]
  },
  {
   "cell_type": "code",
   "execution_count": 80,
   "id": "2f97d2a2-db67-476a-a272-d5b03d70f4a2",
   "metadata": {},
   "outputs": [
    {
     "name": "stdout",
     "output_type": "stream",
     "text": [
      "0.5462934855200048\n"
     ]
    }
   ],
   "source": [
    "print(cross_val_score(lr,x,y,cv=5).mean())"
   ]
  },
  {
   "cell_type": "code",
   "execution_count": 81,
   "id": "346b55b6-918f-4bd4-9e39-a512b02a98ea",
   "metadata": {},
   "outputs": [
    {
     "name": "stdout",
     "output_type": "stream",
     "text": [
      "0.7973468520429846\n"
     ]
    }
   ],
   "source": [
    "print(cross_val_score(dt,x,y,cv=5).mean())"
   ]
  },
  {
   "cell_type": "code",
   "execution_count": 82,
   "id": "1bf3c635-9420-4d05-abfe-be2ae5950eda",
   "metadata": {},
   "outputs": [
    {
     "name": "stdout",
     "output_type": "stream",
     "text": [
      "0.8491166292271265\n"
     ]
    }
   ],
   "source": [
    "print(cross_val_score(rf,x,y,cv=5).mean())"
   ]
  },
  {
   "cell_type": "code",
   "execution_count": 83,
   "id": "831e0cf9-47e4-475a-9e93-97512bf90341",
   "metadata": {},
   "outputs": [
    {
     "name": "stdout",
     "output_type": "stream",
     "text": [
      "0.3921073401736385\n"
     ]
    }
   ],
   "source": [
    "print(cross_val_score(svm,x,y,cv=5).mean())"
   ]
  },
  {
   "cell_type": "markdown",
   "id": "89665bae-245b-401b-a01d-843ab4d6f5d2",
   "metadata": {},
   "source": [
    "As per above observation, difference between accuracy score and cross_val_score is very less for Random Forest Classifier in comparison to other model hence we will go with Decision Tree Classifier"
   ]
  },
  {
   "cell_type": "markdown",
   "id": "6822a07b-74ad-445d-86d4-fa0e88750982",
   "metadata": {},
   "source": [
    "# Hyperparameter Tuning"
   ]
  },
  {
   "cell_type": "code",
   "execution_count": 84,
   "id": "b188aa03-fa34-4bda-83f4-8b013ae3ea53",
   "metadata": {},
   "outputs": [],
   "source": [
    "parameter = {'n_estimators':[1000],\n",
    "             'criterion':['gini','entropy'],\n",
    "             'max_depth':np.arange(2,10),\n",
    "             'random_state':[6],\n",
    "             'max_features':['auto','sqrt','log2']}"
   ]
  },
  {
   "cell_type": "code",
   "execution_count": 87,
   "id": "09f93dd7-f52c-41f4-a313-b417206361f1",
   "metadata": {},
   "outputs": [],
   "source": [
    "gsc = GridSearchCV(estimator=rf,param_grid=parameter,cv=5)"
   ]
  },
  {
   "cell_type": "code",
   "execution_count": 88,
   "id": "ba6c8dcd-2f17-476a-aa3a-43daf1f234e0",
   "metadata": {},
   "outputs": [
    {
     "data": {
      "text/plain": [
       "GridSearchCV(cv=5, estimator=RandomForestClassifier(),\n",
       "             param_grid={'criterion': ['gini', 'entropy'],\n",
       "                         'max_depth': array([2, 3, 4, 5, 6, 7, 8, 9]),\n",
       "                         'max_features': ['auto', 'sqrt', 'log2'],\n",
       "                         'n_estimators': [1000], 'random_state': [6]})"
      ]
     },
     "execution_count": 88,
     "metadata": {},
     "output_type": "execute_result"
    }
   ],
   "source": [
    "gsc.fit(x_train,y_train)"
   ]
  },
  {
   "cell_type": "code",
   "execution_count": 89,
   "id": "3f30be78-480a-4bdf-9705-787dc6d46e26",
   "metadata": {},
   "outputs": [
    {
     "data": {
      "text/plain": [
       "{'criterion': 'entropy',\n",
       " 'max_depth': 9,\n",
       " 'max_features': 'auto',\n",
       " 'n_estimators': 1000,\n",
       " 'random_state': 6}"
      ]
     },
     "execution_count": 89,
     "metadata": {},
     "output_type": "execute_result"
    }
   ],
   "source": [
    "# finding best parameter to build model\n",
    "gsc.best_params_"
   ]
  },
  {
   "cell_type": "markdown",
   "id": "7c5cacb3-31a8-4a12-9f3b-f6397cf54d4c",
   "metadata": {},
   "source": [
    "# Final Model"
   ]
  },
  {
   "cell_type": "code",
   "execution_count": 91,
   "id": "ac03bb29-c9f9-47ca-801e-a428a65484ab",
   "metadata": {},
   "outputs": [
    {
     "name": "stdout",
     "output_type": "stream",
     "text": [
      "              precision    recall  f1-score   support\n",
      "\n",
      "           0       0.70      0.88      0.78         8\n",
      "           1       0.95      0.67      0.79        55\n",
      "           2       0.18      1.00      0.31         4\n",
      "           3       0.96      0.92      0.94        60\n",
      "           5       0.50      0.40      0.44         5\n",
      "           6       1.00      1.00      1.00        29\n",
      "           7       1.00      1.00      1.00        21\n",
      "\n",
      "    accuracy                           0.85       182\n",
      "   macro avg       0.76      0.84      0.75       182\n",
      "weighted avg       0.93      0.85      0.88       182\n",
      "\n"
     ]
    }
   ],
   "source": [
    "final_df = RandomForestClassifier(criterion='entropy',max_depth=9,max_features='auto',random_state=6,n_estimators=1000)\n",
    "final_df.fit(x_train,y_train)\n",
    "prd = final_df.predict(x_test)\n",
    "print(classification_report(prd,y_test))"
   ]
  },
  {
   "cell_type": "markdown",
   "id": "263ec4e8-bcaa-4da1-bbfd-226da836e91f",
   "metadata": {},
   "source": [
    "# Checking how my model is performing"
   ]
  },
  {
   "cell_type": "code",
   "execution_count": 92,
   "id": "bd3f0446-11f8-46c3-af9a-1680ec35882d",
   "metadata": {},
   "outputs": [],
   "source": [
    "a = np.array(y_test)\n",
    "predicted = np.array(dt.predict(x_test))\n",
    "df_com = pd.DataFrame({'Original':a,'predicted':predicted},index=range(len(a)))"
   ]
  },
  {
   "cell_type": "code",
   "execution_count": 93,
   "id": "25a51faa-d6e3-451d-b357-92612d5fb2fc",
   "metadata": {},
   "outputs": [
    {
     "data": {
      "text/html": [
       "<div>\n",
       "<style scoped>\n",
       "    .dataframe tbody tr th:only-of-type {\n",
       "        vertical-align: middle;\n",
       "    }\n",
       "\n",
       "    .dataframe tbody tr th {\n",
       "        vertical-align: top;\n",
       "    }\n",
       "\n",
       "    .dataframe thead th {\n",
       "        text-align: right;\n",
       "    }\n",
       "</style>\n",
       "<table border=\"1\" class=\"dataframe\">\n",
       "  <thead>\n",
       "    <tr style=\"text-align: right;\">\n",
       "      <th></th>\n",
       "      <th>Original</th>\n",
       "      <th>predicted</th>\n",
       "    </tr>\n",
       "  </thead>\n",
       "  <tbody>\n",
       "    <tr>\n",
       "      <th>0</th>\n",
       "      <td>3</td>\n",
       "      <td>3</td>\n",
       "    </tr>\n",
       "    <tr>\n",
       "      <th>1</th>\n",
       "      <td>6</td>\n",
       "      <td>6</td>\n",
       "    </tr>\n",
       "    <tr>\n",
       "      <th>2</th>\n",
       "      <td>1</td>\n",
       "      <td>1</td>\n",
       "    </tr>\n",
       "    <tr>\n",
       "      <th>3</th>\n",
       "      <td>3</td>\n",
       "      <td>3</td>\n",
       "    </tr>\n",
       "    <tr>\n",
       "      <th>4</th>\n",
       "      <td>6</td>\n",
       "      <td>6</td>\n",
       "    </tr>\n",
       "    <tr>\n",
       "      <th>...</th>\n",
       "      <td>...</td>\n",
       "      <td>...</td>\n",
       "    </tr>\n",
       "    <tr>\n",
       "      <th>177</th>\n",
       "      <td>3</td>\n",
       "      <td>3</td>\n",
       "    </tr>\n",
       "    <tr>\n",
       "      <th>178</th>\n",
       "      <td>6</td>\n",
       "      <td>6</td>\n",
       "    </tr>\n",
       "    <tr>\n",
       "      <th>179</th>\n",
       "      <td>6</td>\n",
       "      <td>6</td>\n",
       "    </tr>\n",
       "    <tr>\n",
       "      <th>180</th>\n",
       "      <td>2</td>\n",
       "      <td>3</td>\n",
       "    </tr>\n",
       "    <tr>\n",
       "      <th>181</th>\n",
       "      <td>1</td>\n",
       "      <td>1</td>\n",
       "    </tr>\n",
       "  </tbody>\n",
       "</table>\n",
       "<p>182 rows × 2 columns</p>\n",
       "</div>"
      ],
      "text/plain": [
       "     Original  predicted\n",
       "0           3          3\n",
       "1           6          6\n",
       "2           1          1\n",
       "3           3          3\n",
       "4           6          6\n",
       "..        ...        ...\n",
       "177         3          3\n",
       "178         6          6\n",
       "179         6          6\n",
       "180         2          3\n",
       "181         1          1\n",
       "\n",
       "[182 rows x 2 columns]"
      ]
     },
     "execution_count": 93,
     "metadata": {},
     "output_type": "execute_result"
    }
   ],
   "source": [
    "df_com"
   ]
  },
  {
   "cell_type": "markdown",
   "id": "34657b99-9860-4aae-b9d6-6d1331452208",
   "metadata": {},
   "source": [
    "# save Model"
   ]
  },
  {
   "cell_type": "code",
   "execution_count": 94,
   "id": "75c0ba4e-1f01-498c-8dc0-c637380f7a35",
   "metadata": {},
   "outputs": [
    {
     "data": {
      "text/plain": [
       "['global_power_plant_database_Model']"
      ]
     },
     "execution_count": 94,
     "metadata": {},
     "output_type": "execute_result"
    }
   ],
   "source": [
    "import joblib\n",
    "joblib.dump(final_df,\"global_power_plant_database_Model\")"
   ]
  },
  {
   "cell_type": "markdown",
   "id": "db03ae30-c177-4434-a97d-99f4a72f89d3",
   "metadata": {},
   "source": [
    "#  Prediction :   capacity_mw  wise"
   ]
  },
  {
   "cell_type": "code",
   "execution_count": 95,
   "id": "646e4e13-9d80-4ab6-9301-08b627071147",
   "metadata": {},
   "outputs": [
    {
     "data": {
      "text/html": [
       "<div>\n",
       "<style scoped>\n",
       "    .dataframe tbody tr th:only-of-type {\n",
       "        vertical-align: middle;\n",
       "    }\n",
       "\n",
       "    .dataframe tbody tr th {\n",
       "        vertical-align: top;\n",
       "    }\n",
       "\n",
       "    .dataframe thead th {\n",
       "        text-align: right;\n",
       "    }\n",
       "</style>\n",
       "<table border=\"1\" class=\"dataframe\">\n",
       "  <thead>\n",
       "    <tr style=\"text-align: right;\">\n",
       "      <th></th>\n",
       "      <th>capacity_mw</th>\n",
       "      <th>latitude</th>\n",
       "      <th>longitude</th>\n",
       "      <th>primary_fuel</th>\n",
       "      <th>commissioning_year</th>\n",
       "      <th>source</th>\n",
       "      <th>geolocation_source</th>\n",
       "      <th>generation_gwh_2013</th>\n",
       "      <th>generation_gwh_2014</th>\n",
       "      <th>generation_gwh_2015</th>\n",
       "      <th>generation_gwh_2016</th>\n",
       "      <th>generation_gwh_2017</th>\n",
       "      <th>generation_data_source</th>\n",
       "    </tr>\n",
       "  </thead>\n",
       "  <tbody>\n",
       "    <tr>\n",
       "      <th>0</th>\n",
       "      <td>2.5</td>\n",
       "      <td>28.1839</td>\n",
       "      <td>73.2407</td>\n",
       "      <td>6</td>\n",
       "      <td>2011.000000</td>\n",
       "      <td>109</td>\n",
       "      <td>1</td>\n",
       "      <td>797.063475</td>\n",
       "      <td>805.760000</td>\n",
       "      <td>701.027250</td>\n",
       "      <td>716.728350</td>\n",
       "      <td>807.601700</td>\n",
       "      <td>0</td>\n",
       "    </tr>\n",
       "    <tr>\n",
       "      <th>1</th>\n",
       "      <td>98.0</td>\n",
       "      <td>24.7663</td>\n",
       "      <td>74.6090</td>\n",
       "      <td>1</td>\n",
       "      <td>1996.876894</td>\n",
       "      <td>174</td>\n",
       "      <td>2</td>\n",
       "      <td>797.063475</td>\n",
       "      <td>805.760000</td>\n",
       "      <td>701.027250</td>\n",
       "      <td>716.728350</td>\n",
       "      <td>807.601700</td>\n",
       "      <td>0</td>\n",
       "    </tr>\n",
       "    <tr>\n",
       "      <th>2</th>\n",
       "      <td>39.2</td>\n",
       "      <td>21.9038</td>\n",
       "      <td>69.3732</td>\n",
       "      <td>7</td>\n",
       "      <td>1996.876894</td>\n",
       "      <td>21</td>\n",
       "      <td>2</td>\n",
       "      <td>797.063475</td>\n",
       "      <td>805.760000</td>\n",
       "      <td>701.027250</td>\n",
       "      <td>716.728350</td>\n",
       "      <td>807.601700</td>\n",
       "      <td>0</td>\n",
       "    </tr>\n",
       "    <tr>\n",
       "      <th>3</th>\n",
       "      <td>135.0</td>\n",
       "      <td>23.8712</td>\n",
       "      <td>91.3602</td>\n",
       "      <td>2</td>\n",
       "      <td>2004.000000</td>\n",
       "      <td>22</td>\n",
       "      <td>2</td>\n",
       "      <td>631.777928</td>\n",
       "      <td>617.789264</td>\n",
       "      <td>843.747000</td>\n",
       "      <td>886.004428</td>\n",
       "      <td>663.774500</td>\n",
       "      <td>0</td>\n",
       "    </tr>\n",
       "    <tr>\n",
       "      <th>4</th>\n",
       "      <td>1800.0</td>\n",
       "      <td>21.9603</td>\n",
       "      <td>82.4091</td>\n",
       "      <td>1</td>\n",
       "      <td>2015.000000</td>\n",
       "      <td>22</td>\n",
       "      <td>2</td>\n",
       "      <td>1668.290000</td>\n",
       "      <td>3035.550000</td>\n",
       "      <td>5916.370000</td>\n",
       "      <td>6243.000000</td>\n",
       "      <td>5385.579736</td>\n",
       "      <td>0</td>\n",
       "    </tr>\n",
       "    <tr>\n",
       "      <th>...</th>\n",
       "      <td>...</td>\n",
       "      <td>...</td>\n",
       "      <td>...</td>\n",
       "      <td>...</td>\n",
       "      <td>...</td>\n",
       "      <td>...</td>\n",
       "      <td>...</td>\n",
       "      <td>...</td>\n",
       "      <td>...</td>\n",
       "      <td>...</td>\n",
       "      <td>...</td>\n",
       "      <td>...</td>\n",
       "      <td>...</td>\n",
       "    </tr>\n",
       "    <tr>\n",
       "      <th>903</th>\n",
       "      <td>1600.0</td>\n",
       "      <td>16.2949</td>\n",
       "      <td>77.3568</td>\n",
       "      <td>1</td>\n",
       "      <td>2016.000000</td>\n",
       "      <td>22</td>\n",
       "      <td>2</td>\n",
       "      <td>797.063475</td>\n",
       "      <td>805.760000</td>\n",
       "      <td>0.994875</td>\n",
       "      <td>233.596650</td>\n",
       "      <td>865.400000</td>\n",
       "      <td>0</td>\n",
       "    </tr>\n",
       "    <tr>\n",
       "      <th>904</th>\n",
       "      <td>3.0</td>\n",
       "      <td>12.8932</td>\n",
       "      <td>78.1654</td>\n",
       "      <td>6</td>\n",
       "      <td>1996.876894</td>\n",
       "      <td>77</td>\n",
       "      <td>0</td>\n",
       "      <td>797.063475</td>\n",
       "      <td>805.760000</td>\n",
       "      <td>701.027250</td>\n",
       "      <td>716.728350</td>\n",
       "      <td>807.601700</td>\n",
       "      <td>0</td>\n",
       "    </tr>\n",
       "    <tr>\n",
       "      <th>905</th>\n",
       "      <td>25.5</td>\n",
       "      <td>15.2758</td>\n",
       "      <td>75.5811</td>\n",
       "      <td>7</td>\n",
       "      <td>1996.876894</td>\n",
       "      <td>21</td>\n",
       "      <td>2</td>\n",
       "      <td>797.063475</td>\n",
       "      <td>805.760000</td>\n",
       "      <td>701.027250</td>\n",
       "      <td>716.728350</td>\n",
       "      <td>807.601700</td>\n",
       "      <td>0</td>\n",
       "    </tr>\n",
       "    <tr>\n",
       "      <th>906</th>\n",
       "      <td>80.0</td>\n",
       "      <td>24.3500</td>\n",
       "      <td>73.7477</td>\n",
       "      <td>1</td>\n",
       "      <td>1996.876894</td>\n",
       "      <td>59</td>\n",
       "      <td>2</td>\n",
       "      <td>797.063475</td>\n",
       "      <td>805.760000</td>\n",
       "      <td>701.027250</td>\n",
       "      <td>716.728350</td>\n",
       "      <td>807.601700</td>\n",
       "      <td>0</td>\n",
       "    </tr>\n",
       "    <tr>\n",
       "      <th>907</th>\n",
       "      <td>16.5</td>\n",
       "      <td>9.9344</td>\n",
       "      <td>77.4768</td>\n",
       "      <td>7</td>\n",
       "      <td>1996.876894</td>\n",
       "      <td>21</td>\n",
       "      <td>2</td>\n",
       "      <td>797.063475</td>\n",
       "      <td>805.760000</td>\n",
       "      <td>701.027250</td>\n",
       "      <td>716.728350</td>\n",
       "      <td>807.601700</td>\n",
       "      <td>0</td>\n",
       "    </tr>\n",
       "  </tbody>\n",
       "</table>\n",
       "<p>908 rows × 13 columns</p>\n",
       "</div>"
      ],
      "text/plain": [
       "     capacity_mw  latitude  longitude  primary_fuel  commissioning_year  \\\n",
       "0            2.5   28.1839    73.2407             6         2011.000000   \n",
       "1           98.0   24.7663    74.6090             1         1996.876894   \n",
       "2           39.2   21.9038    69.3732             7         1996.876894   \n",
       "3          135.0   23.8712    91.3602             2         2004.000000   \n",
       "4         1800.0   21.9603    82.4091             1         2015.000000   \n",
       "..           ...       ...        ...           ...                 ...   \n",
       "903       1600.0   16.2949    77.3568             1         2016.000000   \n",
       "904          3.0   12.8932    78.1654             6         1996.876894   \n",
       "905         25.5   15.2758    75.5811             7         1996.876894   \n",
       "906         80.0   24.3500    73.7477             1         1996.876894   \n",
       "907         16.5    9.9344    77.4768             7         1996.876894   \n",
       "\n",
       "     source  geolocation_source  generation_gwh_2013  generation_gwh_2014  \\\n",
       "0       109                   1           797.063475           805.760000   \n",
       "1       174                   2           797.063475           805.760000   \n",
       "2        21                   2           797.063475           805.760000   \n",
       "3        22                   2           631.777928           617.789264   \n",
       "4        22                   2          1668.290000          3035.550000   \n",
       "..      ...                 ...                  ...                  ...   \n",
       "903      22                   2           797.063475           805.760000   \n",
       "904      77                   0           797.063475           805.760000   \n",
       "905      21                   2           797.063475           805.760000   \n",
       "906      59                   2           797.063475           805.760000   \n",
       "907      21                   2           797.063475           805.760000   \n",
       "\n",
       "     generation_gwh_2015  generation_gwh_2016  generation_gwh_2017  \\\n",
       "0             701.027250           716.728350           807.601700   \n",
       "1             701.027250           716.728350           807.601700   \n",
       "2             701.027250           716.728350           807.601700   \n",
       "3             843.747000           886.004428           663.774500   \n",
       "4            5916.370000          6243.000000          5385.579736   \n",
       "..                   ...                  ...                  ...   \n",
       "903             0.994875           233.596650           865.400000   \n",
       "904           701.027250           716.728350           807.601700   \n",
       "905           701.027250           716.728350           807.601700   \n",
       "906           701.027250           716.728350           807.601700   \n",
       "907           701.027250           716.728350           807.601700   \n",
       "\n",
       "     generation_data_source  \n",
       "0                         0  \n",
       "1                         0  \n",
       "2                         0  \n",
       "3                         0  \n",
       "4                         0  \n",
       "..                      ...  \n",
       "903                       0  \n",
       "904                       0  \n",
       "905                       0  \n",
       "906                       0  \n",
       "907                       0  \n",
       "\n",
       "[908 rows x 13 columns]"
      ]
     },
     "execution_count": 95,
     "metadata": {},
     "output_type": "execute_result"
    }
   ],
   "source": [
    "data"
   ]
  },
  {
   "cell_type": "code",
   "execution_count": 96,
   "id": "44ecc747-fde0-4885-901f-b37777914188",
   "metadata": {},
   "outputs": [],
   "source": [
    "X = data.drop('capacity_mw',axis=1)\n",
    "Y = data['capacity_mw']"
   ]
  },
  {
   "cell_type": "markdown",
   "id": "bbf964d6-147e-4971-91be-5d0705505131",
   "metadata": {},
   "source": [
    "# trying to get best random state"
   ]
  },
  {
   "cell_type": "code",
   "execution_count": 97,
   "id": "c0aa000a-649c-49c5-8e7c-a58bc042ca3c",
   "metadata": {},
   "outputs": [
    {
     "name": "stdout",
     "output_type": "stream",
     "text": [
      "Best r2_score 0.9008513970072688 on best random_state 107\n"
     ]
    }
   ],
   "source": [
    "maxAcc =0\n",
    "maxRS =0\n",
    "\n",
    "for i in range(1,200):\n",
    "    x_train,x_test,y_train,y_test=train_test_split(X,Y,test_size=0.2,random_state=i)\n",
    "    mod = LinearRegression()\n",
    "    mod.fit(x_train,y_train)\n",
    "    Pd = mod.predict(x_test)\n",
    "    acc = r2_score(Pd,y_test)\n",
    "    if  acc>maxAcc:\n",
    "        maxAcc=acc\n",
    "        maxRS=i\n",
    "print(\"Best r2_score\",maxAcc,\"on best random_state\",maxRS)    "
   ]
  },
  {
   "cell_type": "code",
   "execution_count": 98,
   "id": "891562e3-1972-4e45-a975-b5e68bae7703",
   "metadata": {},
   "outputs": [],
   "source": [
    "x_train,x_test,y_train,y_test=train_test_split(X,Y,test_size=0.2,random_state=107)"
   ]
  },
  {
   "cell_type": "markdown",
   "id": "c0d7645e-e490-445d-8117-83a0900fcf1d",
   "metadata": {},
   "source": [
    "# Linear Regression"
   ]
  },
  {
   "cell_type": "code",
   "execution_count": 99,
   "id": "f95d240f-4f05-45ec-a4d5-9577b4d15842",
   "metadata": {},
   "outputs": [
    {
     "data": {
      "text/plain": [
       "0.9008513970072688"
      ]
     },
     "execution_count": 99,
     "metadata": {},
     "output_type": "execute_result"
    }
   ],
   "source": [
    "l = LinearRegression()\n",
    "l.fit(x_train,y_train)\n",
    "l_pd = l.predict(x_test)\n",
    "r2_score(l_pd,y_test)"
   ]
  },
  {
   "cell_type": "markdown",
   "id": "7dfa77b8-11c8-4a2e-82d9-d241d3b98ad4",
   "metadata": {},
   "source": [
    "# Regularization Technique"
   ]
  },
  {
   "cell_type": "code",
   "execution_count": 100,
   "id": "6ce0a91e-0723-4270-8758-fa22b93b1f25",
   "metadata": {},
   "outputs": [
    {
     "data": {
      "text/plain": [
       "0.900852841452764"
      ]
     },
     "execution_count": 100,
     "metadata": {},
     "output_type": "execute_result"
    }
   ],
   "source": [
    "rd = Ridge()\n",
    "rd.fit(x_train,y_train)\n",
    "rd_pr = rd.predict(x_test)\n",
    "r2_score(rd_pr,y_test)"
   ]
  },
  {
   "cell_type": "code",
   "execution_count": 101,
   "id": "a52ce594-03b8-4e7b-a1d7-a016c94616fa",
   "metadata": {},
   "outputs": [
    {
     "data": {
      "text/plain": [
       "0.9008783023362026"
      ]
     },
     "execution_count": 101,
     "metadata": {},
     "output_type": "execute_result"
    }
   ],
   "source": [
    "ls =Lasso()\n",
    "ls.fit(x_train,y_train)\n",
    "ls_pd=ls.predict(x_test)\n",
    "r2_score(ls_pd,y_test)"
   ]
  },
  {
   "cell_type": "code",
   "execution_count": 102,
   "id": "cb0a338c-71bb-47d5-a881-3d9d71339dbf",
   "metadata": {},
   "outputs": [
    {
     "data": {
      "text/plain": [
       "0.9001688801144618"
      ]
     },
     "execution_count": 102,
     "metadata": {},
     "output_type": "execute_result"
    }
   ],
   "source": [
    "el = ElasticNet()\n",
    "el.fit(x_train,y_train)\n",
    "el_pd = el.predict(x_test)\n",
    "r2_score(el_pd,y_test)"
   ]
  },
  {
   "cell_type": "markdown",
   "id": "3e4fb461-603e-4a90-9b53-4239fb6887a2",
   "metadata": {},
   "source": [
    "# Ensemble technique"
   ]
  },
  {
   "cell_type": "code",
   "execution_count": 103,
   "id": "52949b01-4ab2-4727-a31f-9704aada340f",
   "metadata": {},
   "outputs": [],
   "source": [
    "from sklearn.ensemble import RandomForestRegressor"
   ]
  },
  {
   "cell_type": "code",
   "execution_count": 104,
   "id": "96d5799a-8008-4d16-90a6-daae1e946e23",
   "metadata": {},
   "outputs": [
    {
     "data": {
      "text/plain": [
       "0.9368961913032031"
      ]
     },
     "execution_count": 104,
     "metadata": {},
     "output_type": "execute_result"
    }
   ],
   "source": [
    "r = RandomForestRegressor()\n",
    "r.fit(x_train,y_train)\n",
    "r_pd = r.predict(x_test)\n",
    "r2_score(r_pd,y_test)"
   ]
  },
  {
   "cell_type": "code",
   "execution_count": 105,
   "id": "cee51320-008a-4fea-8e4e-f94a87fd5049",
   "metadata": {},
   "outputs": [
    {
     "data": {
      "text/plain": [
       "0.875470827700193"
      ]
     },
     "execution_count": 105,
     "metadata": {},
     "output_type": "execute_result"
    }
   ],
   "source": [
    "from sklearn.tree import DecisionTreeRegressor\n",
    "d = DecisionTreeRegressor()\n",
    "d.fit(x_train,y_train)\n",
    "d_pd = d.predict(x_test)\n",
    "r2_score(d_pd,y_test)"
   ]
  },
  {
   "cell_type": "markdown",
   "id": "10802c46-11fc-47bd-9b7c-6e9f7a706001",
   "metadata": {},
   "source": [
    "# Cross_Validation"
   ]
  },
  {
   "cell_type": "code",
   "execution_count": 106,
   "id": "8c33714a-b291-4768-b1e5-6ee07cfb6c09",
   "metadata": {},
   "outputs": [
    {
     "name": "stdout",
     "output_type": "stream",
     "text": [
      "0.7901846959880532\n"
     ]
    }
   ],
   "source": [
    "print(cross_val_score(l,X,Y,cv=5).mean())"
   ]
  },
  {
   "cell_type": "code",
   "execution_count": 107,
   "id": "47630777-2219-491d-b5d0-22a60bf8a2dc",
   "metadata": {},
   "outputs": [
    {
     "name": "stdout",
     "output_type": "stream",
     "text": [
      "0.7901876207680402\n"
     ]
    }
   ],
   "source": [
    "print(cross_val_score(rd,X,Y,cv=5).mean())"
   ]
  },
  {
   "cell_type": "code",
   "execution_count": 108,
   "id": "6780b9aa-b236-473a-8faf-ca8c4f159263",
   "metadata": {},
   "outputs": [
    {
     "name": "stdout",
     "output_type": "stream",
     "text": [
      "0.7901960197521216\n"
     ]
    }
   ],
   "source": [
    "print(cross_val_score(ls,X,Y,cv=5).mean())"
   ]
  },
  {
   "cell_type": "code",
   "execution_count": 109,
   "id": "75283ca6-7cdd-4c41-927e-55dd76cf03e1",
   "metadata": {},
   "outputs": [
    {
     "name": "stdout",
     "output_type": "stream",
     "text": [
      "0.789826766441449\n"
     ]
    }
   ],
   "source": [
    "print(cross_val_score(el,X,Y,cv=5).mean())"
   ]
  },
  {
   "cell_type": "code",
   "execution_count": 110,
   "id": "e3f2c363-5acd-44c5-b761-3767f2cbf004",
   "metadata": {},
   "outputs": [
    {
     "name": "stdout",
     "output_type": "stream",
     "text": [
      "0.8415836320848824\n"
     ]
    }
   ],
   "source": [
    "print(cross_val_score(r,X,Y,cv=5).mean())"
   ]
  },
  {
   "cell_type": "code",
   "execution_count": 111,
   "id": "b83cd046-6715-4d94-a9b2-f6e8f6fc2144",
   "metadata": {},
   "outputs": [
    {
     "name": "stdout",
     "output_type": "stream",
     "text": [
      "0.7330804864282301\n"
     ]
    }
   ],
   "source": [
    "print(cross_val_score(d,X,Y,cv=5).mean())"
   ]
  },
  {
   "cell_type": "markdown",
   "id": "204a4e39-3f14-43f8-9fc3-e617f6f2b37c",
   "metadata": {},
   "source": [
    "As per above observation Random Forest Regressor is doing better as the difference between r2_score and cross_val_score is ver less hence we will go with Random Forest Regressor"
   ]
  },
  {
   "cell_type": "markdown",
   "id": "1600bd8f-60f4-494d-930c-6386a9c8e12d",
   "metadata": {},
   "source": [
    "# Hyper Parameter Tuning"
   ]
  },
  {
   "cell_type": "code",
   "execution_count": 112,
   "id": "e1fa4742-3da3-4773-8b08-61264724fc9b",
   "metadata": {},
   "outputs": [],
   "source": [
    "Parameters = {'criterion':['squared_error','absolute_error','poisson'],\n",
    "              'max_depth':np.arange(2,10),\n",
    "              'max_features':['auto','sqrt','log2'],\n",
    "              'random_state':[107]}\n"
   ]
  },
  {
   "cell_type": "code",
   "execution_count": 113,
   "id": "195940f4-ff46-4d02-a297-27570a5ebc7f",
   "metadata": {},
   "outputs": [],
   "source": [
    "gsc = GridSearchCV(estimator=r,param_grid=Parameters,cv=5)"
   ]
  },
  {
   "cell_type": "code",
   "execution_count": 114,
   "id": "177bcee9-2422-481c-90dc-dc30111c3bc8",
   "metadata": {},
   "outputs": [
    {
     "data": {
      "text/plain": [
       "GridSearchCV(cv=5, estimator=RandomForestRegressor(),\n",
       "             param_grid={'criterion': ['squared_error', 'absolute_error',\n",
       "                                       'poisson'],\n",
       "                         'max_depth': array([2, 3, 4, 5, 6, 7, 8, 9]),\n",
       "                         'max_features': ['auto', 'sqrt', 'log2'],\n",
       "                         'random_state': [107]})"
      ]
     },
     "execution_count": 114,
     "metadata": {},
     "output_type": "execute_result"
    }
   ],
   "source": [
    "gsc.fit(x_train,y_train)"
   ]
  },
  {
   "cell_type": "code",
   "execution_count": 115,
   "id": "14f25993-8d73-4831-8ad3-4e5cfd5e9a91",
   "metadata": {},
   "outputs": [
    {
     "data": {
      "text/plain": [
       "{'criterion': 'poisson',\n",
       " 'max_depth': 9,\n",
       " 'max_features': 'sqrt',\n",
       " 'random_state': 107}"
      ]
     },
     "execution_count": 115,
     "metadata": {},
     "output_type": "execute_result"
    }
   ],
   "source": [
    "gsc.best_params_"
   ]
  },
  {
   "cell_type": "code",
   "execution_count": 118,
   "id": "f6abdfb5-4036-4ef6-9cd4-be025e8894f1",
   "metadata": {},
   "outputs": [
    {
     "data": {
      "text/plain": [
       "0.5738489880123782"
      ]
     },
     "execution_count": 118,
     "metadata": {},
     "output_type": "execute_result"
    }
   ],
   "source": [
    "final_dataset = RandomForestRegressor(criterion='poisson',max_depth=9,max_features='sqrt',random_state=107)\n",
    "final_dataset.fit(x_train,y_train)\n",
    "pred = final_dataset.predict(x_test)\n",
    "r2_score(pred,y_test)"
   ]
  },
  {
   "cell_type": "markdown",
   "id": "310c1b3d-67f6-455d-a171-b8847cd0da21",
   "metadata": {},
   "source": [
    "# Save model"
   ]
  },
  {
   "cell_type": "code",
   "execution_count": 119,
   "id": "46c92214-eb08-4b9b-b38e-dc6520c72dfc",
   "metadata": {},
   "outputs": [
    {
     "data": {
      "text/plain": [
       "['Final_dataset']"
      ]
     },
     "execution_count": 119,
     "metadata": {},
     "output_type": "execute_result"
    }
   ],
   "source": [
    "import joblib\n",
    "joblib.dump(final_dataset,\"Final_dataset\")"
   ]
  },
  {
   "cell_type": "code",
   "execution_count": null,
   "id": "14830b74-a6f0-405e-a447-5c84421ed6f4",
   "metadata": {},
   "outputs": [],
   "source": []
  }
 ],
 "metadata": {
  "kernelspec": {
   "display_name": "Python 3",
   "language": "python",
   "name": "python3"
  },
  "language_info": {
   "codemirror_mode": {
    "name": "ipython",
    "version": 3
   },
   "file_extension": ".py",
   "mimetype": "text/x-python",
   "name": "python",
   "nbconvert_exporter": "python",
   "pygments_lexer": "ipython3",
   "version": "3.8.8"
  }
 },
 "nbformat": 4,
 "nbformat_minor": 5
}
