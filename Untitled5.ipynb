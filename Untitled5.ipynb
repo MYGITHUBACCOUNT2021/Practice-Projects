{
 "cells": [
  {
   "cell_type": "markdown",
   "id": "50bd4821-51c3-47c9-9fb2-16d9e3bafd2e",
   "metadata": {},
   "source": [
    "# importing numpy and pandas liaberaries"
   ]
  },
  {
   "cell_type": "code",
   "execution_count": 316,
   "id": "bc22a0de-72f4-4e58-ba15-f201138ae570",
   "metadata": {},
   "outputs": [],
   "source": [
    "import numpy as np\n",
    "import pandas as pd"
   ]
  },
  {
   "cell_type": "markdown",
   "id": "8dfc841f-b3bc-4051-bf95-85ffabc42d26",
   "metadata": {},
   "source": [
    "# Load dataset"
   ]
  },
  {
   "cell_type": "code",
   "execution_count": 317,
   "id": "1fc35b9f-cb13-4517-844a-1c406c583e9c",
   "metadata": {},
   "outputs": [],
   "source": [
    "census = pd.read_csv('census_income.csv')"
   ]
  },
  {
   "cell_type": "code",
   "execution_count": 318,
   "id": "0739e223-6a95-454c-86b8-23f179c93acb",
   "metadata": {},
   "outputs": [
    {
     "data": {
      "text/html": [
       "<div>\n",
       "<style scoped>\n",
       "    .dataframe tbody tr th:only-of-type {\n",
       "        vertical-align: middle;\n",
       "    }\n",
       "\n",
       "    .dataframe tbody tr th {\n",
       "        vertical-align: top;\n",
       "    }\n",
       "\n",
       "    .dataframe thead th {\n",
       "        text-align: right;\n",
       "    }\n",
       "</style>\n",
       "<table border=\"1\" class=\"dataframe\">\n",
       "  <thead>\n",
       "    <tr style=\"text-align: right;\">\n",
       "      <th></th>\n",
       "      <th>Age</th>\n",
       "      <th>Workclass</th>\n",
       "      <th>Fnlwgt</th>\n",
       "      <th>Education</th>\n",
       "      <th>Education_num</th>\n",
       "      <th>Marital_status</th>\n",
       "      <th>Occupation</th>\n",
       "      <th>Relationship</th>\n",
       "      <th>Race</th>\n",
       "      <th>Sex</th>\n",
       "      <th>Capital_gain</th>\n",
       "      <th>Capital_loss</th>\n",
       "      <th>Hours_per_week</th>\n",
       "      <th>Native_country</th>\n",
       "      <th>Income</th>\n",
       "    </tr>\n",
       "  </thead>\n",
       "  <tbody>\n",
       "    <tr>\n",
       "      <th>0</th>\n",
       "      <td>50</td>\n",
       "      <td>Self-emp-not-inc</td>\n",
       "      <td>83311</td>\n",
       "      <td>Bachelors</td>\n",
       "      <td>13</td>\n",
       "      <td>Married-civ-spouse</td>\n",
       "      <td>Exec-managerial</td>\n",
       "      <td>Husband</td>\n",
       "      <td>White</td>\n",
       "      <td>Male</td>\n",
       "      <td>0</td>\n",
       "      <td>0</td>\n",
       "      <td>13</td>\n",
       "      <td>United-States</td>\n",
       "      <td>&lt;=50K</td>\n",
       "    </tr>\n",
       "    <tr>\n",
       "      <th>1</th>\n",
       "      <td>38</td>\n",
       "      <td>Private</td>\n",
       "      <td>215646</td>\n",
       "      <td>HS-grad</td>\n",
       "      <td>9</td>\n",
       "      <td>Divorced</td>\n",
       "      <td>Handlers-cleaners</td>\n",
       "      <td>Not-in-family</td>\n",
       "      <td>White</td>\n",
       "      <td>Male</td>\n",
       "      <td>0</td>\n",
       "      <td>0</td>\n",
       "      <td>40</td>\n",
       "      <td>United-States</td>\n",
       "      <td>&lt;=50K</td>\n",
       "    </tr>\n",
       "    <tr>\n",
       "      <th>2</th>\n",
       "      <td>53</td>\n",
       "      <td>Private</td>\n",
       "      <td>234721</td>\n",
       "      <td>11th</td>\n",
       "      <td>7</td>\n",
       "      <td>Married-civ-spouse</td>\n",
       "      <td>Handlers-cleaners</td>\n",
       "      <td>Husband</td>\n",
       "      <td>Black</td>\n",
       "      <td>Male</td>\n",
       "      <td>0</td>\n",
       "      <td>0</td>\n",
       "      <td>40</td>\n",
       "      <td>United-States</td>\n",
       "      <td>&lt;=50K</td>\n",
       "    </tr>\n",
       "    <tr>\n",
       "      <th>3</th>\n",
       "      <td>28</td>\n",
       "      <td>Private</td>\n",
       "      <td>338409</td>\n",
       "      <td>Bachelors</td>\n",
       "      <td>13</td>\n",
       "      <td>Married-civ-spouse</td>\n",
       "      <td>Prof-specialty</td>\n",
       "      <td>Wife</td>\n",
       "      <td>Black</td>\n",
       "      <td>Female</td>\n",
       "      <td>0</td>\n",
       "      <td>0</td>\n",
       "      <td>40</td>\n",
       "      <td>Cuba</td>\n",
       "      <td>&lt;=50K</td>\n",
       "    </tr>\n",
       "    <tr>\n",
       "      <th>4</th>\n",
       "      <td>37</td>\n",
       "      <td>Private</td>\n",
       "      <td>284582</td>\n",
       "      <td>Masters</td>\n",
       "      <td>14</td>\n",
       "      <td>Married-civ-spouse</td>\n",
       "      <td>Exec-managerial</td>\n",
       "      <td>Wife</td>\n",
       "      <td>White</td>\n",
       "      <td>Female</td>\n",
       "      <td>0</td>\n",
       "      <td>0</td>\n",
       "      <td>40</td>\n",
       "      <td>United-States</td>\n",
       "      <td>&lt;=50K</td>\n",
       "    </tr>\n",
       "    <tr>\n",
       "      <th>...</th>\n",
       "      <td>...</td>\n",
       "      <td>...</td>\n",
       "      <td>...</td>\n",
       "      <td>...</td>\n",
       "      <td>...</td>\n",
       "      <td>...</td>\n",
       "      <td>...</td>\n",
       "      <td>...</td>\n",
       "      <td>...</td>\n",
       "      <td>...</td>\n",
       "      <td>...</td>\n",
       "      <td>...</td>\n",
       "      <td>...</td>\n",
       "      <td>...</td>\n",
       "      <td>...</td>\n",
       "    </tr>\n",
       "    <tr>\n",
       "      <th>32555</th>\n",
       "      <td>27</td>\n",
       "      <td>Private</td>\n",
       "      <td>257302</td>\n",
       "      <td>Assoc-acdm</td>\n",
       "      <td>12</td>\n",
       "      <td>Married-civ-spouse</td>\n",
       "      <td>Tech-support</td>\n",
       "      <td>Wife</td>\n",
       "      <td>White</td>\n",
       "      <td>Female</td>\n",
       "      <td>0</td>\n",
       "      <td>0</td>\n",
       "      <td>38</td>\n",
       "      <td>United-States</td>\n",
       "      <td>&lt;=50K</td>\n",
       "    </tr>\n",
       "    <tr>\n",
       "      <th>32556</th>\n",
       "      <td>40</td>\n",
       "      <td>Private</td>\n",
       "      <td>154374</td>\n",
       "      <td>HS-grad</td>\n",
       "      <td>9</td>\n",
       "      <td>Married-civ-spouse</td>\n",
       "      <td>Machine-op-inspct</td>\n",
       "      <td>Husband</td>\n",
       "      <td>White</td>\n",
       "      <td>Male</td>\n",
       "      <td>0</td>\n",
       "      <td>0</td>\n",
       "      <td>40</td>\n",
       "      <td>United-States</td>\n",
       "      <td>&gt;50K</td>\n",
       "    </tr>\n",
       "    <tr>\n",
       "      <th>32557</th>\n",
       "      <td>58</td>\n",
       "      <td>Private</td>\n",
       "      <td>151910</td>\n",
       "      <td>HS-grad</td>\n",
       "      <td>9</td>\n",
       "      <td>Widowed</td>\n",
       "      <td>Adm-clerical</td>\n",
       "      <td>Unmarried</td>\n",
       "      <td>White</td>\n",
       "      <td>Female</td>\n",
       "      <td>0</td>\n",
       "      <td>0</td>\n",
       "      <td>40</td>\n",
       "      <td>United-States</td>\n",
       "      <td>&lt;=50K</td>\n",
       "    </tr>\n",
       "    <tr>\n",
       "      <th>32558</th>\n",
       "      <td>22</td>\n",
       "      <td>Private</td>\n",
       "      <td>201490</td>\n",
       "      <td>HS-grad</td>\n",
       "      <td>9</td>\n",
       "      <td>Never-married</td>\n",
       "      <td>Adm-clerical</td>\n",
       "      <td>Own-child</td>\n",
       "      <td>White</td>\n",
       "      <td>Male</td>\n",
       "      <td>0</td>\n",
       "      <td>0</td>\n",
       "      <td>20</td>\n",
       "      <td>United-States</td>\n",
       "      <td>&lt;=50K</td>\n",
       "    </tr>\n",
       "    <tr>\n",
       "      <th>32559</th>\n",
       "      <td>52</td>\n",
       "      <td>Self-emp-inc</td>\n",
       "      <td>287927</td>\n",
       "      <td>HS-grad</td>\n",
       "      <td>9</td>\n",
       "      <td>Married-civ-spouse</td>\n",
       "      <td>Exec-managerial</td>\n",
       "      <td>Wife</td>\n",
       "      <td>White</td>\n",
       "      <td>Female</td>\n",
       "      <td>15024</td>\n",
       "      <td>0</td>\n",
       "      <td>40</td>\n",
       "      <td>United-States</td>\n",
       "      <td>&gt;50K</td>\n",
       "    </tr>\n",
       "  </tbody>\n",
       "</table>\n",
       "<p>32560 rows × 15 columns</p>\n",
       "</div>"
      ],
      "text/plain": [
       "       Age          Workclass  Fnlwgt    Education  Education_num  \\\n",
       "0       50   Self-emp-not-inc   83311    Bachelors             13   \n",
       "1       38            Private  215646      HS-grad              9   \n",
       "2       53            Private  234721         11th              7   \n",
       "3       28            Private  338409    Bachelors             13   \n",
       "4       37            Private  284582      Masters             14   \n",
       "...    ...                ...     ...          ...            ...   \n",
       "32555   27            Private  257302   Assoc-acdm             12   \n",
       "32556   40            Private  154374      HS-grad              9   \n",
       "32557   58            Private  151910      HS-grad              9   \n",
       "32558   22            Private  201490      HS-grad              9   \n",
       "32559   52       Self-emp-inc  287927      HS-grad              9   \n",
       "\n",
       "            Marital_status          Occupation    Relationship    Race  \\\n",
       "0       Married-civ-spouse     Exec-managerial         Husband   White   \n",
       "1                 Divorced   Handlers-cleaners   Not-in-family   White   \n",
       "2       Married-civ-spouse   Handlers-cleaners         Husband   Black   \n",
       "3       Married-civ-spouse      Prof-specialty            Wife   Black   \n",
       "4       Married-civ-spouse     Exec-managerial            Wife   White   \n",
       "...                    ...                 ...             ...     ...   \n",
       "32555   Married-civ-spouse        Tech-support            Wife   White   \n",
       "32556   Married-civ-spouse   Machine-op-inspct         Husband   White   \n",
       "32557              Widowed        Adm-clerical       Unmarried   White   \n",
       "32558        Never-married        Adm-clerical       Own-child   White   \n",
       "32559   Married-civ-spouse     Exec-managerial            Wife   White   \n",
       "\n",
       "           Sex  Capital_gain  Capital_loss  Hours_per_week  Native_country  \\\n",
       "0         Male             0             0              13   United-States   \n",
       "1         Male             0             0              40   United-States   \n",
       "2         Male             0             0              40   United-States   \n",
       "3       Female             0             0              40            Cuba   \n",
       "4       Female             0             0              40   United-States   \n",
       "...        ...           ...           ...             ...             ...   \n",
       "32555   Female             0             0              38   United-States   \n",
       "32556     Male             0             0              40   United-States   \n",
       "32557   Female             0             0              40   United-States   \n",
       "32558     Male             0             0              20   United-States   \n",
       "32559   Female         15024             0              40   United-States   \n",
       "\n",
       "       Income  \n",
       "0       <=50K  \n",
       "1       <=50K  \n",
       "2       <=50K  \n",
       "3       <=50K  \n",
       "4       <=50K  \n",
       "...       ...  \n",
       "32555   <=50K  \n",
       "32556    >50K  \n",
       "32557   <=50K  \n",
       "32558   <=50K  \n",
       "32559    >50K  \n",
       "\n",
       "[32560 rows x 15 columns]"
      ]
     },
     "execution_count": 318,
     "metadata": {},
     "output_type": "execute_result"
    }
   ],
   "source": [
    "census"
   ]
  },
  {
   "cell_type": "markdown",
   "id": "3eb5b973-72cf-464e-bd93-bca71d7c8771",
   "metadata": {},
   "source": [
    "As per above observation,Total rows = 32560 and Total columns=15"
   ]
  },
  {
   "cell_type": "markdown",
   "id": "76e38cb1-98a5-4e11-8acb-24d8d8ec568f",
   "metadata": {},
   "source": [
    "# Checking Columns"
   ]
  },
  {
   "cell_type": "code",
   "execution_count": 319,
   "id": "6bce2811-d198-45ab-8119-130934661b4b",
   "metadata": {},
   "outputs": [
    {
     "data": {
      "text/plain": [
       "Index(['Age', 'Workclass', 'Fnlwgt', 'Education', 'Education_num',\n",
       "       'Marital_status', 'Occupation', 'Relationship', 'Race', 'Sex',\n",
       "       'Capital_gain', 'Capital_loss', 'Hours_per_week', 'Native_country',\n",
       "       'Income'],\n",
       "      dtype='object')"
      ]
     },
     "execution_count": 319,
     "metadata": {},
     "output_type": "execute_result"
    }
   ],
   "source": [
    "census.columns"
   ]
  },
  {
   "cell_type": "markdown",
   "id": "f56d2032-d14f-43e8-9061-7f1872f996a1",
   "metadata": {},
   "source": [
    "# Checking Missing values"
   ]
  },
  {
   "cell_type": "code",
   "execution_count": 320,
   "id": "c1459d48-6223-4a90-bcc9-2f73413de63c",
   "metadata": {},
   "outputs": [
    {
     "data": {
      "text/plain": [
       "Age               0\n",
       "Workclass         0\n",
       "Fnlwgt            0\n",
       "Education         0\n",
       "Education_num     0\n",
       "Marital_status    0\n",
       "Occupation        0\n",
       "Relationship      0\n",
       "Race              0\n",
       "Sex               0\n",
       "Capital_gain      0\n",
       "Capital_loss      0\n",
       "Hours_per_week    0\n",
       "Native_country    0\n",
       "Income            0\n",
       "dtype: int64"
      ]
     },
     "execution_count": 320,
     "metadata": {},
     "output_type": "execute_result"
    }
   ],
   "source": [
    "census.isnull().sum()"
   ]
  },
  {
   "cell_type": "markdown",
   "id": "824ab59b-5a4f-4b55-a97c-0ca23c242e56",
   "metadata": {},
   "source": [
    "As per above observation there are no missing values in the dataset."
   ]
  },
  {
   "cell_type": "markdown",
   "id": "153599fd-cbc6-4779-94d4-6ab10cb337af",
   "metadata": {},
   "source": [
    "# checking unique value"
   ]
  },
  {
   "cell_type": "code",
   "execution_count": 321,
   "id": "7e96b66b-624f-4c0b-8b80-738b04780088",
   "metadata": {},
   "outputs": [
    {
     "data": {
      "text/plain": [
       "array([50, 38, 53, 28, 37, 49, 52, 31, 42, 30, 23, 32, 40, 34, 25, 43, 54,\n",
       "       35, 59, 56, 19, 39, 20, 45, 22, 48, 21, 24, 57, 44, 41, 29, 18, 47,\n",
       "       46, 36, 79, 27, 67, 33, 76, 17, 55, 61, 70, 64, 71, 68, 66, 51, 58,\n",
       "       26, 60, 90, 75, 65, 77, 62, 63, 80, 72, 74, 69, 73, 81, 78, 88, 82,\n",
       "       83, 84, 85, 86, 87], dtype=int64)"
      ]
     },
     "execution_count": 321,
     "metadata": {},
     "output_type": "execute_result"
    }
   ],
   "source": [
    "census['Age'].unique()"
   ]
  },
  {
   "cell_type": "code",
   "execution_count": 322,
   "id": "569e1745-373f-4283-8412-57019893847a",
   "metadata": {},
   "outputs": [
    {
     "data": {
      "text/plain": [
       "array([' Self-emp-not-inc', ' Private', ' State-gov', ' Federal-gov',\n",
       "       ' Local-gov', ' ?', ' Self-emp-inc', ' Without-pay',\n",
       "       ' Never-worked'], dtype=object)"
      ]
     },
     "execution_count": 322,
     "metadata": {},
     "output_type": "execute_result"
    }
   ],
   "source": [
    "census['Workclass'].unique()"
   ]
  },
  {
   "cell_type": "markdown",
   "id": "d46a263f-c277-432a-9b55-fe31f45aded3",
   "metadata": {},
   "source": [
    "As per above observation there is a missing value in Workclass column"
   ]
  },
  {
   "cell_type": "code",
   "execution_count": 323,
   "id": "aba72625-5fba-45ab-b0e5-a539ca28e18b",
   "metadata": {},
   "outputs": [
    {
     "data": {
      "text/plain": [
       "array([ 83311, 215646, 234721, ...,  34066,  84661, 257302], dtype=int64)"
      ]
     },
     "execution_count": 323,
     "metadata": {},
     "output_type": "execute_result"
    }
   ],
   "source": [
    "census['Fnlwgt'].unique()"
   ]
  },
  {
   "cell_type": "code",
   "execution_count": 324,
   "id": "1478017d-a1c5-44d4-a7d6-2a49930f6bc9",
   "metadata": {},
   "outputs": [
    {
     "data": {
      "text/plain": [
       "array([' Bachelors', ' HS-grad', ' 11th', ' Masters', ' 9th',\n",
       "       ' Some-college', ' Assoc-acdm', ' Assoc-voc', ' 7th-8th',\n",
       "       ' Doctorate', ' Prof-school', ' 5th-6th', ' 10th', ' 1st-4th',\n",
       "       ' Preschool', ' 12th'], dtype=object)"
      ]
     },
     "execution_count": 324,
     "metadata": {},
     "output_type": "execute_result"
    }
   ],
   "source": [
    "census['Education'].unique()"
   ]
  },
  {
   "cell_type": "code",
   "execution_count": 325,
   "id": "af3f6730-8441-4c88-b07e-314e102a400b",
   "metadata": {},
   "outputs": [
    {
     "data": {
      "text/plain": [
       "array([13,  9,  7, 14,  5, 10, 12, 11,  4, 16, 15,  3,  6,  2,  1,  8],\n",
       "      dtype=int64)"
      ]
     },
     "execution_count": 325,
     "metadata": {},
     "output_type": "execute_result"
    }
   ],
   "source": [
    "census['Education_num'].unique()"
   ]
  },
  {
   "cell_type": "code",
   "execution_count": 326,
   "id": "74c72679-3421-41ea-9f8b-c5f708b91b6d",
   "metadata": {},
   "outputs": [
    {
     "data": {
      "text/plain": [
       "array([' Married-civ-spouse', ' Divorced', ' Married-spouse-absent',\n",
       "       ' Never-married', ' Separated', ' Married-AF-spouse', ' Widowed'],\n",
       "      dtype=object)"
      ]
     },
     "execution_count": 326,
     "metadata": {},
     "output_type": "execute_result"
    }
   ],
   "source": [
    "census['Marital_status'].unique()"
   ]
  },
  {
   "cell_type": "code",
   "execution_count": 327,
   "id": "39005f67-13b4-452e-ac08-11e0a99f6123",
   "metadata": {},
   "outputs": [
    {
     "data": {
      "text/plain": [
       "array([' Exec-managerial', ' Handlers-cleaners', ' Prof-specialty',\n",
       "       ' Other-service', ' Adm-clerical', ' Sales', ' Craft-repair',\n",
       "       ' Transport-moving', ' Farming-fishing', ' Machine-op-inspct',\n",
       "       ' Tech-support', ' ?', ' Protective-serv', ' Armed-Forces',\n",
       "       ' Priv-house-serv'], dtype=object)"
      ]
     },
     "execution_count": 327,
     "metadata": {},
     "output_type": "execute_result"
    }
   ],
   "source": [
    "census['Occupation'].unique()"
   ]
  },
  {
   "cell_type": "markdown",
   "id": "bde69bb9-cc19-45b7-bd5a-a47b60565c77",
   "metadata": {},
   "source": [
    "As per above observation there is a missing value in Occupation column"
   ]
  },
  {
   "cell_type": "code",
   "execution_count": 328,
   "id": "382c102d-65d2-45e3-b85b-20ddc2095a6b",
   "metadata": {},
   "outputs": [
    {
     "data": {
      "text/plain": [
       "array([' Husband', ' Not-in-family', ' Wife', ' Own-child', ' Unmarried',\n",
       "       ' Other-relative'], dtype=object)"
      ]
     },
     "execution_count": 328,
     "metadata": {},
     "output_type": "execute_result"
    }
   ],
   "source": [
    "census['Relationship'].unique()"
   ]
  },
  {
   "cell_type": "code",
   "execution_count": 329,
   "id": "6a019a81-f1b7-4b02-bcec-46c44355b657",
   "metadata": {},
   "outputs": [
    {
     "data": {
      "text/plain": [
       "array([' White', ' Black', ' Asian-Pac-Islander', ' Amer-Indian-Eskimo',\n",
       "       ' Other'], dtype=object)"
      ]
     },
     "execution_count": 329,
     "metadata": {},
     "output_type": "execute_result"
    }
   ],
   "source": [
    "census['Race'].unique()"
   ]
  },
  {
   "cell_type": "code",
   "execution_count": 330,
   "id": "c4f131ab-17fc-45a3-bc09-49c62f294739",
   "metadata": {},
   "outputs": [
    {
     "data": {
      "text/plain": [
       "array([' Male', ' Female'], dtype=object)"
      ]
     },
     "execution_count": 330,
     "metadata": {},
     "output_type": "execute_result"
    }
   ],
   "source": [
    "census['Sex'].unique()"
   ]
  },
  {
   "cell_type": "code",
   "execution_count": 331,
   "id": "e7ca8038-6c75-48c8-93d3-b09faaa62a5b",
   "metadata": {},
   "outputs": [
    {
     "data": {
      "text/plain": [
       "array([    0, 14084,  5178,  5013,  2407, 14344, 15024,  7688, 34095,\n",
       "        4064,  4386,  7298,  1409,  3674,  1055,  3464,  2050,  2176,\n",
       "        2174,   594, 20051,  6849,  4101,  1111,  8614,  3411,  2597,\n",
       "       25236,  4650,  9386,  2463,  3103, 10605,  2964,  3325,  2580,\n",
       "        3471,  4865, 99999,  6514,  1471,  2329,  2105,  2885, 25124,\n",
       "       10520,  2202,  2961, 27828,  6767,  2228,  1506, 13550,  2635,\n",
       "        5556,  4787,  3781,  3137,  3818,  3942,   914,   401,  2829,\n",
       "        2977,  4934,  2062,  2354,  5455, 15020,  1424,  3273, 22040,\n",
       "        4416,  3908, 10566,   991,  4931,  1086,  7430,  6497,   114,\n",
       "        7896,  2346,  3418,  3432,  2907,  1151,  2414,  2290, 15831,\n",
       "       41310,  4508,  2538,  3456,  6418,  1848,  3887,  5721,  9562,\n",
       "        1455,  2036,  1831, 11678,  2936,  2993,  7443,  6360,  1797,\n",
       "        1173,  4687,  6723,  2009,  6097,  2653,  1639, 18481,  7978,\n",
       "        2387,  5060], dtype=int64)"
      ]
     },
     "execution_count": 331,
     "metadata": {},
     "output_type": "execute_result"
    }
   ],
   "source": [
    "census['Capital_gain'].unique()"
   ]
  },
  {
   "cell_type": "code",
   "execution_count": 332,
   "id": "87c7a302-60ae-431a-bbeb-752a95401a9f",
   "metadata": {},
   "outputs": [
    {
     "data": {
      "text/plain": [
       "array([   0, 2042, 1408, 1902, 1573, 1887, 1719, 1762, 1564, 2179, 1816,\n",
       "       1980, 1977, 1876, 1340, 2206, 1741, 1485, 2339, 2415, 1380, 1721,\n",
       "       2051, 2377, 1669, 2352, 1672,  653, 2392, 1504, 2001, 1590, 1651,\n",
       "       1628, 1848, 1740, 2002, 1579, 2258, 1602,  419, 2547, 2174, 2205,\n",
       "       1726, 2444, 1138, 2238,  625,  213, 1539,  880, 1668, 1092, 1594,\n",
       "       3004, 2231, 1844,  810, 2824, 2559, 2057, 1974,  974, 2149, 1825,\n",
       "       1735, 1258, 2129, 2603, 2282,  323, 4356, 2246, 1617, 1648, 2489,\n",
       "       3770, 1755, 3683, 2267, 2080, 2457,  155, 3900, 2201, 1944, 2467,\n",
       "       2163, 2754, 2472, 1411], dtype=int64)"
      ]
     },
     "execution_count": 332,
     "metadata": {},
     "output_type": "execute_result"
    }
   ],
   "source": [
    "census['Capital_loss'].unique()"
   ]
  },
  {
   "cell_type": "code",
   "execution_count": 333,
   "id": "c1a948a5-d0df-453f-8ec2-ef515233bd6b",
   "metadata": {},
   "outputs": [
    {
     "data": {
      "text/plain": [
       "array([13, 40, 16, 45, 50, 80, 30, 35, 60, 20, 52, 44, 15, 25, 38, 43, 55,\n",
       "       48, 58, 32, 70,  2, 22, 56, 41, 28, 36, 24, 46, 42, 12, 65,  1, 10,\n",
       "       34, 75, 98, 33, 54,  8,  6, 64, 19, 18, 72,  5,  9, 47, 37, 21, 26,\n",
       "       14,  4, 59,  7, 99, 53, 39, 62, 57, 78, 90, 66, 11, 49, 84,  3, 17,\n",
       "       68, 27, 85, 31, 51, 77, 63, 23, 87, 88, 73, 89, 97, 94, 29, 96, 67,\n",
       "       82, 86, 91, 81, 76, 92, 61, 74, 95], dtype=int64)"
      ]
     },
     "execution_count": 333,
     "metadata": {},
     "output_type": "execute_result"
    }
   ],
   "source": [
    "census['Hours_per_week'].unique()"
   ]
  },
  {
   "cell_type": "code",
   "execution_count": 334,
   "id": "8fc24f37-b494-4a79-9a5c-3395de5d63a5",
   "metadata": {},
   "outputs": [
    {
     "data": {
      "text/plain": [
       "array([' United-States', ' Cuba', ' Jamaica', ' India', ' ?', ' Mexico',\n",
       "       ' South', ' Puerto-Rico', ' Honduras', ' England', ' Canada',\n",
       "       ' Germany', ' Iran', ' Philippines', ' Italy', ' Poland',\n",
       "       ' Columbia', ' Cambodia', ' Thailand', ' Ecuador', ' Laos',\n",
       "       ' Taiwan', ' Haiti', ' Portugal', ' Dominican-Republic',\n",
       "       ' El-Salvador', ' France', ' Guatemala', ' China', ' Japan',\n",
       "       ' Yugoslavia', ' Peru', ' Outlying-US(Guam-USVI-etc)', ' Scotland',\n",
       "       ' Trinadad&Tobago', ' Greece', ' Nicaragua', ' Vietnam', ' Hong',\n",
       "       ' Ireland', ' Hungary', ' Holand-Netherlands'], dtype=object)"
      ]
     },
     "execution_count": 334,
     "metadata": {},
     "output_type": "execute_result"
    }
   ],
   "source": [
    "census['Native_country'].unique()"
   ]
  },
  {
   "cell_type": "markdown",
   "id": "f5e3e6b2-dacd-48ad-9e84-e25d6e7aa7a3",
   "metadata": {},
   "source": [
    "As per above observation there is a missing value in Native_country column"
   ]
  },
  {
   "cell_type": "code",
   "execution_count": 335,
   "id": "b411d616-2310-4eba-8aca-da790d702b72",
   "metadata": {
    "tags": []
   },
   "outputs": [
    {
     "data": {
      "text/plain": [
       "array([' <=50K', ' >50K'], dtype=object)"
      ]
     },
     "execution_count": 335,
     "metadata": {},
     "output_type": "execute_result"
    }
   ],
   "source": [
    "census['Income'].unique()"
   ]
  },
  {
   "cell_type": "code",
   "execution_count": 336,
   "id": "a15323d8-fb58-4227-b1c2-925d1047394c",
   "metadata": {},
   "outputs": [
    {
     "data": {
      "text/plain": [
       "Age                  0\n",
       "Workclass         1836\n",
       "Fnlwgt               0\n",
       "Education            0\n",
       "Education_num        0\n",
       "Marital_status       0\n",
       "Occupation        1843\n",
       "Relationship         0\n",
       "Race                 0\n",
       "Sex                  0\n",
       "Capital_gain         0\n",
       "Capital_loss         0\n",
       "Hours_per_week       0\n",
       "Native_country     583\n",
       "Income               0\n",
       "dtype: int64"
      ]
     },
     "execution_count": 336,
     "metadata": {},
     "output_type": "execute_result"
    }
   ],
   "source": [
    "census.isin([' ?']).sum()"
   ]
  },
  {
   "cell_type": "code",
   "execution_count": 337,
   "id": "ff2d1f85-4236-4fd8-942c-61cb0c45bd0e",
   "metadata": {},
   "outputs": [],
   "source": [
    "census= census.replace(' ?', np.NaN)"
   ]
  },
  {
   "cell_type": "code",
   "execution_count": 338,
   "id": "68d9e592-090e-4f7e-bddf-f27bb72f2166",
   "metadata": {},
   "outputs": [
    {
     "data": {
      "text/plain": [
       "Age               0\n",
       "Workclass         0\n",
       "Fnlwgt            0\n",
       "Education         0\n",
       "Education_num     0\n",
       "Marital_status    0\n",
       "Occupation        0\n",
       "Relationship      0\n",
       "Race              0\n",
       "Sex               0\n",
       "Capital_gain      0\n",
       "Capital_loss      0\n",
       "Hours_per_week    0\n",
       "Native_country    0\n",
       "Income            0\n",
       "dtype: int64"
      ]
     },
     "execution_count": 338,
     "metadata": {},
     "output_type": "execute_result"
    }
   ],
   "source": [
    "census.isin([' ?']).sum()"
   ]
  },
  {
   "cell_type": "code",
   "execution_count": 339,
   "id": "f083307c-fd99-4484-bd3c-126d34225f46",
   "metadata": {},
   "outputs": [
    {
     "data": {
      "text/plain": [
       "Age                  0\n",
       "Workclass         1836\n",
       "Fnlwgt               0\n",
       "Education            0\n",
       "Education_num        0\n",
       "Marital_status       0\n",
       "Occupation        1843\n",
       "Relationship         0\n",
       "Race                 0\n",
       "Sex                  0\n",
       "Capital_gain         0\n",
       "Capital_loss         0\n",
       "Hours_per_week       0\n",
       "Native_country     583\n",
       "Income               0\n",
       "dtype: int64"
      ]
     },
     "execution_count": 339,
     "metadata": {},
     "output_type": "execute_result"
    }
   ],
   "source": [
    "census.isnull().sum()"
   ]
  },
  {
   "cell_type": "markdown",
   "id": "d3bd9a5f-9278-4820-a703-767dd6f4c667",
   "metadata": {},
   "source": [
    "# Filling missing value"
   ]
  },
  {
   "cell_type": "code",
   "execution_count": 340,
   "id": "02360293-dc47-447b-8abe-626ee7fb6842",
   "metadata": {},
   "outputs": [
    {
     "data": {
      "text/plain": [
       "0     Private\n",
       "dtype: object"
      ]
     },
     "execution_count": 340,
     "metadata": {},
     "output_type": "execute_result"
    }
   ],
   "source": [
    "census['Workclass'].mode()"
   ]
  },
  {
   "cell_type": "code",
   "execution_count": 341,
   "id": "afc21f36-0e7a-4cb0-9cf0-a02119ee3bd6",
   "metadata": {},
   "outputs": [],
   "source": [
    "census['Workclass'] = census['Workclass'].fillna('Private')"
   ]
  },
  {
   "cell_type": "code",
   "execution_count": 342,
   "id": "e737c196-64de-4ba0-b7ae-9fa34ea0f393",
   "metadata": {},
   "outputs": [
    {
     "data": {
      "text/plain": [
       "0     Prof-specialty\n",
       "dtype: object"
      ]
     },
     "execution_count": 342,
     "metadata": {},
     "output_type": "execute_result"
    }
   ],
   "source": [
    "census['Occupation'].mode()"
   ]
  },
  {
   "cell_type": "code",
   "execution_count": 343,
   "id": "ed0f5d27-5871-4422-893a-892a236bcd3a",
   "metadata": {},
   "outputs": [],
   "source": [
    "census['Occupation'] = census['Occupation'].fillna('Prof-specialty')"
   ]
  },
  {
   "cell_type": "code",
   "execution_count": 344,
   "id": "12b4e16b-d96a-42a7-ad06-15d85a534e70",
   "metadata": {},
   "outputs": [
    {
     "data": {
      "text/plain": [
       "0     United-States\n",
       "dtype: object"
      ]
     },
     "execution_count": 344,
     "metadata": {},
     "output_type": "execute_result"
    }
   ],
   "source": [
    "census['Native_country'].mode()"
   ]
  },
  {
   "cell_type": "code",
   "execution_count": 345,
   "id": "d0fee96b-f443-43dd-b5d8-4835b2586356",
   "metadata": {},
   "outputs": [],
   "source": [
    "census['Native_country'] = census['Native_country'].fillna('United-States')"
   ]
  },
  {
   "cell_type": "code",
   "execution_count": 346,
   "id": "d179904a-2e9d-4ea4-b3ce-717c823bc2fc",
   "metadata": {},
   "outputs": [
    {
     "data": {
      "text/plain": [
       "Age               0\n",
       "Workclass         0\n",
       "Fnlwgt            0\n",
       "Education         0\n",
       "Education_num     0\n",
       "Marital_status    0\n",
       "Occupation        0\n",
       "Relationship      0\n",
       "Race              0\n",
       "Sex               0\n",
       "Capital_gain      0\n",
       "Capital_loss      0\n",
       "Hours_per_week    0\n",
       "Native_country    0\n",
       "Income            0\n",
       "dtype: int64"
      ]
     },
     "execution_count": 346,
     "metadata": {},
     "output_type": "execute_result"
    }
   ],
   "source": [
    "census.isnull().sum()"
   ]
  },
  {
   "cell_type": "code",
   "execution_count": 347,
   "id": "e3be0e69-0074-4101-8b0f-fe3b6c9240b5",
   "metadata": {},
   "outputs": [
    {
     "data": {
      "text/plain": [
       "Age                int64\n",
       "Workclass         object\n",
       "Fnlwgt             int64\n",
       "Education         object\n",
       "Education_num      int64\n",
       "Marital_status    object\n",
       "Occupation        object\n",
       "Relationship      object\n",
       "Race              object\n",
       "Sex               object\n",
       "Capital_gain       int64\n",
       "Capital_loss       int64\n",
       "Hours_per_week     int64\n",
       "Native_country    object\n",
       "Income            object\n",
       "dtype: object"
      ]
     },
     "execution_count": 347,
     "metadata": {},
     "output_type": "execute_result"
    }
   ],
   "source": [
    "census.dtypes"
   ]
  },
  {
   "cell_type": "code",
   "execution_count": 348,
   "id": "db315c0d-9e58-449f-be64-d360b68d9918",
   "metadata": {},
   "outputs": [
    {
     "data": {
      "text/plain": [
       " <=50K    24719\n",
       " >50K      7841\n",
       "Name: Income, dtype: int64"
      ]
     },
     "execution_count": 348,
     "metadata": {},
     "output_type": "execute_result"
    }
   ],
   "source": [
    "census['Income'].value_counts()"
   ]
  },
  {
   "cell_type": "code",
   "execution_count": 349,
   "id": "736f2c3a-7e8c-4a26-87d1-a8004e42057b",
   "metadata": {},
   "outputs": [
    {
     "data": {
      "text/plain": [
       "Index(['Age', 'Workclass', 'Fnlwgt', 'Education', 'Education_num',\n",
       "       'Marital_status', 'Occupation', 'Relationship', 'Race', 'Sex',\n",
       "       'Capital_gain', 'Capital_loss', 'Hours_per_week', 'Native_country',\n",
       "       'Income'],\n",
       "      dtype='object')"
      ]
     },
     "execution_count": 349,
     "metadata": {},
     "output_type": "execute_result"
    }
   ],
   "source": [
    "census.columns"
   ]
  },
  {
   "cell_type": "markdown",
   "id": "2c21bdee-a879-4652-aed5-a7dcce411d57",
   "metadata": {},
   "source": [
    "# EDA"
   ]
  },
  {
   "cell_type": "code",
   "execution_count": 350,
   "id": "d28df5fc-7965-4039-8974-fb47cfa19e1f",
   "metadata": {},
   "outputs": [],
   "source": [
    "import seaborn as sns\n",
    "import matplotlib.pyplot as plt"
   ]
  },
  {
   "cell_type": "markdown",
   "id": "5182b8d0-c7a8-432b-902c-d895fcb1b570",
   "metadata": {},
   "source": [
    "# Workclass vs Income"
   ]
  },
  {
   "cell_type": "code",
   "execution_count": 351,
   "id": "6a6da9b0-dd31-4cd3-aa41-6136269dbc2f",
   "metadata": {},
   "outputs": [
    {
     "data": {
      "text/plain": [
       "<AxesSubplot:xlabel='Workclass,Income'>"
      ]
     },
     "execution_count": 351,
     "metadata": {},
     "output_type": "execute_result"
    },
    {
     "data": {
      "image/png": "[encoded data removed]",
      "text/plain": [
       "<Figure size 1440x360 with 1 Axes>"
      ]
     },
     "metadata": {
      "needs_background": "light"
     },
     "output_type": "display_data"
    }
   ],
   "source": [
    "plt.figure(figsize=(20,5))\n",
    "census.groupby('Workclass')['Income'].value_counts().sort_values(ascending=False).plot(kind='bar')"
   ]
  },
  {
   "cell_type": "markdown",
   "id": "78e19800-1a4e-4414-8bf9-82980d9d4608",
   "metadata": {},
   "source": [
    "As per above observation more people are working in Private sector whose salary <=50k."
   ]
  },
  {
   "cell_type": "markdown",
   "id": "c4aa8552-5a9c-4347-8cab-a9e69e756bf8",
   "metadata": {},
   "source": [
    "# Education vs Income"
   ]
  },
  {
   "cell_type": "code",
   "execution_count": 352,
   "id": "767afd6b-b152-4219-bc4f-44124799e852",
   "metadata": {},
   "outputs": [
    {
     "data": {
      "text/plain": [
       "<AxesSubplot:xlabel='Education,Income'>"
      ]
     },
     "execution_count": 352,
     "metadata": {},
     "output_type": "execute_result"
    },
    {
     "data": {
      "image/png": "[encoded data removed]",
      "text/plain": [
       "<Figure size 1440x360 with 1 Axes>"
      ]
     },
     "metadata": {
      "needs_background": "light"
     },
     "output_type": "display_data"
    }
   ],
   "source": [
    "plt.figure(figsize=(20,5))\n",
    "census.groupby('Education')['Income'].value_counts().sort_values(ascending=False).plot(kind='bar')"
   ]
  },
  {
   "cell_type": "markdown",
   "id": "41bdd581-5e23-4b4d-bff6-db5491393ec9",
   "metadata": {},
   "source": [
    "As per above observation more people are HS graduate whose salary <=50k."
   ]
  },
  {
   "cell_type": "markdown",
   "id": "0328aeaf-de96-4288-a9d6-f4116bfbf123",
   "metadata": {},
   "source": [
    "# Marital_status vs Income"
   ]
  },
  {
   "cell_type": "code",
   "execution_count": 353,
   "id": "68ca299b-3831-4652-ae7a-5be7219b9043",
   "metadata": {},
   "outputs": [
    {
     "data": {
      "text/plain": [
       "<AxesSubplot:xlabel='Marital_status', ylabel='count'>"
      ]
     },
     "execution_count": 353,
     "metadata": {},
     "output_type": "execute_result"
    },
    {
     "data": {
      "image/png": "[encoded data removed]",
      "text/plain": [
       "<Figure size 1440x360 with 1 Axes>"
      ]
     },
     "metadata": {
      "needs_background": "light"
     },
     "output_type": "display_data"
    }
   ],
   "source": [
    "plt.figure(figsize=(20,5))\n",
    "sns.countplot(x='Marital_status',hue='Income',data=census)"
   ]
  },
  {
   "cell_type": "markdown",
   "id": "062c743e-f057-4c2f-bf37-138aa9b7ace9",
   "metadata": {},
   "source": [
    "As per above observation maximum Never-married income is <=50k"
   ]
  },
  {
   "cell_type": "markdown",
   "id": "46bcf9a1-40d9-41e3-99cd-8b1e5d01b4fb",
   "metadata": {},
   "source": [
    "# Occupation vs  Income"
   ]
  },
  {
   "cell_type": "code",
   "execution_count": 354,
   "id": "3d386ea3-d2c4-4b75-b0ce-3b545e5b7202",
   "metadata": {},
   "outputs": [
    {
     "data": {
      "text/plain": [
       "<AxesSubplot:xlabel='Occupation,Income'>"
      ]
     },
     "execution_count": 354,
     "metadata": {},
     "output_type": "execute_result"
    },
    {
     "data": {
      "image/png": "[encoded data removed]",
      "text/plain": [
       "<Figure size 1440x360 with 1 Axes>"
      ]
     },
     "metadata": {
      "needs_background": "light"
     },
     "output_type": "display_data"
    }
   ],
   "source": [
    "plt.figure(figsize=(20,5))\n",
    "census.groupby('Occupation')['Income'].value_counts().sort_values(ascending=True).plot(kind='bar')"
   ]
  },
  {
   "cell_type": "markdown",
   "id": "82bdac18-0662-4477-a2ab-f67438cf37e9",
   "metadata": {},
   "source": [
    "As per above observation maximum Adm-clerical income is <=50k"
   ]
  },
  {
   "cell_type": "markdown",
   "id": "af2ab947-6804-4f70-a3c1-a4fa6930bb70",
   "metadata": {},
   "source": [
    "# Sex vs Income"
   ]
  },
  {
   "cell_type": "code",
   "execution_count": 355,
   "id": "f6b11405-be18-45c5-8783-53679127ce4b",
   "metadata": {},
   "outputs": [
    {
     "data": {
      "text/plain": [
       "<AxesSubplot:xlabel='Sex', ylabel='count'>"
      ]
     },
     "execution_count": 355,
     "metadata": {},
     "output_type": "execute_result"
    },
    {
     "data": {
      "image/png": "[encoded data removed]",
      "text/plain": [
       "<Figure size 720x360 with 1 Axes>"
      ]
     },
     "metadata": {
      "needs_background": "light"
     },
     "output_type": "display_data"
    }
   ],
   "source": [
    "plt.figure(figsize=(10,5))\n",
    "sns.countplot(x='Sex',hue='Income',data=census)"
   ]
  },
  {
   "cell_type": "markdown",
   "id": "ca6bf8dc-2e3e-48f2-b000-071d54b62919",
   "metadata": {},
   "source": [
    "As per above observation maximum Male and Female income is <=50k"
   ]
  },
  {
   "cell_type": "markdown",
   "id": "78b87a98-b0da-4679-80fc-6f80e1a7b9af",
   "metadata": {},
   "source": [
    "# Native_country  vs  Income"
   ]
  },
  {
   "cell_type": "code",
   "execution_count": 356,
   "id": "dc182d42-c330-4304-a3ec-c236cff8e70c",
   "metadata": {},
   "outputs": [
    {
     "data": {
      "text/plain": [
       "<AxesSubplot:xlabel='Native_country,Income'>"
      ]
     },
     "execution_count": 356,
     "metadata": {},
     "output_type": "execute_result"
    },
    {
     "data": {
      "image/png": "[encoded data removed]",
      "text/plain": [
       "<Figure size 1440x720 with 1 Axes>"
      ]
     },
     "metadata": {
      "needs_background": "light"
     },
     "output_type": "display_data"
    }
   ],
   "source": [
    "plt.figure(figsize=(20,10))\n",
    "census.groupby('Native_country')['Income'].value_counts().sort_values(ascending=False).plot(kind='bar')"
   ]
  },
  {
   "cell_type": "markdown",
   "id": "681c3888-9a7e-45a0-bd74-3067e92826f5",
   "metadata": {},
   "source": [
    "As per above observation more people income in United State is <=50k"
   ]
  },
  {
   "cell_type": "markdown",
   "id": "dfbe0cf8-0c69-45b3-a82b-1ad9ffcce4b2",
   "metadata": {},
   "source": [
    "# Using Label encoder to convert dependent column into numeric data type  "
   ]
  },
  {
   "cell_type": "code",
   "execution_count": 357,
   "id": "e5555250-3edc-4f8a-9511-90f9b778029a",
   "metadata": {},
   "outputs": [],
   "source": [
    "from sklearn.preprocessing import LabelEncoder\n",
    "le = LabelEncoder()"
   ]
  },
  {
   "cell_type": "code",
   "execution_count": 358,
   "id": "deb9ab25-3b01-4ab2-a334-8a72814b2751",
   "metadata": {},
   "outputs": [],
   "source": [
    "census['Income'] = le.fit_transform(census['Income'])"
   ]
  },
  {
   "cell_type": "code",
   "execution_count": 359,
   "id": "edc5fcc7-9e83-455c-8203-ae193b98db40",
   "metadata": {},
   "outputs": [
    {
     "data": {
      "text/html": [
       "<div>\n",
       "<style scoped>\n",
       "    .dataframe tbody tr th:only-of-type {\n",
       "        vertical-align: middle;\n",
       "    }\n",
       "\n",
       "    .dataframe tbody tr th {\n",
       "        vertical-align: top;\n",
       "    }\n",
       "\n",
       "    .dataframe thead th {\n",
       "        text-align: right;\n",
       "    }\n",
       "</style>\n",
       "<table border=\"1\" class=\"dataframe\">\n",
       "  <thead>\n",
       "    <tr style=\"text-align: right;\">\n",
       "      <th></th>\n",
       "      <th>Age</th>\n",
       "      <th>Workclass</th>\n",
       "      <th>Fnlwgt</th>\n",
       "      <th>Education</th>\n",
       "      <th>Education_num</th>\n",
       "      <th>Marital_status</th>\n",
       "      <th>Occupation</th>\n",
       "      <th>Relationship</th>\n",
       "      <th>Race</th>\n",
       "      <th>Sex</th>\n",
       "      <th>Capital_gain</th>\n",
       "      <th>Capital_loss</th>\n",
       "      <th>Hours_per_week</th>\n",
       "      <th>Native_country</th>\n",
       "      <th>Income</th>\n",
       "    </tr>\n",
       "  </thead>\n",
       "  <tbody>\n",
       "    <tr>\n",
       "      <th>0</th>\n",
       "      <td>50</td>\n",
       "      <td>Self-emp-not-inc</td>\n",
       "      <td>83311</td>\n",
       "      <td>Bachelors</td>\n",
       "      <td>13</td>\n",
       "      <td>Married-civ-spouse</td>\n",
       "      <td>Exec-managerial</td>\n",
       "      <td>Husband</td>\n",
       "      <td>White</td>\n",
       "      <td>Male</td>\n",
       "      <td>0</td>\n",
       "      <td>0</td>\n",
       "      <td>13</td>\n",
       "      <td>United-States</td>\n",
       "      <td>0</td>\n",
       "    </tr>\n",
       "    <tr>\n",
       "      <th>1</th>\n",
       "      <td>38</td>\n",
       "      <td>Private</td>\n",
       "      <td>215646</td>\n",
       "      <td>HS-grad</td>\n",
       "      <td>9</td>\n",
       "      <td>Divorced</td>\n",
       "      <td>Handlers-cleaners</td>\n",
       "      <td>Not-in-family</td>\n",
       "      <td>White</td>\n",
       "      <td>Male</td>\n",
       "      <td>0</td>\n",
       "      <td>0</td>\n",
       "      <td>40</td>\n",
       "      <td>United-States</td>\n",
       "      <td>0</td>\n",
       "    </tr>\n",
       "    <tr>\n",
       "      <th>2</th>\n",
       "      <td>53</td>\n",
       "      <td>Private</td>\n",
       "      <td>234721</td>\n",
       "      <td>11th</td>\n",
       "      <td>7</td>\n",
       "      <td>Married-civ-spouse</td>\n",
       "      <td>Handlers-cleaners</td>\n",
       "      <td>Husband</td>\n",
       "      <td>Black</td>\n",
       "      <td>Male</td>\n",
       "      <td>0</td>\n",
       "      <td>0</td>\n",
       "      <td>40</td>\n",
       "      <td>United-States</td>\n",
       "      <td>0</td>\n",
       "    </tr>\n",
       "    <tr>\n",
       "      <th>3</th>\n",
       "      <td>28</td>\n",
       "      <td>Private</td>\n",
       "      <td>338409</td>\n",
       "      <td>Bachelors</td>\n",
       "      <td>13</td>\n",
       "      <td>Married-civ-spouse</td>\n",
       "      <td>Prof-specialty</td>\n",
       "      <td>Wife</td>\n",
       "      <td>Black</td>\n",
       "      <td>Female</td>\n",
       "      <td>0</td>\n",
       "      <td>0</td>\n",
       "      <td>40</td>\n",
       "      <td>Cuba</td>\n",
       "      <td>0</td>\n",
       "    </tr>\n",
       "    <tr>\n",
       "      <th>4</th>\n",
       "      <td>37</td>\n",
       "      <td>Private</td>\n",
       "      <td>284582</td>\n",
       "      <td>Masters</td>\n",
       "      <td>14</td>\n",
       "      <td>Married-civ-spouse</td>\n",
       "      <td>Exec-managerial</td>\n",
       "      <td>Wife</td>\n",
       "      <td>White</td>\n",
       "      <td>Female</td>\n",
       "      <td>0</td>\n",
       "      <td>0</td>\n",
       "      <td>40</td>\n",
       "      <td>United-States</td>\n",
       "      <td>0</td>\n",
       "    </tr>\n",
       "    <tr>\n",
       "      <th>...</th>\n",
       "      <td>...</td>\n",
       "      <td>...</td>\n",
       "      <td>...</td>\n",
       "      <td>...</td>\n",
       "      <td>...</td>\n",
       "      <td>...</td>\n",
       "      <td>...</td>\n",
       "      <td>...</td>\n",
       "      <td>...</td>\n",
       "      <td>...</td>\n",
       "      <td>...</td>\n",
       "      <td>...</td>\n",
       "      <td>...</td>\n",
       "      <td>...</td>\n",
       "      <td>...</td>\n",
       "    </tr>\n",
       "    <tr>\n",
       "      <th>32555</th>\n",
       "      <td>27</td>\n",
       "      <td>Private</td>\n",
       "      <td>257302</td>\n",
       "      <td>Assoc-acdm</td>\n",
       "      <td>12</td>\n",
       "      <td>Married-civ-spouse</td>\n",
       "      <td>Tech-support</td>\n",
       "      <td>Wife</td>\n",
       "      <td>White</td>\n",
       "      <td>Female</td>\n",
       "      <td>0</td>\n",
       "      <td>0</td>\n",
       "      <td>38</td>\n",
       "      <td>United-States</td>\n",
       "      <td>0</td>\n",
       "    </tr>\n",
       "    <tr>\n",
       "      <th>32556</th>\n",
       "      <td>40</td>\n",
       "      <td>Private</td>\n",
       "      <td>154374</td>\n",
       "      <td>HS-grad</td>\n",
       "      <td>9</td>\n",
       "      <td>Married-civ-spouse</td>\n",
       "      <td>Machine-op-inspct</td>\n",
       "      <td>Husband</td>\n",
       "      <td>White</td>\n",
       "      <td>Male</td>\n",
       "      <td>0</td>\n",
       "      <td>0</td>\n",
       "      <td>40</td>\n",
       "      <td>United-States</td>\n",
       "      <td>1</td>\n",
       "    </tr>\n",
       "    <tr>\n",
       "      <th>32557</th>\n",
       "      <td>58</td>\n",
       "      <td>Private</td>\n",
       "      <td>151910</td>\n",
       "      <td>HS-grad</td>\n",
       "      <td>9</td>\n",
       "      <td>Widowed</td>\n",
       "      <td>Adm-clerical</td>\n",
       "      <td>Unmarried</td>\n",
       "      <td>White</td>\n",
       "      <td>Female</td>\n",
       "      <td>0</td>\n",
       "      <td>0</td>\n",
       "      <td>40</td>\n",
       "      <td>United-States</td>\n",
       "      <td>0</td>\n",
       "    </tr>\n",
       "    <tr>\n",
       "      <th>32558</th>\n",
       "      <td>22</td>\n",
       "      <td>Private</td>\n",
       "      <td>201490</td>\n",
       "      <td>HS-grad</td>\n",
       "      <td>9</td>\n",
       "      <td>Never-married</td>\n",
       "      <td>Adm-clerical</td>\n",
       "      <td>Own-child</td>\n",
       "      <td>White</td>\n",
       "      <td>Male</td>\n",
       "      <td>0</td>\n",
       "      <td>0</td>\n",
       "      <td>20</td>\n",
       "      <td>United-States</td>\n",
       "      <td>0</td>\n",
       "    </tr>\n",
       "    <tr>\n",
       "      <th>32559</th>\n",
       "      <td>52</td>\n",
       "      <td>Self-emp-inc</td>\n",
       "      <td>287927</td>\n",
       "      <td>HS-grad</td>\n",
       "      <td>9</td>\n",
       "      <td>Married-civ-spouse</td>\n",
       "      <td>Exec-managerial</td>\n",
       "      <td>Wife</td>\n",
       "      <td>White</td>\n",
       "      <td>Female</td>\n",
       "      <td>15024</td>\n",
       "      <td>0</td>\n",
       "      <td>40</td>\n",
       "      <td>United-States</td>\n",
       "      <td>1</td>\n",
       "    </tr>\n",
       "  </tbody>\n",
       "</table>\n",
       "<p>32560 rows × 15 columns</p>\n",
       "</div>"
      ],
      "text/plain": [
       "       Age          Workclass  Fnlwgt    Education  Education_num  \\\n",
       "0       50   Self-emp-not-inc   83311    Bachelors             13   \n",
       "1       38            Private  215646      HS-grad              9   \n",
       "2       53            Private  234721         11th              7   \n",
       "3       28            Private  338409    Bachelors             13   \n",
       "4       37            Private  284582      Masters             14   \n",
       "...    ...                ...     ...          ...            ...   \n",
       "32555   27            Private  257302   Assoc-acdm             12   \n",
       "32556   40            Private  154374      HS-grad              9   \n",
       "32557   58            Private  151910      HS-grad              9   \n",
       "32558   22            Private  201490      HS-grad              9   \n",
       "32559   52       Self-emp-inc  287927      HS-grad              9   \n",
       "\n",
       "            Marital_status          Occupation    Relationship    Race  \\\n",
       "0       Married-civ-spouse     Exec-managerial         Husband   White   \n",
       "1                 Divorced   Handlers-cleaners   Not-in-family   White   \n",
       "2       Married-civ-spouse   Handlers-cleaners         Husband   Black   \n",
       "3       Married-civ-spouse      Prof-specialty            Wife   Black   \n",
       "4       Married-civ-spouse     Exec-managerial            Wife   White   \n",
       "...                    ...                 ...             ...     ...   \n",
       "32555   Married-civ-spouse        Tech-support            Wife   White   \n",
       "32556   Married-civ-spouse   Machine-op-inspct         Husband   White   \n",
       "32557              Widowed        Adm-clerical       Unmarried   White   \n",
       "32558        Never-married        Adm-clerical       Own-child   White   \n",
       "32559   Married-civ-spouse     Exec-managerial            Wife   White   \n",
       "\n",
       "           Sex  Capital_gain  Capital_loss  Hours_per_week  Native_country  \\\n",
       "0         Male             0             0              13   United-States   \n",
       "1         Male             0             0              40   United-States   \n",
       "2         Male             0             0              40   United-States   \n",
       "3       Female             0             0              40            Cuba   \n",
       "4       Female             0             0              40   United-States   \n",
       "...        ...           ...           ...             ...             ...   \n",
       "32555   Female             0             0              38   United-States   \n",
       "32556     Male             0             0              40   United-States   \n",
       "32557   Female             0             0              40   United-States   \n",
       "32558     Male             0             0              20   United-States   \n",
       "32559   Female         15024             0              40   United-States   \n",
       "\n",
       "       Income  \n",
       "0           0  \n",
       "1           0  \n",
       "2           0  \n",
       "3           0  \n",
       "4           0  \n",
       "...       ...  \n",
       "32555       0  \n",
       "32556       1  \n",
       "32557       0  \n",
       "32558       0  \n",
       "32559       1  \n",
       "\n",
       "[32560 rows x 15 columns]"
      ]
     },
     "execution_count": 359,
     "metadata": {},
     "output_type": "execute_result"
    }
   ],
   "source": [
    "census"
   ]
  },
  {
   "cell_type": "markdown",
   "id": "654cdbd7-14b5-44d3-9fd8-15016ac0162e",
   "metadata": {},
   "source": [
    "# correlation"
   ]
  },
  {
   "cell_type": "code",
   "execution_count": 360,
   "id": "d479fd2a-efa2-4a02-8d89-82df3585b208",
   "metadata": {},
   "outputs": [
    {
     "data": {
      "text/html": [
       "<div>\n",
       "<style scoped>\n",
       "    .dataframe tbody tr th:only-of-type {\n",
       "        vertical-align: middle;\n",
       "    }\n",
       "\n",
       "    .dataframe tbody tr th {\n",
       "        vertical-align: top;\n",
       "    }\n",
       "\n",
       "    .dataframe thead th {\n",
       "        text-align: right;\n",
       "    }\n",
       "</style>\n",
       "<table border=\"1\" class=\"dataframe\">\n",
       "  <thead>\n",
       "    <tr style=\"text-align: right;\">\n",
       "      <th></th>\n",
       "      <th>Age</th>\n",
       "      <th>Fnlwgt</th>\n",
       "      <th>Education_num</th>\n",
       "      <th>Capital_gain</th>\n",
       "      <th>Capital_loss</th>\n",
       "      <th>Hours_per_week</th>\n",
       "      <th>Income</th>\n",
       "    </tr>\n",
       "  </thead>\n",
       "  <tbody>\n",
       "    <tr>\n",
       "      <th>Age</th>\n",
       "      <td>1.000000</td>\n",
       "      <td>-0.076646</td>\n",
       "      <td>0.036527</td>\n",
       "      <td>0.077674</td>\n",
       "      <td>0.057775</td>\n",
       "      <td>0.068756</td>\n",
       "      <td>0.234039</td>\n",
       "    </tr>\n",
       "    <tr>\n",
       "      <th>Fnlwgt</th>\n",
       "      <td>-0.076646</td>\n",
       "      <td>1.000000</td>\n",
       "      <td>-0.043159</td>\n",
       "      <td>0.000437</td>\n",
       "      <td>-0.010259</td>\n",
       "      <td>-0.018770</td>\n",
       "      <td>-0.009481</td>\n",
       "    </tr>\n",
       "    <tr>\n",
       "      <th>Education_num</th>\n",
       "      <td>0.036527</td>\n",
       "      <td>-0.043159</td>\n",
       "      <td>1.000000</td>\n",
       "      <td>0.122627</td>\n",
       "      <td>0.079932</td>\n",
       "      <td>0.148127</td>\n",
       "      <td>0.335182</td>\n",
       "    </tr>\n",
       "    <tr>\n",
       "      <th>Capital_gain</th>\n",
       "      <td>0.077674</td>\n",
       "      <td>0.000437</td>\n",
       "      <td>0.122627</td>\n",
       "      <td>1.000000</td>\n",
       "      <td>-0.031614</td>\n",
       "      <td>0.078409</td>\n",
       "      <td>0.223333</td>\n",
       "    </tr>\n",
       "    <tr>\n",
       "      <th>Capital_loss</th>\n",
       "      <td>0.057775</td>\n",
       "      <td>-0.010259</td>\n",
       "      <td>0.079932</td>\n",
       "      <td>-0.031614</td>\n",
       "      <td>1.000000</td>\n",
       "      <td>0.054256</td>\n",
       "      <td>0.150523</td>\n",
       "    </tr>\n",
       "    <tr>\n",
       "      <th>Hours_per_week</th>\n",
       "      <td>0.068756</td>\n",
       "      <td>-0.018770</td>\n",
       "      <td>0.148127</td>\n",
       "      <td>0.078409</td>\n",
       "      <td>0.054256</td>\n",
       "      <td>1.000000</td>\n",
       "      <td>0.229690</td>\n",
       "    </tr>\n",
       "    <tr>\n",
       "      <th>Income</th>\n",
       "      <td>0.234039</td>\n",
       "      <td>-0.009481</td>\n",
       "      <td>0.335182</td>\n",
       "      <td>0.223333</td>\n",
       "      <td>0.150523</td>\n",
       "      <td>0.229690</td>\n",
       "      <td>1.000000</td>\n",
       "    </tr>\n",
       "  </tbody>\n",
       "</table>\n",
       "</div>"
      ],
      "text/plain": [
       "                     Age    Fnlwgt  Education_num  Capital_gain  Capital_loss  \\\n",
       "Age             1.000000 -0.076646       0.036527      0.077674      0.057775   \n",
       "Fnlwgt         -0.076646  1.000000      -0.043159      0.000437     -0.010259   \n",
       "Education_num   0.036527 -0.043159       1.000000      0.122627      0.079932   \n",
       "Capital_gain    0.077674  0.000437       0.122627      1.000000     -0.031614   \n",
       "Capital_loss    0.057775 -0.010259       0.079932     -0.031614      1.000000   \n",
       "Hours_per_week  0.068756 -0.018770       0.148127      0.078409      0.054256   \n",
       "Income          0.234039 -0.009481       0.335182      0.223333      0.150523   \n",
       "\n",
       "                Hours_per_week    Income  \n",
       "Age                   0.068756  0.234039  \n",
       "Fnlwgt               -0.018770 -0.009481  \n",
       "Education_num         0.148127  0.335182  \n",
       "Capital_gain          0.078409  0.223333  \n",
       "Capital_loss          0.054256  0.150523  \n",
       "Hours_per_week        1.000000  0.229690  \n",
       "Income                0.229690  1.000000  "
      ]
     },
     "execution_count": 360,
     "metadata": {},
     "output_type": "execute_result"
    }
   ],
   "source": [
    "census.corr()"
   ]
  },
  {
   "cell_type": "code",
   "execution_count": 361,
   "id": "a5d21e9c-7364-4312-9a0d-df3bbbd5ef08",
   "metadata": {},
   "outputs": [
    {
     "data": {
      "text/plain": [
       "<AxesSubplot:>"
      ]
     },
     "execution_count": 361,
     "metadata": {},
     "output_type": "execute_result"
    },
    {
     "data": {
      "image/png": "[encoded data removed]",
      "text/plain": [
       "<Figure size 360x360 with 2 Axes>"
      ]
     },
     "metadata": {
      "needs_background": "light"
     },
     "output_type": "display_data"
    }
   ],
   "source": [
    "plt.figure(figsize=(5,5))\n",
    "sns.heatmap(census.corr(),annot=True,linecolor='r',linewidths=0.5,fmt='.2f')"
   ]
  },
  {
   "cell_type": "markdown",
   "id": "2784f464-522b-4e62-9066-0317e8532c38",
   "metadata": {},
   "source": [
    "Findings from above observation are mentioned below:\n",
    "    \n",
    "1) Age has 23% positive correlation with Target column.\n",
    "\n",
    "2) Fnlwgt has 1% Negetive correlation with Target column.\n",
    "\n",
    "3) Education_num has 34% positive correlation with Target column.\n",
    "\n",
    "4) capital_ gain has 22% positive correlation with Target column.\n",
    "\n",
    "5) capital_loss has 15% positive correlation with Target column.\n",
    "\n",
    "6) Hours_per_week has 23% positive correlation with Target column."
   ]
  },
  {
   "cell_type": "markdown",
   "id": "6f18ac8b-7270-44ae-9793-9a0178893caa",
   "metadata": {},
   "source": [
    "# Checking Outlier"
   ]
  },
  {
   "cell_type": "code",
   "execution_count": 362,
   "id": "d4b3936e-a20e-4432-bd11-029d30fabdd2",
   "metadata": {},
   "outputs": [
    {
     "data": {
      "text/plain": [
       "<AxesSubplot:>"
      ]
     },
     "execution_count": 362,
     "metadata": {},
     "output_type": "execute_result"
    },
    {
     "data": {
      "image/png": "[encoded data removed]",
      "text/plain": [
       "<Figure size 432x288 with 1 Axes>"
      ]
     },
     "metadata": {
      "needs_background": "light"
     },
     "output_type": "display_data"
    }
   ],
   "source": [
    "census['Age'].plot.box()"
   ]
  },
  {
   "cell_type": "markdown",
   "id": "d8a1fcc8-a0fc-493b-bb6b-e38c93d908ed",
   "metadata": {},
   "source": [
    "As per above observation there is an outlier."
   ]
  },
  {
   "cell_type": "code",
   "execution_count": 363,
   "id": "e80c07fa-4dcc-4caf-82da-ffbc3f9bda13",
   "metadata": {},
   "outputs": [
    {
     "data": {
      "text/plain": [
       "<AxesSubplot:>"
      ]
     },
     "execution_count": 363,
     "metadata": {},
     "output_type": "execute_result"
    },
    {
     "data": {
      "image/png": "[encoded data removed]",
      "text/plain": [
       "<Figure size 432x288 with 1 Axes>"
      ]
     },
     "metadata": {
      "needs_background": "light"
     },
     "output_type": "display_data"
    }
   ],
   "source": [
    "census['Fnlwgt'].plot.box()"
   ]
  },
  {
   "cell_type": "markdown",
   "id": "d8466f07-b19f-45e8-a7b2-146986011d82",
   "metadata": {},
   "source": [
    "As per above observation there is an outlier."
   ]
  },
  {
   "cell_type": "code",
   "execution_count": 364,
   "id": "5903a63c-87f3-41d7-84af-631dad654da0",
   "metadata": {},
   "outputs": [
    {
     "data": {
      "text/plain": [
       "<AxesSubplot:>"
      ]
     },
     "execution_count": 364,
     "metadata": {},
     "output_type": "execute_result"
    },
    {
     "data": {
      "image/png": "[encoded data removed]",
      "text/plain": [
       "<Figure size 432x288 with 1 Axes>"
      ]
     },
     "metadata": {
      "needs_background": "light"
     },
     "output_type": "display_data"
    }
   ],
   "source": [
    "census['Education_num'].plot.box()"
   ]
  },
  {
   "cell_type": "markdown",
   "id": "e88e7fd0-aefb-49ba-a08c-512e9481c5c4",
   "metadata": {},
   "source": [
    "As per above observation there is an outlier."
   ]
  },
  {
   "cell_type": "code",
   "execution_count": 365,
   "id": "8b059c30-562f-4ba9-9fc4-5168ba3281d7",
   "metadata": {},
   "outputs": [
    {
     "data": {
      "text/plain": [
       "<AxesSubplot:>"
      ]
     },
     "execution_count": 365,
     "metadata": {},
     "output_type": "execute_result"
    },
    {
     "data": {
      "image/png": "[encoded data removed]",
      "text/plain": [
       "<Figure size 432x288 with 1 Axes>"
      ]
     },
     "metadata": {
      "needs_background": "light"
     },
     "output_type": "display_data"
    }
   ],
   "source": [
    "census['Capital_gain'].plot.box()"
   ]
  },
  {
   "cell_type": "markdown",
   "id": "f2f5ab73-572d-499e-aa9b-692e714d4db9",
   "metadata": {},
   "source": [
    "As per above observation there is an outlier."
   ]
  },
  {
   "cell_type": "code",
   "execution_count": 366,
   "id": "2558aa94-0f58-4b3e-8827-2e85a228cc80",
   "metadata": {},
   "outputs": [
    {
     "data": {
      "text/plain": [
       "<AxesSubplot:>"
      ]
     },
     "execution_count": 366,
     "metadata": {},
     "output_type": "execute_result"
    },
    {
     "data": {
      "image/png": "[encoded data removed]",
      "text/plain": [
       "<Figure size 432x288 with 1 Axes>"
      ]
     },
     "metadata": {
      "needs_background": "light"
     },
     "output_type": "display_data"
    }
   ],
   "source": [
    "census['Capital_loss'].plot.box()"
   ]
  },
  {
   "cell_type": "markdown",
   "id": "fb2556f6-feb2-440c-af4e-c3d2b989d3fc",
   "metadata": {},
   "source": [
    "As per above observation there is an outlier."
   ]
  },
  {
   "cell_type": "code",
   "execution_count": 367,
   "id": "33cdeb90-92d8-4709-9ae6-dd071a4d5f4f",
   "metadata": {},
   "outputs": [
    {
     "data": {
      "text/plain": [
       "<AxesSubplot:>"
      ]
     },
     "execution_count": 367,
     "metadata": {},
     "output_type": "execute_result"
    },
    {
     "data": {
      "image/png": "[encoded data removed]",
      "text/plain": [
       "<Figure size 432x288 with 1 Axes>"
      ]
     },
     "metadata": {
      "needs_background": "light"
     },
     "output_type": "display_data"
    }
   ],
   "source": [
    "census['Hours_per_week'].plot.box()"
   ]
  },
  {
   "cell_type": "markdown",
   "id": "30fc420e-1f6d-4e7a-85b3-3da4c0ed7b16",
   "metadata": {},
   "source": [
    "As per above observation there is an outlier."
   ]
  },
  {
   "cell_type": "markdown",
   "id": "4f4cae0d-9bca-443d-9495-1aa15d736723",
   "metadata": {},
   "source": [
    "# Checking Skewness"
   ]
  },
  {
   "cell_type": "code",
   "execution_count": 368,
   "id": "feb85ff1-ae78-4b54-82a8-168a8ffc9c10",
   "metadata": {},
   "outputs": [
    {
     "data": {
      "text/plain": [
       "Age                0.558738\n",
       "Fnlwgt             1.446972\n",
       "Education_num     -0.311630\n",
       "Capital_gain      11.953690\n",
       "Capital_loss       4.594549\n",
       "Hours_per_week     0.227636\n",
       "Income             1.212383\n",
       "dtype: float64"
      ]
     },
     "execution_count": 368,
     "metadata": {},
     "output_type": "execute_result"
    }
   ],
   "source": [
    "census.skew()"
   ]
  },
  {
   "cell_type": "markdown",
   "id": "ce0ebb67-8683-4025-a4fd-62f0dced5b7e",
   "metadata": {},
   "source": [
    "Findings skewed data from the above observation are mentioned below:\n",
    "    \n",
    "Age===                0.558738\n",
    "\n",
    "Fnlwgt===             1.446972\n",
    "\n",
    "Capital_gain===      11.953690\n",
    "\n",
    "Capital_loss===       4.594549\n",
    "   "
   ]
  },
  {
   "cell_type": "markdown",
   "id": "3a3f14cd-8a92-4a1f-9ab3-8c2596daf706",
   "metadata": {},
   "source": [
    "# Checking Normal Distribution"
   ]
  },
  {
   "cell_type": "code",
   "execution_count": 369,
   "id": "5780aa11-13ed-4b86-89d5-ae1aee66a325",
   "metadata": {},
   "outputs": [],
   "source": [
    "import warnings\n",
    "warnings.filterwarnings(\"ignore\")"
   ]
  },
  {
   "cell_type": "code",
   "execution_count": 370,
   "id": "8594d338-6e36-4970-b945-b539ddb11a99",
   "metadata": {},
   "outputs": [
    {
     "data": {
      "text/html": [
       "<div>\n",
       "<style scoped>\n",
       "    .dataframe tbody tr th:only-of-type {\n",
       "        vertical-align: middle;\n",
       "    }\n",
       "\n",
       "    .dataframe tbody tr th {\n",
       "        vertical-align: top;\n",
       "    }\n",
       "\n",
       "    .dataframe thead th {\n",
       "        text-align: right;\n",
       "    }\n",
       "</style>\n",
       "<table border=\"1\" class=\"dataframe\">\n",
       "  <thead>\n",
       "    <tr style=\"text-align: right;\">\n",
       "      <th></th>\n",
       "      <th>Age</th>\n",
       "      <th>Fnlwgt</th>\n",
       "      <th>Education_num</th>\n",
       "      <th>Capital_gain</th>\n",
       "      <th>Capital_loss</th>\n",
       "      <th>Hours_per_week</th>\n",
       "      <th>Income</th>\n",
       "    </tr>\n",
       "  </thead>\n",
       "  <tbody>\n",
       "    <tr>\n",
       "      <th>count</th>\n",
       "      <td>32560.000000</td>\n",
       "      <td>3.256000e+04</td>\n",
       "      <td>32560.000000</td>\n",
       "      <td>32560.000000</td>\n",
       "      <td>32560.000000</td>\n",
       "      <td>32560.000000</td>\n",
       "      <td>32560.000000</td>\n",
       "    </tr>\n",
       "    <tr>\n",
       "      <th>mean</th>\n",
       "      <td>38.581634</td>\n",
       "      <td>1.897818e+05</td>\n",
       "      <td>10.080590</td>\n",
       "      <td>1077.615172</td>\n",
       "      <td>87.306511</td>\n",
       "      <td>40.437469</td>\n",
       "      <td>0.240817</td>\n",
       "    </tr>\n",
       "    <tr>\n",
       "      <th>std</th>\n",
       "      <td>13.640642</td>\n",
       "      <td>1.055498e+05</td>\n",
       "      <td>2.572709</td>\n",
       "      <td>7385.402999</td>\n",
       "      <td>402.966116</td>\n",
       "      <td>12.347618</td>\n",
       "      <td>0.427586</td>\n",
       "    </tr>\n",
       "    <tr>\n",
       "      <th>min</th>\n",
       "      <td>17.000000</td>\n",
       "      <td>1.228500e+04</td>\n",
       "      <td>1.000000</td>\n",
       "      <td>0.000000</td>\n",
       "      <td>0.000000</td>\n",
       "      <td>1.000000</td>\n",
       "      <td>0.000000</td>\n",
       "    </tr>\n",
       "    <tr>\n",
       "      <th>25%</th>\n",
       "      <td>28.000000</td>\n",
       "      <td>1.178315e+05</td>\n",
       "      <td>9.000000</td>\n",
       "      <td>0.000000</td>\n",
       "      <td>0.000000</td>\n",
       "      <td>40.000000</td>\n",
       "      <td>0.000000</td>\n",
       "    </tr>\n",
       "    <tr>\n",
       "      <th>50%</th>\n",
       "      <td>37.000000</td>\n",
       "      <td>1.783630e+05</td>\n",
       "      <td>10.000000</td>\n",
       "      <td>0.000000</td>\n",
       "      <td>0.000000</td>\n",
       "      <td>40.000000</td>\n",
       "      <td>0.000000</td>\n",
       "    </tr>\n",
       "    <tr>\n",
       "      <th>75%</th>\n",
       "      <td>48.000000</td>\n",
       "      <td>2.370545e+05</td>\n",
       "      <td>12.000000</td>\n",
       "      <td>0.000000</td>\n",
       "      <td>0.000000</td>\n",
       "      <td>45.000000</td>\n",
       "      <td>0.000000</td>\n",
       "    </tr>\n",
       "    <tr>\n",
       "      <th>max</th>\n",
       "      <td>90.000000</td>\n",
       "      <td>1.484705e+06</td>\n",
       "      <td>16.000000</td>\n",
       "      <td>99999.000000</td>\n",
       "      <td>4356.000000</td>\n",
       "      <td>99.000000</td>\n",
       "      <td>1.000000</td>\n",
       "    </tr>\n",
       "  </tbody>\n",
       "</table>\n",
       "</div>"
      ],
      "text/plain": [
       "                Age        Fnlwgt  Education_num  Capital_gain  Capital_loss  \\\n",
       "count  32560.000000  3.256000e+04   32560.000000  32560.000000  32560.000000   \n",
       "mean      38.581634  1.897818e+05      10.080590   1077.615172     87.306511   \n",
       "std       13.640642  1.055498e+05       2.572709   7385.402999    402.966116   \n",
       "min       17.000000  1.228500e+04       1.000000      0.000000      0.000000   \n",
       "25%       28.000000  1.178315e+05       9.000000      0.000000      0.000000   \n",
       "50%       37.000000  1.783630e+05      10.000000      0.000000      0.000000   \n",
       "75%       48.000000  2.370545e+05      12.000000      0.000000      0.000000   \n",
       "max       90.000000  1.484705e+06      16.000000  99999.000000   4356.000000   \n",
       "\n",
       "       Hours_per_week        Income  \n",
       "count    32560.000000  32560.000000  \n",
       "mean        40.437469      0.240817  \n",
       "std         12.347618      0.427586  \n",
       "min          1.000000      0.000000  \n",
       "25%         40.000000      0.000000  \n",
       "50%         40.000000      0.000000  \n",
       "75%         45.000000      0.000000  \n",
       "max         99.000000      1.000000  "
      ]
     },
     "execution_count": 370,
     "metadata": {},
     "output_type": "execute_result"
    }
   ],
   "source": [
    "census.describe()"
   ]
  },
  {
   "cell_type": "code",
   "execution_count": 371,
   "id": "685b93a3-3963-4c93-af9a-5726ac9e78b6",
   "metadata": {},
   "outputs": [
    {
     "data": {
      "text/plain": [
       "<AxesSubplot:xlabel='Age', ylabel='Density'>"
      ]
     },
     "execution_count": 371,
     "metadata": {},
     "output_type": "execute_result"
    },
    {
     "data": {
      "image/png": "[encoded data removed]",
      "text/plain": [
       "<Figure size 432x288 with 1 Axes>"
      ]
     },
     "metadata": {
      "needs_background": "light"
     },
     "output_type": "display_data"
    }
   ],
   "source": [
    "sns.distplot(census['Age'])"
   ]
  },
  {
   "cell_type": "markdown",
   "id": "5499f102-f033-4541-b186-7430cfca84d6",
   "metadata": {},
   "source": [
    "As per above observation Normal distribution shows that data is skewed."
   ]
  },
  {
   "cell_type": "code",
   "execution_count": 372,
   "id": "53bbe5a9-3f8c-4ffa-aae3-b166f8057daf",
   "metadata": {},
   "outputs": [
    {
     "data": {
      "text/plain": [
       "<AxesSubplot:xlabel='Fnlwgt', ylabel='Density'>"
      ]
     },
     "execution_count": 372,
     "metadata": {},
     "output_type": "execute_result"
    },
    {
     "data": {
      "image/png": "[encoded data removed]",
      "text/plain": [
       "<Figure size 432x288 with 1 Axes>"
      ]
     },
     "metadata": {
      "needs_background": "light"
     },
     "output_type": "display_data"
    }
   ],
   "source": [
    "sns.distplot(census['Fnlwgt'])"
   ]
  },
  {
   "cell_type": "markdown",
   "id": "a8c7e3e5-15fd-451b-a13a-a2c2ea8c044d",
   "metadata": {},
   "source": [
    "As per above observation Normal distribution shows that data is skewed."
   ]
  },
  {
   "cell_type": "code",
   "execution_count": 373,
   "id": "bc6bbfd8-c503-4ab3-bdb8-8316f26dccc8",
   "metadata": {},
   "outputs": [
    {
     "data": {
      "text/plain": [
       "<AxesSubplot:xlabel='Education_num', ylabel='Density'>"
      ]
     },
     "execution_count": 373,
     "metadata": {},
     "output_type": "execute_result"
    },
    {
     "data": {
      "image/png": "[encoded data removed]",
      "text/plain": [
       "<Figure size 432x288 with 1 Axes>"
      ]
     },
     "metadata": {
      "needs_background": "light"
     },
     "output_type": "display_data"
    }
   ],
   "source": [
    "sns.distplot(census['Education_num'])"
   ]
  },
  {
   "cell_type": "markdown",
   "id": "4bb5458a-95a9-4a95-bc43-7c929a5c1c67",
   "metadata": {},
   "source": [
    "As per above observation Normal distribution shows that data is skewed."
   ]
  },
  {
   "cell_type": "code",
   "execution_count": 374,
   "id": "593d333f-97a5-4b99-9a5a-c3fa8e709cea",
   "metadata": {},
   "outputs": [
    {
     "data": {
      "text/plain": [
       "<AxesSubplot:xlabel='Capital_gain', ylabel='Density'>"
      ]
     },
     "execution_count": 374,
     "metadata": {},
     "output_type": "execute_result"
    },
    {
     "data": {
      "image/png": "[encoded data removed]",
      "text/plain": [
       "<Figure size 432x288 with 1 Axes>"
      ]
     },
     "metadata": {
      "needs_background": "light"
     },
     "output_type": "display_data"
    }
   ],
   "source": [
    "sns.distplot(census['Capital_gain'])"
   ]
  },
  {
   "cell_type": "code",
   "execution_count": null,
   "id": "608c5d6b-cdea-46ae-bd27-c084753d08f0",
   "metadata": {},
   "outputs": [],
   "source": []
  },
  {
   "cell_type": "code",
   "execution_count": 375,
   "id": "25386e5c-640b-4997-a306-8f6c26519936",
   "metadata": {},
   "outputs": [
    {
     "data": {
      "text/plain": [
       "<AxesSubplot:xlabel='Capital_loss', ylabel='Density'>"
      ]
     },
     "execution_count": 375,
     "metadata": {},
     "output_type": "execute_result"
    },
    {
     "data": {
      "image/png": "[encoded data removed]",
      "text/plain": [
       "<Figure size 432x288 with 1 Axes>"
      ]
     },
     "metadata": {
      "needs_background": "light"
     },
     "output_type": "display_data"
    }
   ],
   "source": [
    "sns.distplot(census['Capital_loss'])"
   ]
  },
  {
   "cell_type": "markdown",
   "id": "447e004e-b4fa-4eed-b8de-3f335536637e",
   "metadata": {},
   "source": [
    "As per above observation Normal distribution shows that data is skewed."
   ]
  },
  {
   "cell_type": "code",
   "execution_count": 376,
   "id": "5af49cbc-0c02-486b-8e20-381527783c3f",
   "metadata": {},
   "outputs": [
    {
     "data": {
      "text/plain": [
       "<AxesSubplot:xlabel='Hours_per_week', ylabel='Density'>"
      ]
     },
     "execution_count": 376,
     "metadata": {},
     "output_type": "execute_result"
    },
    {
     "data": {
      "image/png": "[encoded data removed]",
      "text/plain": [
       "<Figure size 432x288 with 1 Axes>"
      ]
     },
     "metadata": {
      "needs_background": "light"
     },
     "output_type": "display_data"
    }
   ],
   "source": [
    "sns.distplot(census['Hours_per_week'])"
   ]
  },
  {
   "cell_type": "markdown",
   "id": "067e803b-324c-4453-b703-fc3941289bd6",
   "metadata": {},
   "source": [
    "As per above observation Normal distribution shows that data is skewed."
   ]
  },
  {
   "cell_type": "code",
   "execution_count": 377,
   "id": "f2475721-96ee-4d5a-b1ea-b844dc4188f7",
   "metadata": {},
   "outputs": [],
   "source": [
    "# dropping useless column\n",
    "census = census.drop('Education',axis=1)\n",
    "census = census.drop('Fnlwgt',axis=1)"
   ]
  },
  {
   "cell_type": "code",
   "execution_count": 378,
   "id": "acd3cbb4-c063-4498-850d-ca6928eaf1d6",
   "metadata": {},
   "outputs": [
    {
     "data": {
      "text/plain": [
       "Age                int64\n",
       "Workclass         object\n",
       "Education_num      int64\n",
       "Marital_status    object\n",
       "Occupation        object\n",
       "Relationship      object\n",
       "Race              object\n",
       "Sex               object\n",
       "Capital_gain       int64\n",
       "Capital_loss       int64\n",
       "Hours_per_week     int64\n",
       "Native_country    object\n",
       "Income             int32\n",
       "dtype: object"
      ]
     },
     "execution_count": 378,
     "metadata": {},
     "output_type": "execute_result"
    }
   ],
   "source": [
    "census.dtypes"
   ]
  },
  {
   "cell_type": "code",
   "execution_count": null,
   "id": "d64a8b3b-63ef-49c0-aae9-12e40632ddba",
   "metadata": {},
   "outputs": [],
   "source": []
  },
  {
   "cell_type": "code",
   "execution_count": 379,
   "id": "b8a53c23-cf5c-45dd-8756-7c9b8adf9739",
   "metadata": {},
   "outputs": [],
   "source": [
    "for i in census.columns:\n",
    "    if census[i].dtypes=='object':\n",
    "        census[i]=le.fit_transform(census[i])"
   ]
  },
  {
   "cell_type": "code",
   "execution_count": 380,
   "id": "a73a34a0-13e2-41c8-844f-d90652b63e3f",
   "metadata": {},
   "outputs": [
    {
     "data": {
      "text/html": [
       "<div>\n",
       "<style scoped>\n",
       "    .dataframe tbody tr th:only-of-type {\n",
       "        vertical-align: middle;\n",
       "    }\n",
       "\n",
       "    .dataframe tbody tr th {\n",
       "        vertical-align: top;\n",
       "    }\n",
       "\n",
       "    .dataframe thead th {\n",
       "        text-align: right;\n",
       "    }\n",
       "</style>\n",
       "<table border=\"1\" class=\"dataframe\">\n",
       "  <thead>\n",
       "    <tr style=\"text-align: right;\">\n",
       "      <th></th>\n",
       "      <th>Age</th>\n",
       "      <th>Workclass</th>\n",
       "      <th>Education_num</th>\n",
       "      <th>Marital_status</th>\n",
       "      <th>Occupation</th>\n",
       "      <th>Relationship</th>\n",
       "      <th>Race</th>\n",
       "      <th>Sex</th>\n",
       "      <th>Capital_gain</th>\n",
       "      <th>Capital_loss</th>\n",
       "      <th>Hours_per_week</th>\n",
       "      <th>Native_country</th>\n",
       "      <th>Income</th>\n",
       "    </tr>\n",
       "  </thead>\n",
       "  <tbody>\n",
       "    <tr>\n",
       "      <th>0</th>\n",
       "      <td>50</td>\n",
       "      <td>5</td>\n",
       "      <td>13</td>\n",
       "      <td>2</td>\n",
       "      <td>3</td>\n",
       "      <td>0</td>\n",
       "      <td>4</td>\n",
       "      <td>1</td>\n",
       "      <td>0</td>\n",
       "      <td>0</td>\n",
       "      <td>13</td>\n",
       "      <td>38</td>\n",
       "      <td>0</td>\n",
       "    </tr>\n",
       "    <tr>\n",
       "      <th>1</th>\n",
       "      <td>38</td>\n",
       "      <td>3</td>\n",
       "      <td>9</td>\n",
       "      <td>0</td>\n",
       "      <td>5</td>\n",
       "      <td>1</td>\n",
       "      <td>4</td>\n",
       "      <td>1</td>\n",
       "      <td>0</td>\n",
       "      <td>0</td>\n",
       "      <td>40</td>\n",
       "      <td>38</td>\n",
       "      <td>0</td>\n",
       "    </tr>\n",
       "    <tr>\n",
       "      <th>2</th>\n",
       "      <td>53</td>\n",
       "      <td>3</td>\n",
       "      <td>7</td>\n",
       "      <td>2</td>\n",
       "      <td>5</td>\n",
       "      <td>0</td>\n",
       "      <td>2</td>\n",
       "      <td>1</td>\n",
       "      <td>0</td>\n",
       "      <td>0</td>\n",
       "      <td>40</td>\n",
       "      <td>38</td>\n",
       "      <td>0</td>\n",
       "    </tr>\n",
       "    <tr>\n",
       "      <th>3</th>\n",
       "      <td>28</td>\n",
       "      <td>3</td>\n",
       "      <td>13</td>\n",
       "      <td>2</td>\n",
       "      <td>9</td>\n",
       "      <td>5</td>\n",
       "      <td>2</td>\n",
       "      <td>0</td>\n",
       "      <td>0</td>\n",
       "      <td>0</td>\n",
       "      <td>40</td>\n",
       "      <td>4</td>\n",
       "      <td>0</td>\n",
       "    </tr>\n",
       "    <tr>\n",
       "      <th>4</th>\n",
       "      <td>37</td>\n",
       "      <td>3</td>\n",
       "      <td>14</td>\n",
       "      <td>2</td>\n",
       "      <td>3</td>\n",
       "      <td>5</td>\n",
       "      <td>4</td>\n",
       "      <td>0</td>\n",
       "      <td>0</td>\n",
       "      <td>0</td>\n",
       "      <td>40</td>\n",
       "      <td>38</td>\n",
       "      <td>0</td>\n",
       "    </tr>\n",
       "    <tr>\n",
       "      <th>...</th>\n",
       "      <td>...</td>\n",
       "      <td>...</td>\n",
       "      <td>...</td>\n",
       "      <td>...</td>\n",
       "      <td>...</td>\n",
       "      <td>...</td>\n",
       "      <td>...</td>\n",
       "      <td>...</td>\n",
       "      <td>...</td>\n",
       "      <td>...</td>\n",
       "      <td>...</td>\n",
       "      <td>...</td>\n",
       "      <td>...</td>\n",
       "    </tr>\n",
       "    <tr>\n",
       "      <th>32555</th>\n",
       "      <td>27</td>\n",
       "      <td>3</td>\n",
       "      <td>12</td>\n",
       "      <td>2</td>\n",
       "      <td>12</td>\n",
       "      <td>5</td>\n",
       "      <td>4</td>\n",
       "      <td>0</td>\n",
       "      <td>0</td>\n",
       "      <td>0</td>\n",
       "      <td>38</td>\n",
       "      <td>38</td>\n",
       "      <td>0</td>\n",
       "    </tr>\n",
       "    <tr>\n",
       "      <th>32556</th>\n",
       "      <td>40</td>\n",
       "      <td>3</td>\n",
       "      <td>9</td>\n",
       "      <td>2</td>\n",
       "      <td>6</td>\n",
       "      <td>0</td>\n",
       "      <td>4</td>\n",
       "      <td>1</td>\n",
       "      <td>0</td>\n",
       "      <td>0</td>\n",
       "      <td>40</td>\n",
       "      <td>38</td>\n",
       "      <td>1</td>\n",
       "    </tr>\n",
       "    <tr>\n",
       "      <th>32557</th>\n",
       "      <td>58</td>\n",
       "      <td>3</td>\n",
       "      <td>9</td>\n",
       "      <td>6</td>\n",
       "      <td>0</td>\n",
       "      <td>4</td>\n",
       "      <td>4</td>\n",
       "      <td>0</td>\n",
       "      <td>0</td>\n",
       "      <td>0</td>\n",
       "      <td>40</td>\n",
       "      <td>38</td>\n",
       "      <td>0</td>\n",
       "    </tr>\n",
       "    <tr>\n",
       "      <th>32558</th>\n",
       "      <td>22</td>\n",
       "      <td>3</td>\n",
       "      <td>9</td>\n",
       "      <td>4</td>\n",
       "      <td>0</td>\n",
       "      <td>3</td>\n",
       "      <td>4</td>\n",
       "      <td>1</td>\n",
       "      <td>0</td>\n",
       "      <td>0</td>\n",
       "      <td>20</td>\n",
       "      <td>38</td>\n",
       "      <td>0</td>\n",
       "    </tr>\n",
       "    <tr>\n",
       "      <th>32559</th>\n",
       "      <td>52</td>\n",
       "      <td>4</td>\n",
       "      <td>9</td>\n",
       "      <td>2</td>\n",
       "      <td>3</td>\n",
       "      <td>5</td>\n",
       "      <td>4</td>\n",
       "      <td>0</td>\n",
       "      <td>15024</td>\n",
       "      <td>0</td>\n",
       "      <td>40</td>\n",
       "      <td>38</td>\n",
       "      <td>1</td>\n",
       "    </tr>\n",
       "  </tbody>\n",
       "</table>\n",
       "<p>32560 rows × 13 columns</p>\n",
       "</div>"
      ],
      "text/plain": [
       "       Age  Workclass  Education_num  Marital_status  Occupation  \\\n",
       "0       50          5             13               2           3   \n",
       "1       38          3              9               0           5   \n",
       "2       53          3              7               2           5   \n",
       "3       28          3             13               2           9   \n",
       "4       37          3             14               2           3   \n",
       "...    ...        ...            ...             ...         ...   \n",
       "32555   27          3             12               2          12   \n",
       "32556   40          3              9               2           6   \n",
       "32557   58          3              9               6           0   \n",
       "32558   22          3              9               4           0   \n",
       "32559   52          4              9               2           3   \n",
       "\n",
       "       Relationship  Race  Sex  Capital_gain  Capital_loss  Hours_per_week  \\\n",
       "0                 0     4    1             0             0              13   \n",
       "1                 1     4    1             0             0              40   \n",
       "2                 0     2    1             0             0              40   \n",
       "3                 5     2    0             0             0              40   \n",
       "4                 5     4    0             0             0              40   \n",
       "...             ...   ...  ...           ...           ...             ...   \n",
       "32555             5     4    0             0             0              38   \n",
       "32556             0     4    1             0             0              40   \n",
       "32557             4     4    0             0             0              40   \n",
       "32558             3     4    1             0             0              20   \n",
       "32559             5     4    0         15024             0              40   \n",
       "\n",
       "       Native_country  Income  \n",
       "0                  38       0  \n",
       "1                  38       0  \n",
       "2                  38       0  \n",
       "3                   4       0  \n",
       "4                  38       0  \n",
       "...               ...     ...  \n",
       "32555              38       0  \n",
       "32556              38       1  \n",
       "32557              38       0  \n",
       "32558              38       0  \n",
       "32559              38       1  \n",
       "\n",
       "[32560 rows x 13 columns]"
      ]
     },
     "execution_count": 380,
     "metadata": {},
     "output_type": "execute_result"
    }
   ],
   "source": [
    "census"
   ]
  },
  {
   "cell_type": "markdown",
   "id": "6c8e04a1-38ff-42fb-856e-373a888007c6",
   "metadata": {},
   "source": [
    "# Outlier removal"
   ]
  },
  {
   "cell_type": "code",
   "execution_count": 381,
   "id": "726547ca-f70b-4878-9f16-493ccef047c1",
   "metadata": {},
   "outputs": [
    {
     "data": {
      "text/plain": [
       "(32560, 13)"
      ]
     },
     "execution_count": 381,
     "metadata": {},
     "output_type": "execute_result"
    }
   ],
   "source": [
    "from scipy.stats import zscore\n",
    "z = np.abs(zscore(census))\n",
    "z.shape"
   ]
  },
  {
   "cell_type": "code",
   "execution_count": 382,
   "id": "1f2b109c-4258-437a-909a-7f24bff590d1",
   "metadata": {},
   "outputs": [
    {
     "name": "stdout",
     "output_type": "stream",
     "text": [
      "(array([    3,     9,    10, ..., 32532, 32550, 32552], dtype=int64), array([11, 10,  6, ...,  6,  6,  6], dtype=int64))\n"
     ]
    }
   ],
   "source": [
    "print(np.where(z>3))"
   ]
  },
  {
   "cell_type": "code",
   "execution_count": 383,
   "id": "3ccb15e7-867a-497c-b2e4-683272ae4dfc",
   "metadata": {},
   "outputs": [
    {
     "name": "stdout",
     "output_type": "stream",
     "text": [
      "(32560, 13)\n",
      "(28094, 13)\n"
     ]
    }
   ],
   "source": [
    "census_new = census[(z<3).all(axis=1)]\n",
    "print(census.shape)\n",
    "print(census_new.shape)"
   ]
  },
  {
   "cell_type": "markdown",
   "id": "f75e64b8-5ab9-4a6b-b79e-c5c66a5e4f6d",
   "metadata": {},
   "source": [
    "# Percentage of data loss"
   ]
  },
  {
   "cell_type": "code",
   "execution_count": 384,
   "id": "2e72cc35-93d3-4d18-b7e0-afb54fd8a22f",
   "metadata": {},
   "outputs": [
    {
     "name": "stdout",
     "output_type": "stream",
     "text": [
      "14.67137592137592\n"
     ]
    }
   ],
   "source": [
    "loss = (32560-27783)/32560*100\n",
    "print(loss)"
   ]
  },
  {
   "cell_type": "markdown",
   "id": "0f73d79d-9fca-46cf-adf1-e10bdb9eb65b",
   "metadata": {},
   "source": [
    "As per above observation i am loosing almost 15% of my total data hence i am not removing outlier"
   ]
  },
  {
   "cell_type": "markdown",
   "id": "11133344-e6c7-4ee4-a410-26b5c5e18a05",
   "metadata": {},
   "source": [
    "# Dividing dataset into features and vector"
   ]
  },
  {
   "cell_type": "code",
   "execution_count": 385,
   "id": "7cbce2a6-0914-4922-90c4-24ccba8bdc9a",
   "metadata": {},
   "outputs": [],
   "source": [
    "x = census.drop('Income',axis=1)"
   ]
  },
  {
   "cell_type": "code",
   "execution_count": 386,
   "id": "546622f4-e1a7-49c8-ad17-29a34740b6e3",
   "metadata": {
    "tags": []
   },
   "outputs": [],
   "source": [
    "y = census['Income']"
   ]
  },
  {
   "cell_type": "markdown",
   "id": "41daacc1-e56d-4120-97fa-4a597a2ddbee",
   "metadata": {},
   "source": [
    "# Treating imbalance dataset"
   ]
  },
  {
   "cell_type": "code",
   "execution_count": 387,
   "id": "64b7e17a-0fa1-48b8-a789-081f26420ae0",
   "metadata": {},
   "outputs": [
    {
     "data": {
      "text/plain": [
       "0    24719\n",
       "1     7841\n",
       "Name: Income, dtype: int64"
      ]
     },
     "execution_count": 387,
     "metadata": {},
     "output_type": "execute_result"
    }
   ],
   "source": [
    "census['Income'].value_counts()"
   ]
  },
  {
   "cell_type": "code",
   "execution_count": 388,
   "id": "82db3c51-d682-44bd-bd50-1334d2951b77",
   "metadata": {},
   "outputs": [],
   "source": [
    "from imblearn.over_sampling import SMOTE\n",
    "smt = SMOTE()"
   ]
  },
  {
   "cell_type": "code",
   "execution_count": 389,
   "id": "1e97b600-ec56-4e77-b641-5356d577102b",
   "metadata": {},
   "outputs": [],
   "source": [
    "smtx,smty = smt.fit_resample(x,y)"
   ]
  },
  {
   "cell_type": "code",
   "execution_count": 390,
   "id": "62af4d20-48fd-45b0-9ddb-6634dd2c5c9e",
   "metadata": {},
   "outputs": [
    {
     "data": {
      "text/plain": [
       "0    24719\n",
       "1    24719\n",
       "Name: Income, dtype: int64"
      ]
     },
     "execution_count": 390,
     "metadata": {},
     "output_type": "execute_result"
    }
   ],
   "source": [
    "smty.value_counts()"
   ]
  },
  {
   "cell_type": "markdown",
   "id": "670ef199-9a79-42cc-b8d5-03a682f5ce95",
   "metadata": {},
   "source": [
    "# Trying to get best Random_state"
   ]
  },
  {
   "cell_type": "code",
   "execution_count": 391,
   "id": "70446c6f-a2c0-4c7b-9f59-def2b29de966",
   "metadata": {},
   "outputs": [
    {
     "name": "stdout",
     "output_type": "stream",
     "text": [
      "Best accuracy_score 0.7691140776699029 on best random_state 173\n"
     ]
    }
   ],
   "source": [
    "from sklearn.linear_model import LogisticRegression\n",
    "from sklearn.preprocessing import StandardScaler\n",
    "from sklearn.metrics import accuracy_score,classification_report\n",
    "from sklearn.model_selection import train_test_split\n",
    "\n",
    "maxAcc=0\n",
    "maxRS=0\n",
    "\n",
    "for i in range(1,200):\n",
    "    x_train,x_test,y_train,y_test = train_test_split(smtx,smty,test_size=0.2,random_state=i)\n",
    "    mod = LogisticRegression()\n",
    "    mod.fit(x_train,y_train)\n",
    "    pred = mod.predict(x_test)\n",
    "    acc= accuracy_score(pred,y_test)\n",
    "    if acc>maxAcc:\n",
    "        maxAcc=acc\n",
    "        maxRS=i\n",
    "print(\"Best accuracy_score\",maxAcc,\"on best random_state\",maxRS)        "
   ]
  },
  {
   "cell_type": "code",
   "execution_count": 415,
   "id": "69765f22-a75c-43ca-b286-a61e04bd9d3c",
   "metadata": {},
   "outputs": [],
   "source": [
    "X_train,X_test,Y_train,Y_test = train_test_split(x,y,test_size=0.2,random_state=173)"
   ]
  },
  {
   "cell_type": "code",
   "execution_count": 416,
   "id": "9d5a2227-4638-427c-8678-63cb5aa67030",
   "metadata": {},
   "outputs": [],
   "source": [
    "sc = StandardScaler()"
   ]
  },
  {
   "cell_type": "code",
   "execution_count": 420,
   "id": "aa592180-e9d3-438c-b822-605c836b63bf",
   "metadata": {},
   "outputs": [],
   "source": [
    "x_train = sc.fit_transform(x_train)"
   ]
  },
  {
   "cell_type": "code",
   "execution_count": 421,
   "id": "c0961b7f-77d4-4743-9573-e9fda8b451a2",
   "metadata": {},
   "outputs": [],
   "source": [
    "x_test = sc.transform(x_test)"
   ]
  },
  {
   "cell_type": "code",
   "execution_count": null,
   "id": "20e0943f-d06c-4d0b-8087-41d9621c770f",
   "metadata": {},
   "outputs": [],
   "source": []
  },
  {
   "cell_type": "code",
   "execution_count": 422,
   "id": "a5da7688-73f7-42eb-a917-5eb91137ec3b",
   "metadata": {},
   "outputs": [
    {
     "name": "stdout",
     "output_type": "stream",
     "text": [
      "              precision    recall  f1-score   support\n",
      "\n",
      "           0       0.77      0.78      0.78      4919\n",
      "           1       0.78      0.77      0.78      4969\n",
      "\n",
      "    accuracy                           0.78      9888\n",
      "   macro avg       0.78      0.78      0.78      9888\n",
      "weighted avg       0.78      0.78      0.78      9888\n",
      "\n"
     ]
    }
   ],
   "source": [
    "lr = LogisticRegression()\n",
    "lr.fit(x_train,y_train)\n",
    "lr_pd = lr.predict(x_test)\n",
    "print(classification_report(lr_pd,y_test))"
   ]
  },
  {
   "cell_type": "code",
   "execution_count": 423,
   "id": "27f9a233-9e0e-49fb-a9c0-b68112d87803",
   "metadata": {},
   "outputs": [
    {
     "name": "stdout",
     "output_type": "stream",
     "text": [
      "              precision    recall  f1-score   support\n",
      "\n",
      "           0       0.85      0.88      0.86      4804\n",
      "           1       0.88      0.85      0.86      5084\n",
      "\n",
      "    accuracy                           0.86      9888\n",
      "   macro avg       0.86      0.86      0.86      9888\n",
      "weighted avg       0.86      0.86      0.86      9888\n",
      "\n"
     ]
    }
   ],
   "source": [
    "from sklearn.tree import DecisionTreeClassifier\n",
    "dt = DecisionTreeClassifier()\n",
    "dt.fit(x_train,y_train)\n",
    "dt_pd = dt.predict(x_test)\n",
    "print(classification_report(dt_pd,y_test))"
   ]
  },
  {
   "cell_type": "code",
   "execution_count": 424,
   "id": "4f1ccd02-922f-469b-8acf-c93bdf66c52f",
   "metadata": {},
   "outputs": [
    {
     "name": "stdout",
     "output_type": "stream",
     "text": [
      "              precision    recall  f1-score   support\n",
      "\n",
      "           0       0.87      0.91      0.89      4743\n",
      "           1       0.91      0.87      0.89      5145\n",
      "\n",
      "    accuracy                           0.89      9888\n",
      "   macro avg       0.89      0.89      0.89      9888\n",
      "weighted avg       0.89      0.89      0.89      9888\n",
      "\n"
     ]
    }
   ],
   "source": [
    "from sklearn.ensemble import RandomForestClassifier\n",
    "rf = RandomForestClassifier()\n",
    "rf.fit(x_train,y_train)\n",
    "rf_pd = rf.predict(x_test)\n",
    "print(classification_report(rf_pd,y_test))"
   ]
  },
  {
   "cell_type": "code",
   "execution_count": 425,
   "id": "54c0ccab-fe42-46d9-944a-21824b92db76",
   "metadata": {},
   "outputs": [
    {
     "name": "stdout",
     "output_type": "stream",
     "text": [
      "              precision    recall  f1-score   support\n",
      "\n",
      "           0       0.78      0.88      0.83      4374\n",
      "           1       0.90      0.80      0.84      5514\n",
      "\n",
      "    accuracy                           0.84      9888\n",
      "   macro avg       0.84      0.84      0.84      9888\n",
      "weighted avg       0.84      0.84      0.84      9888\n",
      "\n"
     ]
    }
   ],
   "source": [
    "from sklearn.svm import SVC\n",
    "svm = SVC()\n",
    "svm.fit(x_train,y_train)\n",
    "svm_pd = svm.predict(x_test)\n",
    "print(classification_report(svm_pd,y_test))"
   ]
  },
  {
   "cell_type": "markdown",
   "id": "947e3b10-9cae-46ad-bcc1-3ffbcea772ba",
   "metadata": {},
   "source": [
    "# Cross Validation"
   ]
  },
  {
   "cell_type": "code",
   "execution_count": 426,
   "id": "097f217b-0e26-459e-8c68-6df45b58b818",
   "metadata": {},
   "outputs": [],
   "source": [
    "from sklearn.model_selection import cross_val_score"
   ]
  },
  {
   "cell_type": "code",
   "execution_count": 427,
   "id": "b6549827-e38a-4183-81e8-33ecf849d520",
   "metadata": {},
   "outputs": [
    {
     "name": "stdout",
     "output_type": "stream",
     "text": [
      "0.8071867321867321\n"
     ]
    }
   ],
   "source": [
    "print(cross_val_score(lr,x,y,cv=5).mean())"
   ]
  },
  {
   "cell_type": "code",
   "execution_count": 428,
   "id": "d6b24084-5f62-44c3-a752-a2c97be5784a",
   "metadata": {},
   "outputs": [
    {
     "name": "stdout",
     "output_type": "stream",
     "text": [
      "0.8131142506142506\n"
     ]
    }
   ],
   "source": [
    "print(cross_val_score(dt,x,y,cv=5).mean())"
   ]
  },
  {
   "cell_type": "code",
   "execution_count": 429,
   "id": "f06d7cf1-b892-498d-9c42-2eaaf868e6ac",
   "metadata": {},
   "outputs": [
    {
     "name": "stdout",
     "output_type": "stream",
     "text": [
      "0.8515970515970516\n"
     ]
    }
   ],
   "source": [
    "print(cross_val_score(rf,x,y,cv=5).mean())"
   ]
  },
  {
   "cell_type": "code",
   "execution_count": 430,
   "id": "a916f786-8439-4b96-bb7e-c561e60d7ff8",
   "metadata": {},
   "outputs": [
    {
     "name": "stdout",
     "output_type": "stream",
     "text": [
      "0.8023341523341523\n"
     ]
    }
   ],
   "source": [
    "print(cross_val_score(svm,x,y,cv=5).mean())"
   ]
  },
  {
   "cell_type": "markdown",
   "id": "c5f90420-c567-42b2-9861-9387045f27f3",
   "metadata": {},
   "source": [
    "As per above observation Logistic Regression is doing good because the difference between accuracy score and cross val score is lesser in comparison to other model hence we will go with Logistic Regression"
   ]
  },
  {
   "cell_type": "markdown",
   "id": "dfc1c8f3-64c5-4e5e-a1ae-587f8331effe",
   "metadata": {},
   "source": [
    "# Hyperparameter Tunning"
   ]
  },
  {
   "cell_type": "code",
   "execution_count": 431,
   "id": "cc5b85d8-3661-4288-b26f-9ce2cf955b14",
   "metadata": {},
   "outputs": [],
   "source": [
    "from sklearn.model_selection import GridSearchCV"
   ]
  },
  {
   "cell_type": "code",
   "execution_count": 436,
   "id": "bb68656e-1c44-41d5-a71f-3613c2fb054b",
   "metadata": {},
   "outputs": [],
   "source": [
    "parameter = {'penalty':['l1','l2','elasticnet','none'],\n",
    "             'random_state':[173],\n",
    "             'solver':['newton-cg','lbfgs','liblinear','sag','saga'],\n",
    "             'max_iter':[5000],\n",
    "             'multi_class':['auto','ovr','multinomial']}"
   ]
  },
  {
   "cell_type": "code",
   "execution_count": 437,
   "id": "3ca4c173-5b99-44e0-9537-1fa503ad37a4",
   "metadata": {},
   "outputs": [],
   "source": [
    "gsc = GridSearchCV(estimator=lr,param_grid=parameter,cv=5)"
   ]
  },
  {
   "cell_type": "code",
   "execution_count": 438,
   "id": "a75ba265-4279-47bf-8994-dcab1c426fd2",
   "metadata": {},
   "outputs": [
    {
     "data": {
      "text/plain": [
       "GridSearchCV(cv=5, estimator=LogisticRegression(),\n",
       "             param_grid={'max_iter': [5000],\n",
       "                         'multi_class': ['auto', 'ovr', 'multinomial'],\n",
       "                         'penalty': ['l1', 'l2', 'elasticnet', 'none'],\n",
       "                         'random_state': [173],\n",
       "                         'solver': ['newton-cg', 'lbfgs', 'liblinear', 'sag',\n",
       "                                    'saga']})"
      ]
     },
     "execution_count": 438,
     "metadata": {},
     "output_type": "execute_result"
    }
   ],
   "source": [
    "gsc.fit(x_train,y_train)"
   ]
  },
  {
   "cell_type": "code",
   "execution_count": 439,
   "id": "ff440a74-d35f-44f2-85dc-d46d1fb91e8d",
   "metadata": {},
   "outputs": [
    {
     "data": {
      "text/plain": [
       "{'max_iter': 5000,\n",
       " 'multi_class': 'multinomial',\n",
       " 'penalty': 'l2',\n",
       " 'random_state': 173,\n",
       " 'solver': 'newton-cg'}"
      ]
     },
     "execution_count": 439,
     "metadata": {},
     "output_type": "execute_result"
    }
   ],
   "source": [
    "gsc.best_params_"
   ]
  },
  {
   "cell_type": "markdown",
   "id": "01659270-74fe-44a5-9d98-0f84d8859060",
   "metadata": {},
   "source": [
    "# Final Model"
   ]
  },
  {
   "cell_type": "code",
   "execution_count": 440,
   "id": "4a3debc9-836d-4505-8d89-552b90336674",
   "metadata": {},
   "outputs": [
    {
     "name": "stdout",
     "output_type": "stream",
     "text": [
      "              precision    recall  f1-score   support\n",
      "\n",
      "           0       0.77      0.78      0.78      4919\n",
      "           1       0.78      0.77      0.78      4969\n",
      "\n",
      "    accuracy                           0.78      9888\n",
      "   macro avg       0.78      0.78      0.78      9888\n",
      "weighted avg       0.78      0.78      0.78      9888\n",
      "\n"
     ]
    }
   ],
   "source": [
    "final_model = LogisticRegression(max_iter=5000,multi_class='multinomial',penalty='l2',random_state=173,solver='newton-cg')\n",
    "final_model.fit(x_train,y_train)\n",
    "prd = final_model.predict(x_test)\n",
    "print(classification_report(prd,y_test))"
   ]
  },
  {
   "cell_type": "markdown",
   "id": "d60023be-bdfe-442c-b0a6-0686a3019ea8",
   "metadata": {},
   "source": [
    "# AUC_ROC curve"
   ]
  },
  {
   "cell_type": "code",
   "execution_count": 444,
   "id": "f2629a7a-382d-4350-9fa1-c02d9b629c5c",
   "metadata": {},
   "outputs": [
    {
     "data": {
      "image/png": "[encoded data removed]",
      "text/plain": [
       "<Figure size 432x288 with 1 Axes>"
      ]
     },
     "metadata": {
      "needs_background": "light"
     },
     "output_type": "display_data"
    }
   ],
   "source": [
    "from sklearn.metrics import roc_curve,auc\n",
    "fpr,tpr,thresholds=roc_curve(prd,y_test)\n",
    "roc_auc = auc(fpr,tpr)\n",
    "\n",
    "plt.figure()\n",
    "plt.plot(fpr,tpr,color='darkorange',lw=10,label='Roc_curve(area%0.2f)'%roc_auc)\n",
    "plt.plot([0,1],[0,1],color='navy',lw=10,linestyle='--')\n",
    "plt.xlim([0.0,1.0])\n",
    "plt.ylim([0.0,1.05])\n",
    "plt.xlabel('False Positive Rate')\n",
    "plt.ylabel('True Positive Rate')\n",
    "plt.title('ROC')\n",
    "plt.legend(loc='lower right')\n",
    "plt.show()"
   ]
  },
  {
   "cell_type": "markdown",
   "id": "4da30f31-d5c3-439b-9875-7320839b2c67",
   "metadata": {},
   "source": [
    "As per above observation Total area under curve = 78%"
   ]
  },
  {
   "cell_type": "markdown",
   "id": "58e0ede6-7274-4098-83fd-9babbbcaf621",
   "metadata": {},
   "source": [
    "# Conclusion"
   ]
  },
  {
   "cell_type": "code",
   "execution_count": 442,
   "id": "398d1dee-2b49-49ec-a77d-2945c460c875",
   "metadata": {},
   "outputs": [
    {
     "data": {
      "text/html": [
       "<div>\n",
       "<style scoped>\n",
       "    .dataframe tbody tr th:only-of-type {\n",
       "        vertical-align: middle;\n",
       "    }\n",
       "\n",
       "    .dataframe tbody tr th {\n",
       "        vertical-align: top;\n",
       "    }\n",
       "\n",
       "    .dataframe thead th {\n",
       "        text-align: right;\n",
       "    }\n",
       "</style>\n",
       "<table border=\"1\" class=\"dataframe\">\n",
       "  <thead>\n",
       "    <tr style=\"text-align: right;\">\n",
       "      <th></th>\n",
       "      <th>Original</th>\n",
       "      <th>Predicted</th>\n",
       "    </tr>\n",
       "  </thead>\n",
       "  <tbody>\n",
       "    <tr>\n",
       "      <th>0</th>\n",
       "      <td>1</td>\n",
       "      <td>0</td>\n",
       "    </tr>\n",
       "    <tr>\n",
       "      <th>1</th>\n",
       "      <td>0</td>\n",
       "      <td>0</td>\n",
       "    </tr>\n",
       "    <tr>\n",
       "      <th>2</th>\n",
       "      <td>1</td>\n",
       "      <td>1</td>\n",
       "    </tr>\n",
       "    <tr>\n",
       "      <th>3</th>\n",
       "      <td>0</td>\n",
       "      <td>0</td>\n",
       "    </tr>\n",
       "    <tr>\n",
       "      <th>4</th>\n",
       "      <td>1</td>\n",
       "      <td>1</td>\n",
       "    </tr>\n",
       "    <tr>\n",
       "      <th>...</th>\n",
       "      <td>...</td>\n",
       "      <td>...</td>\n",
       "    </tr>\n",
       "    <tr>\n",
       "      <th>9883</th>\n",
       "      <td>0</td>\n",
       "      <td>0</td>\n",
       "    </tr>\n",
       "    <tr>\n",
       "      <th>9884</th>\n",
       "      <td>1</td>\n",
       "      <td>0</td>\n",
       "    </tr>\n",
       "    <tr>\n",
       "      <th>9885</th>\n",
       "      <td>0</td>\n",
       "      <td>1</td>\n",
       "    </tr>\n",
       "    <tr>\n",
       "      <th>9886</th>\n",
       "      <td>1</td>\n",
       "      <td>0</td>\n",
       "    </tr>\n",
       "    <tr>\n",
       "      <th>9887</th>\n",
       "      <td>0</td>\n",
       "      <td>0</td>\n",
       "    </tr>\n",
       "  </tbody>\n",
       "</table>\n",
       "<p>9888 rows × 2 columns</p>\n",
       "</div>"
      ],
      "text/plain": [
       "      Original  Predicted\n",
       "0            1          0\n",
       "1            0          0\n",
       "2            1          1\n",
       "3            0          0\n",
       "4            1          1\n",
       "...        ...        ...\n",
       "9883         0          0\n",
       "9884         1          0\n",
       "9885         0          1\n",
       "9886         1          0\n",
       "9887         0          0\n",
       "\n",
       "[9888 rows x 2 columns]"
      ]
     },
     "execution_count": 442,
     "metadata": {},
     "output_type": "execute_result"
    }
   ],
   "source": [
    "a = np.array(y_test)\n",
    "predicted = np.array(lr.predict(x_test))\n",
    "comparison = pd.DataFrame({'Original':a,'Predicted':predicted},index=range(len(a)))\n",
    "comparison"
   ]
  },
  {
   "cell_type": "markdown",
   "id": "46a04dec-c301-44a3-9531-768501f2673a",
   "metadata": {},
   "source": [
    "# Save Model"
   ]
  },
  {
   "cell_type": "code",
   "execution_count": 443,
   "id": "2f35e12c-b1be-4f17-b08f-42135e9c1bed",
   "metadata": {},
   "outputs": [
    {
     "data": {
      "text/plain": [
       "['Census_final_model']"
      ]
     },
     "execution_count": 443,
     "metadata": {},
     "output_type": "execute_result"
    }
   ],
   "source": [
    "import joblib\n",
    "joblib.dump(final_model,\"Census_final_model\")"
   ]
  },
  {
   "cell_type": "code",
   "execution_count": null,
   "id": "f8aabafd-0650-4aad-b3d0-3a4cafff7f5c",
   "metadata": {},
   "outputs": [],
   "source": []
  }
 ],
 "metadata": {
  "kernelspec": {
   "display_name": "Python 3",
   "language": "python",
   "name": "python3"
  },
  "language_info": {
   "codemirror_mode": {
    "name": "ipython",
    "version": 3
   },
   "file_extension": ".py",
   "mimetype": "text/x-python",
   "name": "python",
   "nbconvert_exporter": "python",
   "pygments_lexer": "ipython3",
   "version": "3.8.8"
  }
 },
 "nbformat": 4,
 "nbformat_minor": 5
}
