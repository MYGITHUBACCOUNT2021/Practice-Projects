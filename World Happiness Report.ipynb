{
 "cells": [
  {
   "cell_type": "code",
   "execution_count": 1,
   "metadata": {},
   "outputs": [],
   "source": [
    "# importing required liabraries\n",
    "import pandas as pd\n",
    "import numpy as np\n",
    "import matplotlib.pyplot as plt\n",
    "%matplotlib inline\n",
    "import seaborn as sns"
   ]
  },
  {
   "cell_type": "code",
   "execution_count": 2,
   "metadata": {},
   "outputs": [],
   "source": [
    "# loading dataset\n",
    "data = pd.read_csv(\"happiness_score_dataset.csv\")"
   ]
  },
  {
   "cell_type": "code",
   "execution_count": 3,
   "metadata": {},
   "outputs": [
    {
     "data": {
      "text/plain": [
       "(158, 12)"
      ]
     },
     "execution_count": 3,
     "metadata": {},
     "output_type": "execute_result"
    }
   ],
   "source": [
    "data.shape"
   ]
  },
  {
   "cell_type": "code",
   "execution_count": 4,
   "metadata": {},
   "outputs": [
    {
     "data": {
      "text/plain": [
       "Country                          0\n",
       "Region                           0\n",
       "Happiness Rank                   0\n",
       "Happiness Score                  0\n",
       "Standard Error                   0\n",
       "Economy (GDP per Capita)         0\n",
       "Family                           0\n",
       "Health (Life Expectancy)         0\n",
       "Freedom                          0\n",
       "Trust (Government Corruption)    0\n",
       "Generosity                       0\n",
       "Dystopia Residual                0\n",
       "dtype: int64"
      ]
     },
     "execution_count": 4,
     "metadata": {},
     "output_type": "execute_result"
    }
   ],
   "source": [
    "# using isnull fuction to chk whether there is any missing value or not\n",
    "data.isnull().sum()"
   ]
  },
  {
   "cell_type": "code",
   "execution_count": 5,
   "metadata": {},
   "outputs": [
    {
     "data": {
      "text/plain": [
       "Country                           object\n",
       "Region                            object\n",
       "Happiness Rank                     int64\n",
       "Happiness Score                  float64\n",
       "Standard Error                   float64\n",
       "Economy (GDP per Capita)         float64\n",
       "Family                           float64\n",
       "Health (Life Expectancy)         float64\n",
       "Freedom                          float64\n",
       "Trust (Government Corruption)    float64\n",
       "Generosity                       float64\n",
       "Dystopia Residual                float64\n",
       "dtype: object"
      ]
     },
     "execution_count": 5,
     "metadata": {},
     "output_type": "execute_result"
    }
   ],
   "source": [
    "# need to chk data dtype \n",
    "data.dtypes"
   ]
  },
  {
   "cell_type": "code",
   "execution_count": 6,
   "metadata": {},
   "outputs": [
    {
     "data": {
      "text/html": [
       "<div>\n",
       "<style scoped>\n",
       "    .dataframe tbody tr th:only-of-type {\n",
       "        vertical-align: middle;\n",
       "    }\n",
       "\n",
       "    .dataframe tbody tr th {\n",
       "        vertical-align: top;\n",
       "    }\n",
       "\n",
       "    .dataframe thead th {\n",
       "        text-align: right;\n",
       "    }\n",
       "</style>\n",
       "<table border=\"1\" class=\"dataframe\">\n",
       "  <thead>\n",
       "    <tr style=\"text-align: right;\">\n",
       "      <th></th>\n",
       "      <th>Happiness Score</th>\n",
       "      <th>Standard Error</th>\n",
       "      <th>Economy (GDP per Capita)</th>\n",
       "      <th>Family</th>\n",
       "      <th>Health (Life Expectancy)</th>\n",
       "      <th>Freedom</th>\n",
       "      <th>Trust (Government Corruption)</th>\n",
       "      <th>Generosity</th>\n",
       "      <th>Dystopia Residual</th>\n",
       "    </tr>\n",
       "  </thead>\n",
       "  <tbody>\n",
       "    <tr>\n",
       "      <th>0</th>\n",
       "      <td>7.587</td>\n",
       "      <td>0.03411</td>\n",
       "      <td>1.39651</td>\n",
       "      <td>1.34951</td>\n",
       "      <td>0.94143</td>\n",
       "      <td>0.66557</td>\n",
       "      <td>0.41978</td>\n",
       "      <td>0.29678</td>\n",
       "      <td>2.51738</td>\n",
       "    </tr>\n",
       "    <tr>\n",
       "      <th>1</th>\n",
       "      <td>7.561</td>\n",
       "      <td>0.04884</td>\n",
       "      <td>1.30232</td>\n",
       "      <td>1.40223</td>\n",
       "      <td>0.94784</td>\n",
       "      <td>0.62877</td>\n",
       "      <td>0.14145</td>\n",
       "      <td>0.43630</td>\n",
       "      <td>2.70201</td>\n",
       "    </tr>\n",
       "    <tr>\n",
       "      <th>2</th>\n",
       "      <td>7.527</td>\n",
       "      <td>0.03328</td>\n",
       "      <td>1.32548</td>\n",
       "      <td>1.36058</td>\n",
       "      <td>0.87464</td>\n",
       "      <td>0.64938</td>\n",
       "      <td>0.48357</td>\n",
       "      <td>0.34139</td>\n",
       "      <td>2.49204</td>\n",
       "    </tr>\n",
       "    <tr>\n",
       "      <th>3</th>\n",
       "      <td>7.522</td>\n",
       "      <td>0.03880</td>\n",
       "      <td>1.45900</td>\n",
       "      <td>1.33095</td>\n",
       "      <td>0.88521</td>\n",
       "      <td>0.66973</td>\n",
       "      <td>0.36503</td>\n",
       "      <td>0.34699</td>\n",
       "      <td>2.46531</td>\n",
       "    </tr>\n",
       "    <tr>\n",
       "      <th>4</th>\n",
       "      <td>7.427</td>\n",
       "      <td>0.03553</td>\n",
       "      <td>1.32629</td>\n",
       "      <td>1.32261</td>\n",
       "      <td>0.90563</td>\n",
       "      <td>0.63297</td>\n",
       "      <td>0.32957</td>\n",
       "      <td>0.45811</td>\n",
       "      <td>2.45176</td>\n",
       "    </tr>\n",
       "  </tbody>\n",
       "</table>\n",
       "</div>"
      ],
      "text/plain": [
       "   Happiness Score  Standard Error  Economy (GDP per Capita)   Family  \\\n",
       "0            7.587         0.03411                   1.39651  1.34951   \n",
       "1            7.561         0.04884                   1.30232  1.40223   \n",
       "2            7.527         0.03328                   1.32548  1.36058   \n",
       "3            7.522         0.03880                   1.45900  1.33095   \n",
       "4            7.427         0.03553                   1.32629  1.32261   \n",
       "\n",
       "   Health (Life Expectancy)  Freedom  Trust (Government Corruption)  \\\n",
       "0                   0.94143  0.66557                        0.41978   \n",
       "1                   0.94784  0.62877                        0.14145   \n",
       "2                   0.87464  0.64938                        0.48357   \n",
       "3                   0.88521  0.66973                        0.36503   \n",
       "4                   0.90563  0.63297                        0.32957   \n",
       "\n",
       "   Generosity  Dystopia Residual  \n",
       "0     0.29678            2.51738  \n",
       "1     0.43630            2.70201  \n",
       "2     0.34139            2.49204  \n",
       "3     0.34699            2.46531  \n",
       "4     0.45811            2.45176  "
      ]
     },
     "execution_count": 6,
     "metadata": {},
     "output_type": "execute_result"
    }
   ],
   "source": [
    "# dropping  Country Region and Happiness Rank as it is not giving any useful information\n",
    "# I have Happiness Score that is working as a Rank eg. Happiness Score is 7.587 then rank 1 and  Happiness Score is 2.839 then rank 158\n",
    "\n",
    "data = data.drop(['Country','Region','Happiness Rank'],axis=1)\n",
    "data.head() # using head function to extract top 5 rows."
   ]
  },
  {
   "cell_type": "code",
   "execution_count": 7,
   "metadata": {},
   "outputs": [
    {
     "data": {
      "text/plain": [
       "Happiness Score                  float64\n",
       "Standard Error                   float64\n",
       "Economy (GDP per Capita)         float64\n",
       "Family                           float64\n",
       "Health (Life Expectancy)         float64\n",
       "Freedom                          float64\n",
       "Trust (Government Corruption)    float64\n",
       "Generosity                       float64\n",
       "Dystopia Residual                float64\n",
       "dtype: object"
      ]
     },
     "execution_count": 7,
     "metadata": {},
     "output_type": "execute_result"
    }
   ],
   "source": [
    "# chking data type again\n",
    "data.dtypes"
   ]
  },
  {
   "cell_type": "code",
   "execution_count": 8,
   "metadata": {},
   "outputs": [
    {
     "data": {
      "text/plain": [
       "<AxesSubplot:xlabel='Happiness Score'>"
      ]
     },
     "execution_count": 8,
     "metadata": {},
     "output_type": "execute_result"
    },
    {
     "data": {
      "image/png": "[encoded data removed]",
      "text/plain": [
       "<Figure size 432x288 with 1 Axes>"
      ]
     },
     "metadata": {
      "needs_background": "light"
     },
     "output_type": "display_data"
    }
   ],
   "source": [
    "# to chk whether data is normally distributed or not\n",
    "sns.distplot(data['Happiness Score'])"
   ]
  },
  {
   "cell_type": "code",
   "execution_count": 9,
   "metadata": {},
   "outputs": [
    {
     "data": {
      "text/plain": [
       "count    158.000000\n",
       "mean       5.375734\n",
       "std        1.145010\n",
       "min        2.839000\n",
       "25%        4.526000\n",
       "50%        5.232500\n",
       "75%        6.243750\n",
       "max        7.587000\n",
       "Name: Happiness Score, dtype: float64"
      ]
     },
     "execution_count": 9,
     "metadata": {},
     "output_type": "execute_result"
    }
   ],
   "source": [
    "# Through graph it was bit confusing to uderstand hence i used describe function to chk whether data is normally distributed or not\n",
    "data['Happiness Score'].describe()"
   ]
  },
  {
   "cell_type": "markdown",
   "metadata": {},
   "source": [
    "i can see that data is normally distributed."
   ]
  },
  {
   "cell_type": "code",
   "execution_count": 10,
   "metadata": {},
   "outputs": [
    {
     "data": {
      "text/plain": [
       "<AxesSubplot:xlabel='Happiness Score'>"
      ]
     },
     "execution_count": 10,
     "metadata": {},
     "output_type": "execute_result"
    },
    {
     "data": {
      "image/png": "[encoded data removed]",
      "text/plain": [
       "<Figure size 432x288 with 1 Axes>"
      ]
     },
     "metadata": {
      "needs_background": "light"
     },
     "output_type": "display_data"
    }
   ],
   "source": [
    "# to check whether there is any outlier or not\n",
    "sns.boxplot(data['Happiness Score'])"
   ]
  },
  {
   "cell_type": "markdown",
   "metadata": {},
   "source": [
    "As i can see there is no outlier "
   ]
  },
  {
   "cell_type": "code",
   "execution_count": 11,
   "metadata": {},
   "outputs": [],
   "source": [
    "# need to chk how variables are correlated with each other\n",
    "corr = data.corr()"
   ]
  },
  {
   "cell_type": "code",
   "execution_count": 12,
   "metadata": {},
   "outputs": [
    {
     "data": {
      "text/html": [
       "<div>\n",
       "<style scoped>\n",
       "    .dataframe tbody tr th:only-of-type {\n",
       "        vertical-align: middle;\n",
       "    }\n",
       "\n",
       "    .dataframe tbody tr th {\n",
       "        vertical-align: top;\n",
       "    }\n",
       "\n",
       "    .dataframe thead th {\n",
       "        text-align: right;\n",
       "    }\n",
       "</style>\n",
       "<table border=\"1\" class=\"dataframe\">\n",
       "  <thead>\n",
       "    <tr style=\"text-align: right;\">\n",
       "      <th></th>\n",
       "      <th>Happiness Score</th>\n",
       "      <th>Standard Error</th>\n",
       "      <th>Economy (GDP per Capita)</th>\n",
       "      <th>Family</th>\n",
       "      <th>Health (Life Expectancy)</th>\n",
       "      <th>Freedom</th>\n",
       "      <th>Trust (Government Corruption)</th>\n",
       "      <th>Generosity</th>\n",
       "      <th>Dystopia Residual</th>\n",
       "    </tr>\n",
       "  </thead>\n",
       "  <tbody>\n",
       "    <tr>\n",
       "      <th>Happiness Score</th>\n",
       "      <td>1.000000</td>\n",
       "      <td>-0.177254</td>\n",
       "      <td>0.780966</td>\n",
       "      <td>0.740605</td>\n",
       "      <td>0.724200</td>\n",
       "      <td>0.568211</td>\n",
       "      <td>0.395199</td>\n",
       "      <td>0.180319</td>\n",
       "      <td>0.530474</td>\n",
       "    </tr>\n",
       "    <tr>\n",
       "      <th>Standard Error</th>\n",
       "      <td>-0.177254</td>\n",
       "      <td>1.000000</td>\n",
       "      <td>-0.217651</td>\n",
       "      <td>-0.120728</td>\n",
       "      <td>-0.310287</td>\n",
       "      <td>-0.129773</td>\n",
       "      <td>-0.178325</td>\n",
       "      <td>-0.088439</td>\n",
       "      <td>0.083981</td>\n",
       "    </tr>\n",
       "    <tr>\n",
       "      <th>Economy (GDP per Capita)</th>\n",
       "      <td>0.780966</td>\n",
       "      <td>-0.217651</td>\n",
       "      <td>1.000000</td>\n",
       "      <td>0.645299</td>\n",
       "      <td>0.816478</td>\n",
       "      <td>0.370300</td>\n",
       "      <td>0.307885</td>\n",
       "      <td>-0.010465</td>\n",
       "      <td>0.040059</td>\n",
       "    </tr>\n",
       "    <tr>\n",
       "      <th>Family</th>\n",
       "      <td>0.740605</td>\n",
       "      <td>-0.120728</td>\n",
       "      <td>0.645299</td>\n",
       "      <td>1.000000</td>\n",
       "      <td>0.531104</td>\n",
       "      <td>0.441518</td>\n",
       "      <td>0.205605</td>\n",
       "      <td>0.087513</td>\n",
       "      <td>0.148117</td>\n",
       "    </tr>\n",
       "    <tr>\n",
       "      <th>Health (Life Expectancy)</th>\n",
       "      <td>0.724200</td>\n",
       "      <td>-0.310287</td>\n",
       "      <td>0.816478</td>\n",
       "      <td>0.531104</td>\n",
       "      <td>1.000000</td>\n",
       "      <td>0.360477</td>\n",
       "      <td>0.248335</td>\n",
       "      <td>0.108335</td>\n",
       "      <td>0.018979</td>\n",
       "    </tr>\n",
       "    <tr>\n",
       "      <th>Freedom</th>\n",
       "      <td>0.568211</td>\n",
       "      <td>-0.129773</td>\n",
       "      <td>0.370300</td>\n",
       "      <td>0.441518</td>\n",
       "      <td>0.360477</td>\n",
       "      <td>1.000000</td>\n",
       "      <td>0.493524</td>\n",
       "      <td>0.373916</td>\n",
       "      <td>0.062783</td>\n",
       "    </tr>\n",
       "    <tr>\n",
       "      <th>Trust (Government Corruption)</th>\n",
       "      <td>0.395199</td>\n",
       "      <td>-0.178325</td>\n",
       "      <td>0.307885</td>\n",
       "      <td>0.205605</td>\n",
       "      <td>0.248335</td>\n",
       "      <td>0.493524</td>\n",
       "      <td>1.000000</td>\n",
       "      <td>0.276123</td>\n",
       "      <td>-0.033105</td>\n",
       "    </tr>\n",
       "    <tr>\n",
       "      <th>Generosity</th>\n",
       "      <td>0.180319</td>\n",
       "      <td>-0.088439</td>\n",
       "      <td>-0.010465</td>\n",
       "      <td>0.087513</td>\n",
       "      <td>0.108335</td>\n",
       "      <td>0.373916</td>\n",
       "      <td>0.276123</td>\n",
       "      <td>1.000000</td>\n",
       "      <td>-0.101301</td>\n",
       "    </tr>\n",
       "    <tr>\n",
       "      <th>Dystopia Residual</th>\n",
       "      <td>0.530474</td>\n",
       "      <td>0.083981</td>\n",
       "      <td>0.040059</td>\n",
       "      <td>0.148117</td>\n",
       "      <td>0.018979</td>\n",
       "      <td>0.062783</td>\n",
       "      <td>-0.033105</td>\n",
       "      <td>-0.101301</td>\n",
       "      <td>1.000000</td>\n",
       "    </tr>\n",
       "  </tbody>\n",
       "</table>\n",
       "</div>"
      ],
      "text/plain": [
       "                               Happiness Score  Standard Error  \\\n",
       "Happiness Score                       1.000000       -0.177254   \n",
       "Standard Error                       -0.177254        1.000000   \n",
       "Economy (GDP per Capita)              0.780966       -0.217651   \n",
       "Family                                0.740605       -0.120728   \n",
       "Health (Life Expectancy)              0.724200       -0.310287   \n",
       "Freedom                               0.568211       -0.129773   \n",
       "Trust (Government Corruption)         0.395199       -0.178325   \n",
       "Generosity                            0.180319       -0.088439   \n",
       "Dystopia Residual                     0.530474        0.083981   \n",
       "\n",
       "                               Economy (GDP per Capita)    Family  \\\n",
       "Happiness Score                                0.780966  0.740605   \n",
       "Standard Error                                -0.217651 -0.120728   \n",
       "Economy (GDP per Capita)                       1.000000  0.645299   \n",
       "Family                                         0.645299  1.000000   \n",
       "Health (Life Expectancy)                       0.816478  0.531104   \n",
       "Freedom                                        0.370300  0.441518   \n",
       "Trust (Government Corruption)                  0.307885  0.205605   \n",
       "Generosity                                    -0.010465  0.087513   \n",
       "Dystopia Residual                              0.040059  0.148117   \n",
       "\n",
       "                               Health (Life Expectancy)   Freedom  \\\n",
       "Happiness Score                                0.724200  0.568211   \n",
       "Standard Error                                -0.310287 -0.129773   \n",
       "Economy (GDP per Capita)                       0.816478  0.370300   \n",
       "Family                                         0.531104  0.441518   \n",
       "Health (Life Expectancy)                       1.000000  0.360477   \n",
       "Freedom                                        0.360477  1.000000   \n",
       "Trust (Government Corruption)                  0.248335  0.493524   \n",
       "Generosity                                     0.108335  0.373916   \n",
       "Dystopia Residual                              0.018979  0.062783   \n",
       "\n",
       "                               Trust (Government Corruption)  Generosity  \\\n",
       "Happiness Score                                     0.395199    0.180319   \n",
       "Standard Error                                     -0.178325   -0.088439   \n",
       "Economy (GDP per Capita)                            0.307885   -0.010465   \n",
       "Family                                              0.205605    0.087513   \n",
       "Health (Life Expectancy)                            0.248335    0.108335   \n",
       "Freedom                                             0.493524    0.373916   \n",
       "Trust (Government Corruption)                       1.000000    0.276123   \n",
       "Generosity                                          0.276123    1.000000   \n",
       "Dystopia Residual                                  -0.033105   -0.101301   \n",
       "\n",
       "                               Dystopia Residual  \n",
       "Happiness Score                         0.530474  \n",
       "Standard Error                          0.083981  \n",
       "Economy (GDP per Capita)                0.040059  \n",
       "Family                                  0.148117  \n",
       "Health (Life Expectancy)                0.018979  \n",
       "Freedom                                 0.062783  \n",
       "Trust (Government Corruption)          -0.033105  \n",
       "Generosity                             -0.101301  \n",
       "Dystopia Residual                       1.000000  "
      ]
     },
     "execution_count": 12,
     "metadata": {},
     "output_type": "execute_result"
    }
   ],
   "source": [
    "corr"
   ]
  },
  {
   "cell_type": "code",
   "execution_count": 13,
   "metadata": {},
   "outputs": [
    {
     "data": {
      "text/plain": [
       "<AxesSubplot:>"
      ]
     },
     "execution_count": 13,
     "metadata": {},
     "output_type": "execute_result"
    },
    {
     "data": {
      "image/png": "[encoded data removed]",
      "text/plain": [
       "<Figure size 432x288 with 2 Axes>"
      ]
     },
     "metadata": {
      "needs_background": "light"
     },
     "output_type": "display_data"
    }
   ],
   "source": [
    "sns.heatmap(corr,annot=True,linewidths=6,linecolor='r')"
   ]
  },
  {
   "cell_type": "code",
   "execution_count": 14,
   "metadata": {},
   "outputs": [],
   "source": [
    "# Now Segregating independent and dependent variables in form of x and y\n",
    "\n",
    "x = data.drop('Happiness Score',axis=1)\n",
    "y = data['Happiness Score']"
   ]
  },
  {
   "cell_type": "code",
   "execution_count": 15,
   "metadata": {},
   "outputs": [],
   "source": [
    "# splitting data arrays into two subsets: for training data and for testing data\n",
    "from sklearn.model_selection import train_test_split\n",
    "x_train,x_test,y_train,y_test = train_test_split(x,y,test_size=.3,random_state=12) # in this i have trained 70 % of my data and 30% for testing"
   ]
  },
  {
   "cell_type": "code",
   "execution_count": 16,
   "metadata": {},
   "outputs": [
    {
     "data": {
      "text/plain": [
       "(110, 8)"
      ]
     },
     "execution_count": 16,
     "metadata": {},
     "output_type": "execute_result"
    }
   ],
   "source": [
    "# chking no of rows and no. of columns\n",
    "x_train.shape"
   ]
  },
  {
   "cell_type": "code",
   "execution_count": 17,
   "metadata": {},
   "outputs": [
    {
     "data": {
      "text/plain": [
       "(48, 8)"
      ]
     },
     "execution_count": 17,
     "metadata": {},
     "output_type": "execute_result"
    }
   ],
   "source": [
    "x_test.shape"
   ]
  },
  {
   "cell_type": "code",
   "execution_count": 18,
   "metadata": {},
   "outputs": [],
   "source": [
    "# Now we have to do Scalling so that it will normalize the data within a particular range eg. in between 0 to 1\n",
    "from sklearn.preprocessing import MinMaxScaler\n",
    "mm = MinMaxScaler()\n",
    "x_train = mm.fit_transform(x_train)\n",
    "x_test = mm.fit_transform(x_test)"
   ]
  },
  {
   "cell_type": "code",
   "execution_count": 19,
   "metadata": {},
   "outputs": [
    {
     "data": {
      "text/plain": [
       "array([[0.41149675, 0.40305368, 0.71911244, 0.55853653, 0.83197989,\n",
       "        0.16855654, 0.23256267, 0.76209387],\n",
       "       [0.42863341, 0.65495557, 0.82646371, 0.88935963, 0.59852   ,\n",
       "        0.24649479, 0.39926183, 0.71703894],\n",
       "       [0.16518438, 0.73956768, 0.96993194, 0.94094553, 0.94665331,\n",
       "        0.82213454, 0.58299869, 0.59130427],\n",
       "       [0.20401302, 0.84432863, 0.82740449, 0.83827094, 0.95050271,\n",
       "        0.73902467, 0.30913486, 0.58616613],\n",
       "       [0.20639913, 0.79106376, 0.95329933, 0.92235182, 0.92019968,\n",
       "        0.35772295, 0.39568794, 0.67346253],\n",
       "       [0.17592191, 0.72678388, 0.89956489, 0.94664277, 0.54907544,\n",
       "        0.14911508, 0.3967796 , 0.84310659],\n",
       "       [0.24403471, 0.73627264, 0.70392039, 1.        , 0.40650707,\n",
       "        0.15049418, 0.20684367, 0.57771967],\n",
       "       [0.25574837, 0.71426036, 0.95696688, 0.9190267 , 0.8838501 ,\n",
       "        0.26022832, 0.63824451, 0.40329794],\n",
       "       [0.35715835, 0.2752807 , 0.56678034, 0.15729557, 0.64657597,\n",
       "        0.34328072, 0.22774117, 0.33255844],\n",
       "       [0.2516269 , 0.69744797, 0.88670273, 0.87512689, 0.63775223,\n",
       "        0.05079681, 0.10455248, 0.71764073],\n",
       "       [0.25422993, 0.38709315, 0.66465772, 0.16581035, 0.42629895,\n",
       "        0.07719124, 0.31959661, 0.78343149],\n",
       "       [0.17049892, 0.43467896, 0.47108586, 0.63139903, 0.55561415,\n",
       "        0.16369139, 0.05888469, 0.64918621],\n",
       "       [0.14197397, 0.7877983 , 0.94744153, 0.94353519, 0.98254588,\n",
       "        0.83979467, 0.43693711, 0.62397207],\n",
       "       [0.31984816, 0.14142048, 0.58264123, 0.37617311, 0.22562047,\n",
       "        0.38116764, 0.19234018, 0.49778834],\n",
       "       [0.31301518, 0.21575112, 0.73406929, 0.42920922, 0.56482458,\n",
       "        0.1118411 , 0.45357194, 0.44507203],\n",
       "       [0.29446855, 0.44950367, 0.95898073, 0.68468375, 0.77019616,\n",
       "        0.15786853, 0.41065928, 0.56830484],\n",
       "       [0.30694143, 0.24993789, 0.65242029, 0.24241231, 0.68951698,\n",
       "        0.11082593, 0.23362834, 0.49552475],\n",
       "       [0.38655098, 0.78309533, 0.89391289, 0.7739543 , 0.62242495,\n",
       "        0.58611707, 0.1913135 , 0.4305374 ],\n",
       "       [0.46193059, 0.66311331, 0.88355701, 0.78627069, 0.38724249,\n",
       "        0.05282715, 0.13202594, 0.27864466],\n",
       "       [0.26995662, 0.60673679, 0.58799189, 0.86957468, 0.4189517 ,\n",
       "        0.08776433, 0.24969135, 0.37940652],\n",
       "       [0.19609544, 0.16957324, 0.26008026, 0.33054341, 0.6744182 ,\n",
       "        0.15342476, 0.20298387, 0.39855692],\n",
       "       [0.15889371, 0.4899315 , 0.95591586, 0.62429302, 0.58962596,\n",
       "        0.05106497, 0.39753337, 0.31128496],\n",
       "       [0.24240781, 0.78890453, 0.96225874, 0.96496716, 0.96749982,\n",
       "        0.68259654, 0.53180761, 0.59197937],\n",
       "       [0.38264642, 0.543362  , 0.73668583, 0.76182436, 0.41088378,\n",
       "        0.10203417, 0.2562543 , 0.43095285],\n",
       "       [0.26854664, 0.15269578, 0.62611533, 0.28097744, 0.51697954,\n",
       "        0.24578609, 0.24830078, 0.34713279],\n",
       "       [0.40715835, 0.15424569, 0.76089609, 0.21321138, 0.50580046,\n",
       "        0.23659209, 0.2099757 , 0.44732646],\n",
       "       [0.34848156, 0.16871547, 0.73695042, 0.39585448, 0.4007066 ,\n",
       "        0.11007892, 0.41243973, 0.32142683],\n",
       "       [0.02114967, 0.38155606, 0.28057152, 0.53376909, 0.52212965,\n",
       "        0.16265706, 0.30974567, 0.59462787],\n",
       "       [0.67765727, 0.26043823, 0.43516001, 0.37592451, 0.63265485,\n",
       "        0.53832746, 0.20081355, 0.52623749],\n",
       "       [0.31616052, 0.45444919, 0.57116083, 0.75607533, 0.17165858,\n",
       "        0.0747012 , 0.06776093, 0.43687912],\n",
       "       [0.30010846, 0.53252446, 0.71630481, 0.75635501, 0.5521866 ,\n",
       "        0.11471422, 0.16038312, 0.69218832],\n",
       "       [0.19023861, 0.04105489, 0.56788281, 0.30772338, 0.66109471,\n",
       "        0.29955179, 0.21763032, 0.47354867],\n",
       "       [0.34327549, 0.5197939 , 0.59117435, 0.84241439, 0.4508894 ,\n",
       "        0.12283558, 0.15115599, 0.47971016],\n",
       "       [0.33470716, 0.58775334, 0.81188905, 0.04947275, 0.69278633,\n",
       "        0.2389289 , 0.10162839, 0.34617664],\n",
       "       [0.16952278, 0.82613197, 0.99186376, 0.97519112, 0.9926879 ,\n",
       "        0.80405302, 0.35137172, 0.66862987],\n",
       "       [0.52429501, 0.40147419, 0.48721869, 0.32164536, 0.55165928,\n",
       "        0.22383543, 0.12667161, 0.41324124],\n",
       "       [0.29685466, 0.54453331, 0.8707169 , 0.28680934, 0.40648949,\n",
       "        0.17016549, 0.12127828, 0.42491355],\n",
       "       [0.30206074, 0.82548124, 0.7966676 , 0.74607926, 0.36854039,\n",
       "        0.62296966, 0.14380028, 0.64460098],\n",
       "       [0.14642082, 0.23098993, 0.62887151, 0.59436699, 0.65272798,\n",
       "        0.28869139, 0.26424682, 0.54540317],\n",
       "       [0.18947939, 0.77366572, 0.94493525, 0.92882595, 0.85018983,\n",
       "        0.4317346 , 0.25483775, 0.63730617],\n",
       "       [0.46778742, 0.111493  , 0.69934881, 0.45446353, 0.64158405,\n",
       "        0.76478701, 0.6196083 , 0.54428207],\n",
       "       [0.34739696, 0.54342116, 0.91150833, 0.71554207, 0.76258525,\n",
       "        0.09806926, 0.2048163 , 0.77248928],\n",
       "       [0.27255965, 0.37413187, 0.98519014, 0.61915515, 0.97975111,\n",
       "        0.59044591, 0.26246637, 0.58310524],\n",
       "       [0.21160521, 0.35167591, 0.74621117, 0.64043175, 0.39965197,\n",
       "        0.03093396, 0.237956  , 0.84878237],\n",
       "       [0.25238612, 0.5670011 , 0.90158609, 0.55818434, 0.65965338,\n",
       "        0.59079068, 0.18633605, 0.47082076],\n",
       "       [0.29978308, 0.62322381, 0.91742492, 0.81546127, 0.61331997,\n",
       "        0.16250383, 0.11449439, 0.76596122],\n",
       "       [0.00195228, 0.74914518, 0.94480295, 0.94204355, 0.870843  ,\n",
       "        0.61421621, 0.64032386, 0.50139909],\n",
       "       [0.52603037, 0.34941612, 0.54243778, 0.56878121, 0.87024538,\n",
       "        0.46446905, 0.51400315, 0.43054351],\n",
       "       [0.21637744, 0.67866566, 0.92420144, 0.75750482, 0.19793644,\n",
       "        0.01974793, 0.        , 0.64697455],\n",
       "       [0.26062907, 0.70099739, 0.93625513, 0.90469038, 0.89246291,\n",
       "        0.07253678, 0.2948393 , 0.39322633],\n",
       "       [0.55748373, 0.27826221, 0.67333049, 0.3099712 , 0.68104479,\n",
       "        0.23881397, 0.22028149, 0.70434634],\n",
       "       [0.26193059, 0.66584044, 0.94039307, 0.8069672 , 0.7565387 ,\n",
       "        0.08067729, 0.18347694, 0.46954081],\n",
       "       [0.22668113, 0.61045184, 0.90615032, 0.76247695, 0.48964705,\n",
       "        0.36565277, 0.10923103, 0.5505688 ],\n",
       "       [0.19360087, 0.12318832, 0.49097444, 0.48396486, 0.16000492,\n",
       "        0.15560834, 0.24292045, 0.46506556],\n",
       "       [0.18047722, 0.75589498, 0.92635494, 0.97970747, 0.78974197,\n",
       "        0.39545663, 0.12594383, 0.575117  ],\n",
       "       [0.16052061, 0.78411282, 1.        , 0.90600593, 0.96423047,\n",
       "        0.92623736, 0.40934669, 0.66088906],\n",
       "       [0.35260304, 0.55565481, 0.79210337, 0.63981023, 0.32514238,\n",
       "        0.33295663, 0.06733206, 0.64257567],\n",
       "       [0.18882863, 0.52124916, 0.44414147, 0.7643933 , 0.28452155,\n",
       "        0.1217821 , 0.04925468, 0.54866262],\n",
       "       [0.58015184, 0.5960708 , 0.72411031, 0.73494375, 0.80828587,\n",
       "        0.14405838, 0.45619712, 0.43771002],\n",
       "       [0.36616052, 0.44103241, 0.76699643, 0.66735379, 0.83758701,\n",
       "        0.18142813, 0.32292357, 0.73741431],\n",
       "       [0.27321041, 0.32328652, 0.50047039, 0.41500756, 0.4480419 ,\n",
       "        0.15043671, 0.08434377, 0.48709967],\n",
       "       [0.2691974 , 0.66543226, 0.78659836, 0.74990159, 0.75481614,\n",
       "        0.20113776, 0.39551899, 0.47557705],\n",
       "       [0.29067245, 0.51112741, 0.73426774, 0.8191075 , 0.67659776,\n",
       "        0.34649862, 0.11566403, 0.6753626 ],\n",
       "       [0.19078091, 0.21294708, 0.63538344, 0.58913588, 0.49569359,\n",
       "        0.11314358, 0.38539514, 0.49725375],\n",
       "       [0.264859  , 0.16031519, 0.75905864, 0.34675465, 0.27736764,\n",
       "        0.1547464 , 0.21243193, 0.64557546],\n",
       "       [0.34934924, 0.27234652, 0.46109747, 0.63305641, 0.9872214 ,\n",
       "        0.13881014, 0.49018155, 0.19959005],\n",
       "       [0.24577007, 0.66405982, 0.82494965, 0.66676335, 0.73064754,\n",
       "        0.16192921, 0.11938087, 0.58612336],\n",
       "       [0.56616052, 0.19535973, 0.70242838, 0.        , 0.54065598,\n",
       "        0.16828838, 0.24493483, 0.66640294],\n",
       "       [1.        , 0.04211971, 0.58039954, 0.354275  , 0.32429867,\n",
       "        0.11936868, 0.28228521, 0.74802661],\n",
       "       [0.5291757 , 0.12344861, 0.10286054, 0.29463009, 0.46354496,\n",
       "        0.20554321, 0.18246325, 0.37838928],\n",
       "       [0.21908894, 0.76370369, 0.79096415, 0.90668959, 0.5213211 ,\n",
       "        0.15570411, 0.29546311, 0.60932135],\n",
       "       [0.26236443, 0.69149087, 0.9334181 , 0.81731546, 0.38089714,\n",
       "        0.0657179 , 0.1852184 , 0.58584843],\n",
       "       [0.27613883, 0.35415459, 0.68028341, 0.68382399, 0.25342755,\n",
       "        0.24718434, 0.1118952 , 0.5239739 ],\n",
       "       [0.41073753, 0.7146508 , 0.78648812, 0.95668027, 0.68456022,\n",
       "        0.2735213 , 0.30576891, 0.38804849],\n",
       "       [0.34381779, 0.47413069, 0.5967896 , 0.6539601 , 0.25782184,\n",
       "        0.09080984, 0.33359325, 0.74451362],\n",
       "       [0.31561822, 0.44827913, 0.63237737, 0.17281278, 0.00532588,\n",
       "        0.13641587, 0.12609978, 0.49512152],\n",
       "       [0.18492408, 0.78459199, 0.97209278, 0.93810727, 0.93538635,\n",
       "        0.63126341, 0.56103552, 0.64858442],\n",
       "       [0.38210412, 0.35094829, 0.83923033, 0.76979013, 0.79789777,\n",
       "        0.37000077, 0.32716025, 0.60957795],\n",
       "       [0.60715835, 0.5296731 , 0.86141204, 0.69221446, 0.8365148 ,\n",
       "        0.27264021, 0.24748203, 0.27018597],\n",
       "       [0.46247289, 0.04643816, 0.        , 0.06939236, 0.6819588 ,\n",
       "        0.15876877, 0.27543634, 0.73122839],\n",
       "       [0.        , 0.78555625, 0.95501183, 0.92384346, 0.90339591,\n",
       "        0.41838416, 0.33234564, 0.54592248],\n",
       "       [0.1643167 , 0.60570154, 0.68936042, 0.66341751, 0.47368699,\n",
       "        0.30771146, 0.06703315, 0.51080475],\n",
       "       [0.47819957, 1.        , 0.79275015, 0.82592347, 0.94844618,\n",
       "        1.        , 0.38899502, 0.37517565],\n",
       "       [0.27809111, 0.47270501, 0.88402005, 0.69806708, 0.2643957 ,\n",
       "        0.05671545, 0.16419094, 0.37965395],\n",
       "       [0.08112798, 0.48997882, 0.79898279, 0.66080714, 0.64209379,\n",
       "        0.        , 0.63542438, 0.46903371],\n",
       "       [0.28210412, 0.59677477, 0.40017493, 0.72308314, 0.35069957,\n",
       "        0.1123008 , 0.46064174, 0.41722773],\n",
       "       [0.22765727, 0.26861372, 0.638757  , 0.37160496, 0.24873444,\n",
       "        0.33445066, 0.25028916, 0.54654566],\n",
       "       [0.73861171, 0.00905101, 0.30565641, 0.23199155, 0.031094  ,\n",
       "        0.19272908, 0.22204894, 0.45957306],\n",
       "       [0.82321041, 0.22210457, 0.76513693, 0.07884978, 0.38117837,\n",
       "        0.23950352, 0.17865544, 0.75445081],\n",
       "       [0.19869848, 0.        , 0.73586265, 0.10157658, 0.2201364 ,\n",
       "        0.14605041, 0.2884193 , 0.77546769],\n",
       "       [0.74772234, 0.42123259, 0.78851666, 0.07837328, 0.3616853 ,\n",
       "        0.05861171, 0.20297088, 0.65927614],\n",
       "       [0.17570499, 0.72769489, 0.96561025, 0.98988999, 0.63049286,\n",
       "        0.12254827, 0.20255501, 0.5483602 ],\n",
       "       [0.33470716, 0.41724542, 0.76082259, 0.60198057, 0.92216832,\n",
       "        0.23519384, 0.29045967, 0.43531202],\n",
       "       [0.36735358, 0.57641296, 0.66557645, 0.75121714, 0.14376362,\n",
       "        0.27382777, 0.17543244, 0.54118147],\n",
       "       [0.25249458, 0.60371979, 0.67214717, 0.84364706, 0.66968994,\n",
       "        0.4082133 , 0.14858279, 1.        ],\n",
       "       [0.41214751, 0.35217283, 0.70078937, 0.72002735, 0.52849258,\n",
       "        0.13072709, 0.26493561, 0.46295165],\n",
       "       [0.53058568, 0.30824884, 0.7452998 , 0.38200501, 0.        ,\n",
       "        0.28079988, 0.21340663, 0.57429526],\n",
       "       [0.27147505, 0.16036251, 0.52113804, 0.49976175, 0.59649863,\n",
       "        0.36458014, 1.        , 0.33280893],\n",
       "       [0.13655098, 0.37396623, 0.67049347, 0.77353995, 0.86766153,\n",
       "        0.19998851, 0.18478953, 0.57220579],\n",
       "       [0.59468547, 0.15778919, 0.54610534, 0.40240113, 0.25212684,\n",
       "        0.32897257, 0.565922  , 0.58442491],\n",
       "       [0.19088937, 0.21591084, 0.71748078, 0.45101411, 0.46915208,\n",
       "        0.20519844, 0.23655243, 0.34072081],\n",
       "       [0.32321041, 0.59876244, 0.81299152, 0.7939775 , 0.36043732,\n",
       "        0.01670242, 0.12060249, 0.17452865],\n",
       "       [0.22407809, 0.74013559, 0.8803378 , 0.98868839, 0.28395908,\n",
       "        0.0555662 , 0.26228443, 0.51827368],\n",
       "       [0.50195228, 0.61773997, 0.92310632, 0.74635895, 0.57700555,\n",
       "        0.21201732, 0.04158707, 0.87450054],\n",
       "       [0.21420824, 0.28056933, 0.846073  , 0.67422155, 0.58700696,\n",
       "        0.08106037, 0.3559463 , 0.58166644],\n",
       "       [0.22039046, 0.86309911, 0.97822252, 0.91695498, 1.        ,\n",
       "        0.69918403, 0.41662443, 0.65272364],\n",
       "       [0.46442516, 0.00948877, 0.30232695, 0.23371108, 0.57957182,\n",
       "        0.13363852, 0.39620778, 0.75738034],\n",
       "       [0.15314534, 0.52164551, 0.54903056, 0.63925086, 0.12667862,\n",
       "        0.12113086, 0.11241504, 0.38816762],\n",
       "       [0.34349241, 0.39232853, 0.34903497, 0.74781951, 0.09848485,\n",
       "        0.36212841, 0.57881399, 0.        ],\n",
       "       [0.2186551 , 0.62764283, 0.69552691, 0.7579606 , 0.2238276 ,\n",
       "        0.30160129, 0.12491715, 0.5366329 ]])"
      ]
     },
     "execution_count": 19,
     "metadata": {},
     "output_type": "execute_result"
    }
   ],
   "source": [
    "# Now i have to chk whether my x_train and x_test data has normallized or not.\n",
    "x_train"
   ]
  },
  {
   "cell_type": "code",
   "execution_count": 20,
   "metadata": {},
   "outputs": [
    {
     "data": {
      "text/plain": [
       "array([[0.21102139, 0.72718003, 0.76088341, 0.83932587, 0.80208512,\n",
       "        0.01548286, 0.2380531 , 0.23422701],\n",
       "       [0.12033011, 0.07269572, 0.2739817 , 0.37394265, 0.67711823,\n",
       "        0.26964922, 0.42208919, 0.6886657 ],\n",
       "       [0.10267104, 0.80202319, 0.86800742, 0.96344519, 0.77319266,\n",
       "        0.32444873, 0.18575395, 0.39530725],\n",
       "       [0.16798296, 0.08639749, 0.75509833, 0.26479217, 0.71260266,\n",
       "        0.12808384, 0.50435537, 0.29679705],\n",
       "       [0.18768302, 0.6608321 , 0.82414634, 0.77123798, 0.94067229,\n",
       "        0.44267157, 0.40326219, 0.63979629],\n",
       "       [0.12033011, 0.97160376, 0.65232222, 1.        , 0.84545497,\n",
       "        0.89118332, 0.53973625, 0.47231475],\n",
       "       [0.09228858, 0.09386628, 0.42828685, 0.36119023, 0.92257944,\n",
       "        1.        , 0.39264272, 0.00619023],\n",
       "       [0.18839294, 0.65987318, 0.54797249, 0.36662955, 0.49734295,\n",
       "        0.19765665, 0.11837585, 0.13227054],\n",
       "       [0.19664567, 0.69558288, 0.72110644, 0.67783798, 0.46238838,\n",
       "        0.1110727 , 0.31625889, 0.37143669],\n",
       "       [0.24917916, 0.60939473, 0.46939184, 0.5472086 , 0.        ,\n",
       "        0.24672513, 0.31098386, 0.49854167],\n",
       "       [0.21652321, 0.56552744, 0.64289872, 0.70352485, 0.31334445,\n",
       "        0.04348301, 0.33369773, 0.52603887],\n",
       "       [0.07107995, 0.46415861, 0.72868344, 0.51690687, 0.82915426,\n",
       "        0.27687213, 0.83286483, 0.37749643],\n",
       "       [0.1034697 , 0.0615128 , 0.14726482, 0.1593036 , 0.5879007 ,\n",
       "        0.21672367, 0.49725837, 0.51326697],\n",
       "       [0.75170823, 0.76224145, 0.80107879, 0.56054993, 0.87088781,\n",
       "        0.01661087, 0.55255943, 0.61960994],\n",
       "       [0.05794658, 0.21234713, 0.11662028, 0.54642697, 0.63613271,\n",
       "        0.22454698, 0.36824571, 0.71511137],\n",
       "       [0.37119531, 0.64853494, 0.53032618, 0.7255177 , 0.54649441,\n",
       "        0.00767775, 0.23855631, 0.49007568],\n",
       "       [0.09539444, 1.        , 0.83390638, 0.88617042, 0.95970017,\n",
       "        0.68355651, 0.48644803, 0.50478179],\n",
       "       [0.25831928, 0.86237448, 0.70855391, 0.7189434 , 0.98605246,\n",
       "        0.58760279, 0.37379837, 0.69869364],\n",
       "       [0.11775668, 0.50793136, 0.65145809, 0.66037433, 0.83725787,\n",
       "        0.16287024, 0.70845046, 0.00644352],\n",
       "       [0.18635194, 0.55300068, 0.68317597, 0.64787888, 0.63365488,\n",
       "        0.25591296, 0.19179247, 0.47037671],\n",
       "       [0.65551513, 0.61604641, 0.60866125, 0.55345097, 0.92968567,\n",
       "        0.2439051 , 0.29482908, 0.8199845 ],\n",
       "       [0.39834945, 0.50589872, 0.56059779, 0.74897745, 0.14407268,\n",
       "        0.        , 0.43047024, 0.5408793 ],\n",
       "       [0.28006034, 0.75974285, 0.53696629, 0.8911172 , 0.6338263 ,\n",
       "        0.10768867, 0.53163283, 0.47396497],\n",
       "       [0.18031769, 0.99345637, 0.78506977, 0.67842688, 0.86488803,\n",
       "        0.46179317, 0.28158945, 0.46898746],\n",
       "       [0.06353714, 0.81519823, 0.92362059, 0.85423046, 1.        ,\n",
       "        0.74858089, 0.40518827, 0.75420997],\n",
       "       [0.03327713, 0.84166312, 0.88897379, 0.8582243 , 0.95959108,\n",
       "        0.57468525, 0.82613222, 0.69516679],\n",
       "       [0.17481587, 0.6749323 , 0.44878932, 0.74602223, 0.40335676,\n",
       "        0.04008078, 0.09446469, 0.80586172],\n",
       "       [0.21829799, 0.82334907, 1.        , 0.91711459, 0.97986567,\n",
       "        0.25322029, 0.75707097, 0.78585573],\n",
       "       [0.12476706, 0.17480062, 0.41638924, 0.06294837, 0.36623603,\n",
       "        0.09173277, 0.31903522, 0.49455429],\n",
       "       [0.48557991, 0.        , 0.65801634, 0.        , 0.53042746,\n",
       "        0.27974674, 0.38641333, 0.91993   ],\n",
       "       [0.06309344, 0.71214116, 0.84895123, 0.6188299 , 0.57159999,\n",
       "        0.05054217, 0.00345306, 0.62157484],\n",
       "       [0.18014021, 0.58933166, 0.85050665, 0.82335054, 0.98764201,\n",
       "        0.18841423, 0.44242582, 0.96825062],\n",
       "       [0.2206052 , 0.66209491, 0.81468646, 0.7551877 , 0.84480045,\n",
       "        0.16452587, 0.42398057, 0.84206668],\n",
       "       [0.2331174 , 0.87988493, 0.68705088, 0.98718333, 0.92892207,\n",
       "        0.67129394, 0.68502516, 0.        ],\n",
       "       [0.20569704, 0.31232484, 0.34263858, 0.33193781, 0.65985133,\n",
       "        0.0751037 , 0.40060732, 0.63510277],\n",
       "       [0.        , 0.54499166, 0.58569375, 0.77657023, 0.80563824,\n",
       "        0.04646678, 0.14202672, 0.46287015],\n",
       "       [0.05856775, 0.1598698 , 0.        , 0.22703814, 0.36488024,\n",
       "        0.17269485, 0.63352421, 0.49806196],\n",
       "       [0.11110125, 0.84606606, 0.97021048, 0.86089042, 0.96272343,\n",
       "        0.51808456, 0.79647753, 0.50711895],\n",
       "       [0.1155382 , 0.3459884 , 0.1012025 , 0.45329464, 0.18859574,\n",
       "        0.18624918, 0.58426167, 0.94131373],\n",
       "       [0.15946402, 0.44489914, 0.07528789, 0.68307386, 0.63234584,\n",
       "        0.69325377, 0.09625195, 0.36117465],\n",
       "       [0.10054131, 0.59684096, 0.87521148, 0.69296743, 0.86745937,\n",
       "        0.05385343, 1.        , 0.63904027],\n",
       "       [1.        , 0.49114348, 0.77149848, 0.6382637 , 0.78608051,\n",
       "        0.0376974 , 0.36838452, 0.63939717],\n",
       "       [0.14659686, 0.60652472, 0.84594954, 0.64855344, 0.7643722 ,\n",
       "        0.31464231, 0.25288912, 1.        ],\n",
       "       [0.23409353, 0.72322954, 0.56984846, 0.84675675, 0.11998005,\n",
       "        0.02128666, 0.        , 0.44007798],\n",
       "       [0.47990061, 0.70796108, 0.74202732, 0.65581301, 0.64934782,\n",
       "        0.19641947, 0.31745619, 0.55123728],\n",
       "       [0.12556571, 0.88560469, 0.85890229, 0.82497805, 0.85094049,\n",
       "        0.28496834, 0.69590491, 0.71221006],\n",
       "       [0.28343243, 0.46018787, 0.65693391, 0.62751354, 0.6288083 ,\n",
       "        0.21011935, 0.18552837, 0.91364767],\n",
       "       [0.1410063 , 0.72166285, 0.8414379 , 0.73056085, 0.69952781,\n",
       "        0.27212357, 0.150616  , 0.35826182]])"
      ]
     },
     "execution_count": 20,
     "metadata": {},
     "output_type": "execute_result"
    }
   ],
   "source": [
    "x_test"
   ]
  },
  {
   "cell_type": "markdown",
   "metadata": {},
   "source": [
    "As i can see that my x_train and x_test data has been successfully normallized"
   ]
  },
  {
   "cell_type": "code",
   "execution_count": 21,
   "metadata": {},
   "outputs": [],
   "source": [
    "# now i have to import required Algorithms to build model\n",
    "\n",
    "from sklearn.linear_model import LinearRegression\n",
    "from sklearn.ensemble import RandomForestRegressor\n",
    "from sklearn.tree import DecisionTreeRegressor\n",
    "from sklearn.svm import SVR"
   ]
  },
  {
   "cell_type": "code",
   "execution_count": 22,
   "metadata": {},
   "outputs": [
    {
     "data": {
      "text/plain": [
       "LinearRegression()"
      ]
     },
     "execution_count": 22,
     "metadata": {},
     "output_type": "execute_result"
    }
   ],
   "source": [
    "lr = LinearRegression()\n",
    "lr.fit(x_train,y_train)"
   ]
  },
  {
   "cell_type": "code",
   "execution_count": 23,
   "metadata": {},
   "outputs": [],
   "source": [
    "lr_pd = lr.predict(x_test)"
   ]
  },
  {
   "cell_type": "code",
   "execution_count": 24,
   "metadata": {},
   "outputs": [
    {
     "name": "stdout",
     "output_type": "stream",
     "text": [
      "0.9759746865136432\n"
     ]
    }
   ],
   "source": [
    "# Now i have to import Best metrics to evaluate Regression Model to chk how well the regression model fits the observed data\n",
    "\n",
    "from sklearn.metrics import r2_score\n",
    "print(r2_score(lr_pd,y_test))"
   ]
  },
  {
   "cell_type": "code",
   "execution_count": 25,
   "metadata": {},
   "outputs": [
    {
     "data": {
      "text/plain": [
       "DecisionTreeRegressor()"
      ]
     },
     "execution_count": 25,
     "metadata": {},
     "output_type": "execute_result"
    }
   ],
   "source": [
    "dtr = DecisionTreeRegressor()\n",
    "dtr.fit(x_train,y_train)"
   ]
  },
  {
   "cell_type": "code",
   "execution_count": 26,
   "metadata": {},
   "outputs": [
    {
     "name": "stdout",
     "output_type": "stream",
     "text": [
      "0.6684090011660766\n"
     ]
    }
   ],
   "source": [
    "dtr_pd = dtr.predict(x_test)\n",
    "print(r2_score(dtr_pd,y_test))"
   ]
  },
  {
   "cell_type": "code",
   "execution_count": 27,
   "metadata": {},
   "outputs": [
    {
     "data": {
      "text/plain": [
       "RandomForestRegressor()"
      ]
     },
     "execution_count": 27,
     "metadata": {},
     "output_type": "execute_result"
    }
   ],
   "source": [
    "rfr = RandomForestRegressor()\n",
    "rfr.fit(x_train,y_train)"
   ]
  },
  {
   "cell_type": "code",
   "execution_count": 28,
   "metadata": {},
   "outputs": [
    {
     "name": "stdout",
     "output_type": "stream",
     "text": [
      "0.7961552113107754\n"
     ]
    }
   ],
   "source": [
    "rfr_pd = rfr.predict(x_test)\n",
    "print(r2_score(rfr_pd,y_test))"
   ]
  },
  {
   "cell_type": "code",
   "execution_count": 29,
   "metadata": {},
   "outputs": [
    {
     "data": {
      "text/plain": [
       "SVR()"
      ]
     },
     "execution_count": 29,
     "metadata": {},
     "output_type": "execute_result"
    }
   ],
   "source": [
    "svr = SVR()\n",
    "svr.fit(x_train,y_train)"
   ]
  },
  {
   "cell_type": "code",
   "execution_count": 30,
   "metadata": {},
   "outputs": [
    {
     "name": "stdout",
     "output_type": "stream",
     "text": [
      "0.8861917230631339\n"
     ]
    }
   ],
   "source": [
    "svr_pd = svr.predict(x_test)\n",
    "print(r2_score(svr_pd,y_test))"
   ]
  },
  {
   "cell_type": "code",
   "execution_count": 31,
   "metadata": {},
   "outputs": [],
   "source": [
    "# Now i have to chk the cross_val_score() function that is  used to perform the evaluation\n",
    "from sklearn.model_selection import cross_val_score"
   ]
  },
  {
   "cell_type": "code",
   "execution_count": 32,
   "metadata": {},
   "outputs": [
    {
     "name": "stdout",
     "output_type": "stream",
     "text": [
      "0.9999981871007761\n"
     ]
    }
   ],
   "source": [
    "print(cross_val_score(lr,x,y,cv=5).mean())"
   ]
  },
  {
   "cell_type": "code",
   "execution_count": 33,
   "metadata": {},
   "outputs": [
    {
     "name": "stdout",
     "output_type": "stream",
     "text": [
      "-6.970778844437428\n"
     ]
    }
   ],
   "source": [
    "print(cross_val_score(dtr,x,y,cv=5).mean())"
   ]
  },
  {
   "cell_type": "code",
   "execution_count": 34,
   "metadata": {},
   "outputs": [
    {
     "name": "stdout",
     "output_type": "stream",
     "text": [
      "-3.1423748082839715\n"
     ]
    }
   ],
   "source": [
    "print(cross_val_score(rfr,x,y,cv=5).mean())"
   ]
  },
  {
   "cell_type": "code",
   "execution_count": 35,
   "metadata": {},
   "outputs": [
    {
     "name": "stdout",
     "output_type": "stream",
     "text": [
      "0.028707305604232625\n"
     ]
    }
   ],
   "source": [
    "print(cross_val_score(svr,x,y,cv=5).mean())"
   ]
  },
  {
   "cell_type": "code",
   "execution_count": 36,
   "metadata": {},
   "outputs": [],
   "source": [
    "# Now i will use Hypertuning method to tune the model \n",
    "\n",
    "from sklearn.model_selection import GridSearchCV\n"
   ]
  },
  {
   "cell_type": "code",
   "execution_count": 37,
   "metadata": {},
   "outputs": [],
   "source": [
    "# taking required parameters to tune the model\n",
    "parameter ={'n_jobs':['None'],\n",
    "            'fit_intercept':['True', 'False'],\n",
    "            'normalize':['True','False'],\n",
    "            'copy_X':['True','False']}"
   ]
  },
  {
   "cell_type": "code",
   "execution_count": 38,
   "metadata": {},
   "outputs": [],
   "source": [
    "gcv = GridSearchCV(LinearRegression(),parameter,cv=5)"
   ]
  },
  {
   "cell_type": "code",
   "execution_count": 39,
   "metadata": {},
   "outputs": [
    {
     "data": {
      "text/plain": [
       "GridSearchCV(cv=5, estimator=LinearRegression(),\n",
       "             param_grid={'copy_X': ['True', 'False'],\n",
       "                         'fit_intercept': ['True', 'False'], 'n_jobs': ['None'],\n",
       "                         'normalize': ['True', 'False']})"
      ]
     },
     "execution_count": 39,
     "metadata": {},
     "output_type": "execute_result"
    }
   ],
   "source": [
    "gcv.fit(x_train,y_train)"
   ]
  },
  {
   "cell_type": "code",
   "execution_count": 40,
   "metadata": {},
   "outputs": [
    {
     "data": {
      "text/plain": [
       "{'copy_X': 'True',\n",
       " 'fit_intercept': 'True',\n",
       " 'n_jobs': 'None',\n",
       " 'normalize': 'True'}"
      ]
     },
     "execution_count": 40,
     "metadata": {},
     "output_type": "execute_result"
    }
   ],
   "source": [
    "# this function will show the best fit parameter which will give maximum accuracy\n",
    "gcv.best_params_"
   ]
  },
  {
   "cell_type": "code",
   "execution_count": 46,
   "metadata": {},
   "outputs": [],
   "source": [
    "# using the parameter which i got from \n",
    "Final_mod = LinearRegression(fit_intercept='True',copy_X='True',n_jobs='None',normalize='True')"
   ]
  },
  {
   "cell_type": "code",
   "execution_count": 47,
   "metadata": {},
   "outputs": [
    {
     "data": {
      "text/plain": [
       "LinearRegression(copy_X='True', fit_intercept='True', n_jobs='None',\n",
       "                 normalize='True')"
      ]
     },
     "execution_count": 47,
     "metadata": {},
     "output_type": "execute_result"
    }
   ],
   "source": [
    "Final_mod.fit(x_train,y_train)"
   ]
  },
  {
   "cell_type": "code",
   "execution_count": 48,
   "metadata": {},
   "outputs": [],
   "source": [
    "Final_mod_predict = Final_mod.predict(x_test)"
   ]
  },
  {
   "cell_type": "code",
   "execution_count": 49,
   "metadata": {},
   "outputs": [
    {
     "name": "stdout",
     "output_type": "stream",
     "text": [
      "0.9759746865136436\n"
     ]
    }
   ],
   "source": [
    "print(r2_score(lr_predict,y_test))"
   ]
  },
  {
   "cell_type": "code",
   "execution_count": 51,
   "metadata": {},
   "outputs": [
    {
     "data": {
      "text/plain": [
       "['final_modle.pkl']"
      ]
     },
     "execution_count": 51,
     "metadata": {},
     "output_type": "execute_result"
    }
   ],
   "source": [
    "import joblib\n",
    "joblib.dump(Final_mod,\"final_modle.pkl\")"
   ]
  },
  {
   "cell_type": "code",
   "execution_count": null,
   "metadata": {},
   "outputs": [],
   "source": []
  }
 ],
 "metadata": {
  "kernelspec": {
   "display_name": "Python 3",
   "language": "python",
   "name": "python3"
  },
  "language_info": {
   "codemirror_mode": {
    "name": "ipython",
    "version": 3
   },
   "file_extension": ".py",
   "mimetype": "text/x-python",
   "name": "python",
   "nbconvert_exporter": "python",
   "pygments_lexer": "ipython3",
   "version": "3.7.6"
  }
 },
 "nbformat": 4,
 "nbformat_minor": 4
}
